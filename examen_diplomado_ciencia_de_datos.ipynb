{
  "nbformat": 4,
  "nbformat_minor": 0,
  "metadata": {
    "colab": {
      "provenance": [],
      "include_colab_link": true
    },
    "kernelspec": {
      "name": "python3",
      "display_name": "Python 3"
    },
    "language_info": {
      "name": "python"
    }
  },
  "cells": [
    {
      "cell_type": "markdown",
      "metadata": {
        "id": "view-in-github",
        "colab_type": "text"
      },
      "source": [
        "<a href=\"https://colab.research.google.com/github/Mendietazo/Diplomado-Ciencia-de-Datos-2024/blob/main/examen_diplomado_ciencia_de_datos.ipynb\" target=\"_parent\"><img src=\"https://colab.research.google.com/assets/colab-badge.svg\" alt=\"Open In Colab\"/></a>"
      ]
    },
    {
      "cell_type": "markdown",
      "source": [
        "# DIPLOMADO CIENCIA MATEMÁTICA DE DATOS\n",
        "\n",
        "## Examen"
      ],
      "metadata": {
        "id": "bGO8EYrcFJIH"
      }
    },
    {
      "cell_type": "markdown",
      "source": [
        "### Examen Teórico"
      ],
      "metadata": {
        "id": "6lftyDPLFjpW"
      }
    },
    {
      "cell_type": "markdown",
      "source": [
        "**Instrucciones**\n",
        "\n",
        "Contesta las siguientes."
      ],
      "metadata": {
        "id": "1g5B7k3wFOOQ"
      }
    },
    {
      "cell_type": "markdown",
      "source": [
        "1. ¿Cuál es la diferencia entre Data Analysis y Data Science?"
      ],
      "metadata": {
        "id": "kmrulhc7GDfU"
      }
    },
    {
      "cell_type": "markdown",
      "source": [
        "**R.** En Data Analyst se aplica estadística descriptiva, se utilizan herramientas de visualización de datos mientras que en Data Science se puede utilizar herramientas de machine learning e inteligencia artificial para hacer predicciones o clasificación de datos."
      ],
      "metadata": {
        "id": "ocaDYWfoGhuE"
      }
    },
    {
      "cell_type": "markdown",
      "source": [
        "2. ¿Cuál es el proposito del análisis exploratorio?"
      ],
      "metadata": {
        "id": "Lb65yZ_VGLTb"
      }
    },
    {
      "cell_type": "markdown",
      "source": [
        "**R.** Tener una idea general de los datos, encontrar patrones y relaciones entre ellos"
      ],
      "metadata": {
        "id": "Fm1K7wWQGizb"
      }
    },
    {
      "cell_type": "markdown",
      "source": [
        "3. ¿Cuáles son los problemas más comunes que uno encuentra en el análisis de datos?"
      ],
      "metadata": {
        "id": "0QbzTLIZGkBP"
      }
    },
    {
      "cell_type": "markdown",
      "source": [
        "**R.** La limpieza de los datos, su interpretación y la comunicación con el cliente"
      ],
      "metadata": {
        "id": "h0QBPk28HAjA"
      }
    },
    {
      "cell_type": "markdown",
      "source": [
        "4. ¿Cuáles son los pasos en un proyecto de análisis de datos?\n"
      ],
      "metadata": {
        "id": "6hrPKolMHKnm"
      }
    },
    {
      "cell_type": "markdown",
      "source": [
        "**R.**\n",
        "\n",
        "\n",
        "1.   Entendimiento del problema\n",
        "2.   Analisis exploratorio\n",
        "3.   limpieza de datos\n",
        "4.   Analisis descriptivo\n",
        "5. Presentación de los datos\n",
        "\n"
      ],
      "metadata": {
        "id": "lJaOeZ3EHTt7"
      }
    },
    {
      "cell_type": "markdown",
      "source": [
        "5. ¿Cuáles son las diferencias en Aprendizaje Supervisado y Aprendizaje No Supervisado?"
      ],
      "metadata": {
        "id": "4gRh3IkoH4Ub"
      }
    },
    {
      "cell_type": "markdown",
      "source": [
        "**R.** En el supervisado nuestros datos tienen un target o etiqueta, mientras que en el no supervisado se busca buscar la clasificación mediante sus patrones"
      ],
      "metadata": {
        "id": "qNOKt9X2IEpt"
      }
    },
    {
      "cell_type": "markdown",
      "source": [
        "6. ¿Qué es Reducción de Dimensiones y cuáles son sus beneficios?"
      ],
      "metadata": {
        "id": "x-WwOJXHIJSN"
      }
    },
    {
      "cell_type": "markdown",
      "source": [
        "**R.** Reducir el número de columnas debido a que no tienen relacion con la columna objetivo o tienen una estrecha relación con alguna otra columna. Como beneficios se reduce la carga de trabajo de los modelos y su tiempo de ejecución."
      ],
      "metadata": {
        "id": "Q-0fxMcPIfbT"
      }
    },
    {
      "cell_type": "markdown",
      "source": [
        "7. ¿Qué son los sistemas de recomendación?"
      ],
      "metadata": {
        "id": "utdZJ92-IjLw"
      }
    },
    {
      "cell_type": "markdown",
      "source": [
        "**R.** Reconoce el comportamiento del cliente y sugiere nuevo contenido que le pueda interesas gracias a el comportamiento de clientes con gustos parecidos en el pasado."
      ],
      "metadata": {
        "id": "e-lPzVd0I1ma"
      }
    },
    {
      "cell_type": "markdown",
      "source": [
        "8. ¿Qué es clustering y para qué sirve en la ciencia de datos?"
      ],
      "metadata": {
        "id": "dqKbbKfUI5Bp"
      }
    },
    {
      "cell_type": "markdown",
      "source": [
        "**R.** Clasifica conjuntos de datos. Además de para sistemas de recomendación sirve para poder describir un conjunto de datos a partir de otros parecidos."
      ],
      "metadata": {
        "id": "IXdUFdcBJNhT"
      }
    },
    {
      "cell_type": "markdown",
      "source": [
        "9. ¿Cómo puedo elegir el mejor valor de K para K-Means?"
      ],
      "metadata": {
        "id": "EbIf8rx5JQpg"
      }
    },
    {
      "cell_type": "markdown",
      "source": [
        "**R.** Se puede utilizar el método del codo."
      ],
      "metadata": {
        "id": "FZenIgOAJabi"
      }
    },
    {
      "cell_type": "markdown",
      "source": [
        "10. ¿Cuál es la diferencia entre los modelos de clasificación y los modelos de regresión?"
      ],
      "metadata": {
        "id": "4xHhvxOjJhd6"
      }
    },
    {
      "cell_type": "markdown",
      "source": [
        "**R.** Dada una entrada de datos x. El modelo de clasificación lo agruparía con otros datos positivos mientras que en regresión le asignaria un valor objetivo"
      ],
      "metadata": {
        "id": "1S2TgL87JsF2"
      }
    },
    {
      "cell_type": "markdown",
      "source": [
        "11. Menciona dos métricas de evaluación para los modelos de regresión y cómo se interpretan."
      ],
      "metadata": {
        "id": "FCWH-14tKArv"
      }
    },
    {
      "cell_type": "markdown",
      "source": [
        "**R.** Regresión lineal: Minimiza la función de minimos cuadrados obteniendo una recta que se acerca a el valor objetivo, funciona para funciones de R -> R.\n",
        "Regresión.\n",
        "Árboles de decision: puede tratarse de más dimenciones, es no lineal pero puede sobrecargarse."
      ],
      "metadata": {
        "id": "8Nc8rZ7vKM8X"
      }
    },
    {
      "cell_type": "markdown",
      "source": [
        "12. ¿Qué es una matriz de confusión? ¿Cuáles métricas de evaluación podemos calcular con ella?"
      ],
      "metadata": {
        "id": "YSMHMt2vKPXd"
      }
    },
    {
      "cell_type": "markdown",
      "source": [
        "**R.** Se contruye a partir del teorema de bayes y puedes evaluar el rendimiento de tu modelo através de los errores de tipo 1 y tipo 2."
      ],
      "metadata": {
        "id": "N1mJECuQKgbw"
      }
    },
    {
      "cell_type": "markdown",
      "source": [
        "13. Menciona las diferencias entre \"correlación\" y \"causalidad\"."
      ],
      "metadata": {
        "id": "26kt-kkPKjwI"
      }
    },
    {
      "cell_type": "markdown",
      "source": [
        "**R.** Una correlación es una forma de medir la relación entre dos variables, entre más alta es esta las variables tienden a subir al mismo tiempo.\n",
        "Ejemplos de esto: La venta de helados aumenta por el calor, al delincuencia aumenta por el calor. Los venta de helado y la delincuencia están correlacionados.\n",
        "\n",
        "La causalidad es cuando el estado de una varible influye en otra, por ejemplo el oxigeno en un estanque de agua ocasiona aumento en el número de microorganismos."
      ],
      "metadata": {
        "id": "a98e8ZvIK_XX"
      }
    },
    {
      "cell_type": "markdown",
      "source": [
        "14. ¿Qué es Deep Learning?"
      ],
      "metadata": {
        "id": "RnmxZPwsLSDg"
      }
    },
    {
      "cell_type": "markdown",
      "source": [
        "**R.** Un tipo de machine learning que está basado en redes neuronales."
      ],
      "metadata": {
        "id": "F7JfYLFsLPhW"
      }
    },
    {
      "cell_type": "markdown",
      "source": [
        "15. ¿Qué es un perceptrón?"
      ],
      "metadata": {
        "id": "vf_JAh03LCps"
      }
    },
    {
      "cell_type": "markdown",
      "source": [
        "**R.** Es el equivalente a una neurona que recibe n entradas y devuelve un 0 o 1"
      ],
      "metadata": {
        "id": "R8qiwdg5LWIJ"
      }
    },
    {
      "cell_type": "markdown",
      "source": [
        "16. ¿Qué es el procesamiento de lenguaje natural (NLP) y cómo se aplica en ciencia de datos?"
      ],
      "metadata": {
        "id": "qXvZAwiYLgTQ"
      }
    },
    {
      "cell_type": "markdown",
      "source": [
        "**R.** Herramientras que permiten el estudio del texto, por ejemplo analisis de sentimientos."
      ],
      "metadata": {
        "id": "dytOZxPpLzjB"
      }
    },
    {
      "cell_type": "markdown",
      "source": [
        "17. ¿Cuál es el mejor modelo de clasificación para NLP y por qué?"
      ],
      "metadata": {
        "id": "lsfijvouL2j2"
      }
    },
    {
      "cell_type": "markdown",
      "source": [
        "**R.** Analisis de Sentimientos, SentimentIntensityAnalyzer. Puede ayudar a las empresas a conocer como los clientes reciben algún producto. Hace tareas que ocuparía mucha trabajo humano"
      ],
      "metadata": {
        "id": "RHoJdO-JMOs_"
      }
    },
    {
      "cell_type": "markdown",
      "source": [
        "18. Menciona 3 casos de usos para Machine Learning."
      ],
      "metadata": {
        "id": "p2QfEf6gMWld"
      }
    },
    {
      "cell_type": "markdown",
      "source": [
        "**R.**\n",
        "1.   En medicina se pueden definir que parametros están relacionado al desarrollo de ciertas enfermedades como el cancer.\n",
        "2.   Clasificar un hueso o cualquier estructura viva como hojas. Y así determinar a que especie pertenece.\n",
        "3.   Puedes crear un sistema de recomendación para diseñar una dieta con productos que agraden al paciente.\n",
        "\n",
        "\n"
      ],
      "metadata": {
        "id": "xVMg2hT1MtPZ"
      }
    },
    {
      "cell_type": "markdown",
      "source": [
        "19. Menciona 2 modelos de predicción y describe brevemente cómo funcionan."
      ],
      "metadata": {
        "id": "KjGeW_AVMv0b"
      }
    },
    {
      "cell_type": "markdown",
      "source": [
        "**R.** Regresion de Maquinas de estado crea una recta que separa dos conjuntos. Esta misma recta se puede utilizar para predicción.\n",
        "Redes neuronales que se entrenan por ejemplos."
      ],
      "metadata": {
        "id": "_E3Yu7IMM4nd"
      }
    },
    {
      "cell_type": "markdown",
      "source": [
        "20. Menciona 2 modelos de clasificación y describe brevemente cómo funcionan."
      ],
      "metadata": {
        "id": "_YIgj7IcM8Qn"
      }
    },
    {
      "cell_type": "markdown",
      "source": [
        "**R.** K-means busca puntos cuya distancias a los puntos del data set están minimizados por minimoscuadrados. Tú escoges la cantidad de estos puntos.\n",
        "El de clustering tiene el enfoque de medir distancias entre los puntos y clasifica dentro de un mismo grupo aquellos que no revasan una distancia establecida, en caso de hacerlo se clasifican en otro grupo."
      ],
      "metadata": {
        "id": "3uoeAuRhNAj_"
      }
    },
    {
      "cell_type": "markdown",
      "source": [
        "### Examen Práctico\n"
      ],
      "metadata": {
        "id": "zLcEiKMnNMWw"
      }
    },
    {
      "cell_type": "markdown",
      "source": [
        "**Instrucciones**\n",
        "Escoge uno de los siguientes datasets, descárgalo, define un problema a resolver y utilízalo para aplicar el modelo de Data Science que mejor creas.\n",
        "* *Bike Sharing Dataset:* https://archive.ics.uci.edu/dataset/275/bike+sharing+dataset\n",
        "* *Stock Market Dataset:* https://www.kaggle.com/datasets/jacksoncrow/stock-market-dataset\n",
        "* *Titanic Dataset:* https://www.kaggle.com/c/titanic/data\n",
        "* *Spam Email Dataset:* https://archive.ics.uci.edu/dataset/94/spambase\n",
        "* *Book-Crossing Dataset:* https://www.kaggle.com/datasets/somnambwl/bookcrossing-dataset\n",
        "* *Twitter Dataset:* https://www.kaggle.com/datasets/jp797498e/twitter-entity-sentiment-analysis"
      ],
      "metadata": {
        "id": "Wp5i94eIN6Rc"
      }
    },
    {
      "cell_type": "markdown",
      "source": [
        "#### **Explicación del problema**"
      ],
      "metadata": {
        "id": "InNdsiBmPQqn"
      }
    },
    {
      "cell_type": "markdown",
      "source": [
        "**R.** El número de bicletas rentadas puede ser afectado por características ambientales, se necesita un modelo de regresión para poder modelar el número de bicicletas rentadas dado las condiciones ambientales. También existen sucesos atípicos que pueden afectar los resultados"
      ],
      "metadata": {
        "id": "nAWO44z1QDKp"
      }
    },
    {
      "cell_type": "markdown",
      "source": [
        "#### **Código**"
      ],
      "metadata": {
        "id": "cNlqk8kVQFhh"
      }
    },
    {
      "cell_type": "code",
      "execution_count": null,
      "metadata": {
        "id": "s47RBd7pFD2z"
      },
      "outputs": [],
      "source": [
        "import plotly.express as px\n",
        "import pandas as pd\n",
        "import matplotlib.pyplot as plt\n",
        "from sklearn.datasets import fetch_california_housing #Base de datos\n",
        "from sklearn.model_selection import train_test_split #Separar el modelo\n",
        "from sklearn.preprocessing import StandardScaler #Normalizar datos\n",
        "from sklearn.svm import SVR #Maquinas de vectores\n",
        "from sklearn.tree import DecisionTreeRegressor, plot_tree #Arboles de decision\n",
        "from sklearn.ensemble import RandomForestRegressor #Arboles aleatorios\n",
        "from sklearn.metrics import mean_squared_error, r2_score #Formas de medir el modelo\n",
        "from sklearn.model_selection import GridSearchCV #En la practica\n",
        "\n",
        "day = pd.read_csv(\"/content/day.csv\")"
      ]
    },
    {
      "cell_type": "code",
      "source": [
        "# Analisis exploratorio\n",
        "day.head()"
      ],
      "metadata": {
        "colab": {
          "base_uri": "https://localhost:8080/",
          "height": 206
        },
        "id": "miwYk5hYgqC7",
        "outputId": "8466aaae-4f49-4428-efab-7314b4ecb4e3"
      },
      "execution_count": null,
      "outputs": [
        {
          "output_type": "execute_result",
          "data": {
            "text/plain": [
              "   instant      dteday  season  yr  mnth  holiday  weekday  workingday  \\\n",
              "0        1  2011-01-01       1   0     1        0        6           0   \n",
              "1        2  2011-01-02       1   0     1        0        0           0   \n",
              "2        3  2011-01-03       1   0     1        0        1           1   \n",
              "3        4  2011-01-04       1   0     1        0        2           1   \n",
              "4        5  2011-01-05       1   0     1        0        3           1   \n",
              "\n",
              "   weathersit      temp     atemp       hum  windspeed  casual  registered  \\\n",
              "0           2  0.344167  0.363625  0.805833   0.160446     331         654   \n",
              "1           2  0.363478  0.353739  0.696087   0.248539     131         670   \n",
              "2           1  0.196364  0.189405  0.437273   0.248309     120        1229   \n",
              "3           1  0.200000  0.212122  0.590435   0.160296     108        1454   \n",
              "4           1  0.226957  0.229270  0.436957   0.186900      82        1518   \n",
              "\n",
              "    cnt  \n",
              "0   985  \n",
              "1   801  \n",
              "2  1349  \n",
              "3  1562  \n",
              "4  1600  "
            ],
            "text/html": [
              "\n",
              "  <div id=\"df-4642f374-4378-48db-92af-cfa6ae494754\" class=\"colab-df-container\">\n",
              "    <div>\n",
              "<style scoped>\n",
              "    .dataframe tbody tr th:only-of-type {\n",
              "        vertical-align: middle;\n",
              "    }\n",
              "\n",
              "    .dataframe tbody tr th {\n",
              "        vertical-align: top;\n",
              "    }\n",
              "\n",
              "    .dataframe thead th {\n",
              "        text-align: right;\n",
              "    }\n",
              "</style>\n",
              "<table border=\"1\" class=\"dataframe\">\n",
              "  <thead>\n",
              "    <tr style=\"text-align: right;\">\n",
              "      <th></th>\n",
              "      <th>instant</th>\n",
              "      <th>dteday</th>\n",
              "      <th>season</th>\n",
              "      <th>yr</th>\n",
              "      <th>mnth</th>\n",
              "      <th>holiday</th>\n",
              "      <th>weekday</th>\n",
              "      <th>workingday</th>\n",
              "      <th>weathersit</th>\n",
              "      <th>temp</th>\n",
              "      <th>atemp</th>\n",
              "      <th>hum</th>\n",
              "      <th>windspeed</th>\n",
              "      <th>casual</th>\n",
              "      <th>registered</th>\n",
              "      <th>cnt</th>\n",
              "    </tr>\n",
              "  </thead>\n",
              "  <tbody>\n",
              "    <tr>\n",
              "      <th>0</th>\n",
              "      <td>1</td>\n",
              "      <td>2011-01-01</td>\n",
              "      <td>1</td>\n",
              "      <td>0</td>\n",
              "      <td>1</td>\n",
              "      <td>0</td>\n",
              "      <td>6</td>\n",
              "      <td>0</td>\n",
              "      <td>2</td>\n",
              "      <td>0.344167</td>\n",
              "      <td>0.363625</td>\n",
              "      <td>0.805833</td>\n",
              "      <td>0.160446</td>\n",
              "      <td>331</td>\n",
              "      <td>654</td>\n",
              "      <td>985</td>\n",
              "    </tr>\n",
              "    <tr>\n",
              "      <th>1</th>\n",
              "      <td>2</td>\n",
              "      <td>2011-01-02</td>\n",
              "      <td>1</td>\n",
              "      <td>0</td>\n",
              "      <td>1</td>\n",
              "      <td>0</td>\n",
              "      <td>0</td>\n",
              "      <td>0</td>\n",
              "      <td>2</td>\n",
              "      <td>0.363478</td>\n",
              "      <td>0.353739</td>\n",
              "      <td>0.696087</td>\n",
              "      <td>0.248539</td>\n",
              "      <td>131</td>\n",
              "      <td>670</td>\n",
              "      <td>801</td>\n",
              "    </tr>\n",
              "    <tr>\n",
              "      <th>2</th>\n",
              "      <td>3</td>\n",
              "      <td>2011-01-03</td>\n",
              "      <td>1</td>\n",
              "      <td>0</td>\n",
              "      <td>1</td>\n",
              "      <td>0</td>\n",
              "      <td>1</td>\n",
              "      <td>1</td>\n",
              "      <td>1</td>\n",
              "      <td>0.196364</td>\n",
              "      <td>0.189405</td>\n",
              "      <td>0.437273</td>\n",
              "      <td>0.248309</td>\n",
              "      <td>120</td>\n",
              "      <td>1229</td>\n",
              "      <td>1349</td>\n",
              "    </tr>\n",
              "    <tr>\n",
              "      <th>3</th>\n",
              "      <td>4</td>\n",
              "      <td>2011-01-04</td>\n",
              "      <td>1</td>\n",
              "      <td>0</td>\n",
              "      <td>1</td>\n",
              "      <td>0</td>\n",
              "      <td>2</td>\n",
              "      <td>1</td>\n",
              "      <td>1</td>\n",
              "      <td>0.200000</td>\n",
              "      <td>0.212122</td>\n",
              "      <td>0.590435</td>\n",
              "      <td>0.160296</td>\n",
              "      <td>108</td>\n",
              "      <td>1454</td>\n",
              "      <td>1562</td>\n",
              "    </tr>\n",
              "    <tr>\n",
              "      <th>4</th>\n",
              "      <td>5</td>\n",
              "      <td>2011-01-05</td>\n",
              "      <td>1</td>\n",
              "      <td>0</td>\n",
              "      <td>1</td>\n",
              "      <td>0</td>\n",
              "      <td>3</td>\n",
              "      <td>1</td>\n",
              "      <td>1</td>\n",
              "      <td>0.226957</td>\n",
              "      <td>0.229270</td>\n",
              "      <td>0.436957</td>\n",
              "      <td>0.186900</td>\n",
              "      <td>82</td>\n",
              "      <td>1518</td>\n",
              "      <td>1600</td>\n",
              "    </tr>\n",
              "  </tbody>\n",
              "</table>\n",
              "</div>\n",
              "    <div class=\"colab-df-buttons\">\n",
              "\n",
              "  <div class=\"colab-df-container\">\n",
              "    <button class=\"colab-df-convert\" onclick=\"convertToInteractive('df-4642f374-4378-48db-92af-cfa6ae494754')\"\n",
              "            title=\"Convert this dataframe to an interactive table.\"\n",
              "            style=\"display:none;\">\n",
              "\n",
              "  <svg xmlns=\"http://www.w3.org/2000/svg\" height=\"24px\" viewBox=\"0 -960 960 960\">\n",
              "    <path d=\"M120-120v-720h720v720H120Zm60-500h600v-160H180v160Zm220 220h160v-160H400v160Zm0 220h160v-160H400v160ZM180-400h160v-160H180v160Zm440 0h160v-160H620v160ZM180-180h160v-160H180v160Zm440 0h160v-160H620v160Z\"/>\n",
              "  </svg>\n",
              "    </button>\n",
              "\n",
              "  <style>\n",
              "    .colab-df-container {\n",
              "      display:flex;\n",
              "      gap: 12px;\n",
              "    }\n",
              "\n",
              "    .colab-df-convert {\n",
              "      background-color: #E8F0FE;\n",
              "      border: none;\n",
              "      border-radius: 50%;\n",
              "      cursor: pointer;\n",
              "      display: none;\n",
              "      fill: #1967D2;\n",
              "      height: 32px;\n",
              "      padding: 0 0 0 0;\n",
              "      width: 32px;\n",
              "    }\n",
              "\n",
              "    .colab-df-convert:hover {\n",
              "      background-color: #E2EBFA;\n",
              "      box-shadow: 0px 1px 2px rgba(60, 64, 67, 0.3), 0px 1px 3px 1px rgba(60, 64, 67, 0.15);\n",
              "      fill: #174EA6;\n",
              "    }\n",
              "\n",
              "    .colab-df-buttons div {\n",
              "      margin-bottom: 4px;\n",
              "    }\n",
              "\n",
              "    [theme=dark] .colab-df-convert {\n",
              "      background-color: #3B4455;\n",
              "      fill: #D2E3FC;\n",
              "    }\n",
              "\n",
              "    [theme=dark] .colab-df-convert:hover {\n",
              "      background-color: #434B5C;\n",
              "      box-shadow: 0px 1px 3px 1px rgba(0, 0, 0, 0.15);\n",
              "      filter: drop-shadow(0px 1px 2px rgba(0, 0, 0, 0.3));\n",
              "      fill: #FFFFFF;\n",
              "    }\n",
              "  </style>\n",
              "\n",
              "    <script>\n",
              "      const buttonEl =\n",
              "        document.querySelector('#df-4642f374-4378-48db-92af-cfa6ae494754 button.colab-df-convert');\n",
              "      buttonEl.style.display =\n",
              "        google.colab.kernel.accessAllowed ? 'block' : 'none';\n",
              "\n",
              "      async function convertToInteractive(key) {\n",
              "        const element = document.querySelector('#df-4642f374-4378-48db-92af-cfa6ae494754');\n",
              "        const dataTable =\n",
              "          await google.colab.kernel.invokeFunction('convertToInteractive',\n",
              "                                                    [key], {});\n",
              "        if (!dataTable) return;\n",
              "\n",
              "        const docLinkHtml = 'Like what you see? Visit the ' +\n",
              "          '<a target=\"_blank\" href=https://colab.research.google.com/notebooks/data_table.ipynb>data table notebook</a>'\n",
              "          + ' to learn more about interactive tables.';\n",
              "        element.innerHTML = '';\n",
              "        dataTable['output_type'] = 'display_data';\n",
              "        await google.colab.output.renderOutput(dataTable, element);\n",
              "        const docLink = document.createElement('div');\n",
              "        docLink.innerHTML = docLinkHtml;\n",
              "        element.appendChild(docLink);\n",
              "      }\n",
              "    </script>\n",
              "  </div>\n",
              "\n",
              "\n",
              "<div id=\"df-6f93e3ec-4a3d-45f5-8600-e79da51dc602\">\n",
              "  <button class=\"colab-df-quickchart\" onclick=\"quickchart('df-6f93e3ec-4a3d-45f5-8600-e79da51dc602')\"\n",
              "            title=\"Suggest charts\"\n",
              "            style=\"display:none;\">\n",
              "\n",
              "<svg xmlns=\"http://www.w3.org/2000/svg\" height=\"24px\"viewBox=\"0 0 24 24\"\n",
              "     width=\"24px\">\n",
              "    <g>\n",
              "        <path d=\"M19 3H5c-1.1 0-2 .9-2 2v14c0 1.1.9 2 2 2h14c1.1 0 2-.9 2-2V5c0-1.1-.9-2-2-2zM9 17H7v-7h2v7zm4 0h-2V7h2v10zm4 0h-2v-4h2v4z\"/>\n",
              "    </g>\n",
              "</svg>\n",
              "  </button>\n",
              "\n",
              "<style>\n",
              "  .colab-df-quickchart {\n",
              "      --bg-color: #E8F0FE;\n",
              "      --fill-color: #1967D2;\n",
              "      --hover-bg-color: #E2EBFA;\n",
              "      --hover-fill-color: #174EA6;\n",
              "      --disabled-fill-color: #AAA;\n",
              "      --disabled-bg-color: #DDD;\n",
              "  }\n",
              "\n",
              "  [theme=dark] .colab-df-quickchart {\n",
              "      --bg-color: #3B4455;\n",
              "      --fill-color: #D2E3FC;\n",
              "      --hover-bg-color: #434B5C;\n",
              "      --hover-fill-color: #FFFFFF;\n",
              "      --disabled-bg-color: #3B4455;\n",
              "      --disabled-fill-color: #666;\n",
              "  }\n",
              "\n",
              "  .colab-df-quickchart {\n",
              "    background-color: var(--bg-color);\n",
              "    border: none;\n",
              "    border-radius: 50%;\n",
              "    cursor: pointer;\n",
              "    display: none;\n",
              "    fill: var(--fill-color);\n",
              "    height: 32px;\n",
              "    padding: 0;\n",
              "    width: 32px;\n",
              "  }\n",
              "\n",
              "  .colab-df-quickchart:hover {\n",
              "    background-color: var(--hover-bg-color);\n",
              "    box-shadow: 0 1px 2px rgba(60, 64, 67, 0.3), 0 1px 3px 1px rgba(60, 64, 67, 0.15);\n",
              "    fill: var(--button-hover-fill-color);\n",
              "  }\n",
              "\n",
              "  .colab-df-quickchart-complete:disabled,\n",
              "  .colab-df-quickchart-complete:disabled:hover {\n",
              "    background-color: var(--disabled-bg-color);\n",
              "    fill: var(--disabled-fill-color);\n",
              "    box-shadow: none;\n",
              "  }\n",
              "\n",
              "  .colab-df-spinner {\n",
              "    border: 2px solid var(--fill-color);\n",
              "    border-color: transparent;\n",
              "    border-bottom-color: var(--fill-color);\n",
              "    animation:\n",
              "      spin 1s steps(1) infinite;\n",
              "  }\n",
              "\n",
              "  @keyframes spin {\n",
              "    0% {\n",
              "      border-color: transparent;\n",
              "      border-bottom-color: var(--fill-color);\n",
              "      border-left-color: var(--fill-color);\n",
              "    }\n",
              "    20% {\n",
              "      border-color: transparent;\n",
              "      border-left-color: var(--fill-color);\n",
              "      border-top-color: var(--fill-color);\n",
              "    }\n",
              "    30% {\n",
              "      border-color: transparent;\n",
              "      border-left-color: var(--fill-color);\n",
              "      border-top-color: var(--fill-color);\n",
              "      border-right-color: var(--fill-color);\n",
              "    }\n",
              "    40% {\n",
              "      border-color: transparent;\n",
              "      border-right-color: var(--fill-color);\n",
              "      border-top-color: var(--fill-color);\n",
              "    }\n",
              "    60% {\n",
              "      border-color: transparent;\n",
              "      border-right-color: var(--fill-color);\n",
              "    }\n",
              "    80% {\n",
              "      border-color: transparent;\n",
              "      border-right-color: var(--fill-color);\n",
              "      border-bottom-color: var(--fill-color);\n",
              "    }\n",
              "    90% {\n",
              "      border-color: transparent;\n",
              "      border-bottom-color: var(--fill-color);\n",
              "    }\n",
              "  }\n",
              "</style>\n",
              "\n",
              "  <script>\n",
              "    async function quickchart(key) {\n",
              "      const quickchartButtonEl =\n",
              "        document.querySelector('#' + key + ' button');\n",
              "      quickchartButtonEl.disabled = true;  // To prevent multiple clicks.\n",
              "      quickchartButtonEl.classList.add('colab-df-spinner');\n",
              "      try {\n",
              "        const charts = await google.colab.kernel.invokeFunction(\n",
              "            'suggestCharts', [key], {});\n",
              "      } catch (error) {\n",
              "        console.error('Error during call to suggestCharts:', error);\n",
              "      }\n",
              "      quickchartButtonEl.classList.remove('colab-df-spinner');\n",
              "      quickchartButtonEl.classList.add('colab-df-quickchart-complete');\n",
              "    }\n",
              "    (() => {\n",
              "      let quickchartButtonEl =\n",
              "        document.querySelector('#df-6f93e3ec-4a3d-45f5-8600-e79da51dc602 button');\n",
              "      quickchartButtonEl.style.display =\n",
              "        google.colab.kernel.accessAllowed ? 'block' : 'none';\n",
              "    })();\n",
              "  </script>\n",
              "</div>\n",
              "\n",
              "    </div>\n",
              "  </div>\n"
            ],
            "application/vnd.google.colaboratory.intrinsic+json": {
              "type": "dataframe",
              "variable_name": "day",
              "summary": "{\n  \"name\": \"day\",\n  \"rows\": 731,\n  \"fields\": [\n    {\n      \"column\": \"instant\",\n      \"properties\": {\n        \"dtype\": \"number\",\n        \"std\": 211,\n        \"min\": 1,\n        \"max\": 731,\n        \"num_unique_values\": 731,\n        \"samples\": [\n          704,\n          34,\n          301\n        ],\n        \"semantic_type\": \"\",\n        \"description\": \"\"\n      }\n    },\n    {\n      \"column\": \"dteday\",\n      \"properties\": {\n        \"dtype\": \"object\",\n        \"num_unique_values\": 731,\n        \"samples\": [\n          \"2012-12-04\",\n          \"2011-02-03\",\n          \"2011-10-28\"\n        ],\n        \"semantic_type\": \"\",\n        \"description\": \"\"\n      }\n    },\n    {\n      \"column\": \"season\",\n      \"properties\": {\n        \"dtype\": \"number\",\n        \"std\": 1,\n        \"min\": 1,\n        \"max\": 4,\n        \"num_unique_values\": 4,\n        \"samples\": [\n          2,\n          4,\n          1\n        ],\n        \"semantic_type\": \"\",\n        \"description\": \"\"\n      }\n    },\n    {\n      \"column\": \"yr\",\n      \"properties\": {\n        \"dtype\": \"number\",\n        \"std\": 0,\n        \"min\": 0,\n        \"max\": 1,\n        \"num_unique_values\": 2,\n        \"samples\": [\n          1,\n          0\n        ],\n        \"semantic_type\": \"\",\n        \"description\": \"\"\n      }\n    },\n    {\n      \"column\": \"mnth\",\n      \"properties\": {\n        \"dtype\": \"number\",\n        \"std\": 3,\n        \"min\": 1,\n        \"max\": 12,\n        \"num_unique_values\": 12,\n        \"samples\": [\n          11,\n          10\n        ],\n        \"semantic_type\": \"\",\n        \"description\": \"\"\n      }\n    },\n    {\n      \"column\": \"holiday\",\n      \"properties\": {\n        \"dtype\": \"number\",\n        \"std\": 0,\n        \"min\": 0,\n        \"max\": 1,\n        \"num_unique_values\": 2,\n        \"samples\": [\n          1,\n          0\n        ],\n        \"semantic_type\": \"\",\n        \"description\": \"\"\n      }\n    },\n    {\n      \"column\": \"weekday\",\n      \"properties\": {\n        \"dtype\": \"number\",\n        \"std\": 2,\n        \"min\": 0,\n        \"max\": 6,\n        \"num_unique_values\": 7,\n        \"samples\": [\n          6,\n          0\n        ],\n        \"semantic_type\": \"\",\n        \"description\": \"\"\n      }\n    },\n    {\n      \"column\": \"workingday\",\n      \"properties\": {\n        \"dtype\": \"number\",\n        \"std\": 0,\n        \"min\": 0,\n        \"max\": 1,\n        \"num_unique_values\": 2,\n        \"samples\": [\n          1,\n          0\n        ],\n        \"semantic_type\": \"\",\n        \"description\": \"\"\n      }\n    },\n    {\n      \"column\": \"weathersit\",\n      \"properties\": {\n        \"dtype\": \"number\",\n        \"std\": 0,\n        \"min\": 1,\n        \"max\": 3,\n        \"num_unique_values\": 3,\n        \"samples\": [\n          2,\n          1\n        ],\n        \"semantic_type\": \"\",\n        \"description\": \"\"\n      }\n    },\n    {\n      \"column\": \"temp\",\n      \"properties\": {\n        \"dtype\": \"number\",\n        \"std\": 0.18305099611148878,\n        \"min\": 0.0591304,\n        \"max\": 0.861667,\n        \"num_unique_values\": 499,\n        \"samples\": [\n          0.544167,\n          0.430435\n        ],\n        \"semantic_type\": \"\",\n        \"description\": \"\"\n      }\n    },\n    {\n      \"column\": \"atemp\",\n      \"properties\": {\n        \"dtype\": \"number\",\n        \"std\": 0.1629611783863113,\n        \"min\": 0.0790696,\n        \"max\": 0.840896,\n        \"num_unique_values\": 690,\n        \"samples\": [\n          0.463375,\n          0.599754\n        ],\n        \"semantic_type\": \"\",\n        \"description\": \"\"\n      }\n    },\n    {\n      \"column\": \"hum\",\n      \"properties\": {\n        \"dtype\": \"number\",\n        \"std\": 0.14242909513835394,\n        \"min\": 0.0,\n        \"max\": 0.9725,\n        \"num_unique_values\": 595,\n        \"samples\": [\n          0.707083,\n          0.718333\n        ],\n        \"semantic_type\": \"\",\n        \"description\": \"\"\n      }\n    },\n    {\n      \"column\": \"windspeed\",\n      \"properties\": {\n        \"dtype\": \"number\",\n        \"std\": 0.07749787068166941,\n        \"min\": 0.0223917,\n        \"max\": 0.507463,\n        \"num_unique_values\": 650,\n        \"samples\": [\n          0.100742,\n          0.139308\n        ],\n        \"semantic_type\": \"\",\n        \"description\": \"\"\n      }\n    },\n    {\n      \"column\": \"casual\",\n      \"properties\": {\n        \"dtype\": \"number\",\n        \"std\": 686,\n        \"min\": 2,\n        \"max\": 3410,\n        \"num_unique_values\": 606,\n        \"samples\": [\n          709,\n          449\n        ],\n        \"semantic_type\": \"\",\n        \"description\": \"\"\n      }\n    },\n    {\n      \"column\": \"registered\",\n      \"properties\": {\n        \"dtype\": \"number\",\n        \"std\": 1560,\n        \"min\": 20,\n        \"max\": 6946,\n        \"num_unique_values\": 679,\n        \"samples\": [\n          4531,\n          2553\n        ],\n        \"semantic_type\": \"\",\n        \"description\": \"\"\n      }\n    },\n    {\n      \"column\": \"cnt\",\n      \"properties\": {\n        \"dtype\": \"number\",\n        \"std\": 1937,\n        \"min\": 22,\n        \"max\": 8714,\n        \"num_unique_values\": 696,\n        \"samples\": [\n          5170,\n          1607\n        ],\n        \"semantic_type\": \"\",\n        \"description\": \"\"\n      }\n    }\n  ]\n}"
            }
          },
          "metadata": {},
          "execution_count": 10
        }
      ]
    },
    {
      "cell_type": "code",
      "source": [
        "#fig = px.scatter_matrix(day, dimensions = day.columns[:-1], title = 'Pares de Variables', height = 1000, color  = 'cnt')\n",
        "fig = px.scatter_matrix(day, dimensions = day.columns, title = 'Pares de Variables', height = 1000, color  = 'cnt')\n",
        "fig.show()"
      ],
      "metadata": {
        "colab": {
          "base_uri": "https://localhost:8080/",
          "height": 1000
        },
        "id": "_6_4wO5zk1mu",
        "outputId": "04ad35c9-6cb1-43bc-e228-27193ea7f551"
      },
      "execution_count": null,
      "outputs": [
        {
          "output_type": "display_data",
          "data": {
            "text/html": [
              "<html>\n",
              "<head><meta charset=\"utf-8\" /></head>\n",
              "<body>\n",
              "    <div>            <script src=\"https://cdnjs.cloudflare.com/ajax/libs/mathjax/2.7.5/MathJax.js?config=TeX-AMS-MML_SVG\"></script><script type=\"text/javascript\">if (window.MathJax && window.MathJax.Hub && window.MathJax.Hub.Config) {window.MathJax.Hub.Config({SVG: {font: \"STIX-Web\"}});}</script>                <script type=\"text/javascript\">window.PlotlyConfig = {MathJaxConfig: 'local'};</script>\n",
              "        <script charset=\"utf-8\" src=\"https://cdn.plot.ly/plotly-2.24.1.min.js\"></script>                <div id=\"e8531382-f4f0-4c75-8318-6b50f41dd38a\" class=\"plotly-graph-div\" style=\"height:1000px; width:100%;\"></div>            <script type=\"text/javascript\">                                    window.PLOTLYENV=window.PLOTLYENV || {};                                    if (document.getElementById(\"e8531382-f4f0-4c75-8318-6b50f41dd38a\")) {                    Plotly.newPlot(                        \"e8531382-f4f0-4c75-8318-6b50f41dd38a\",                        [{\"dimensions\":[{\"axis\":{\"matches\":true},\"label\":\"instant\",\"values\":[1,2,3,4,5,6,7,8,9,10,11,12,13,14,15,16,17,18,19,20,21,22,23,24,25,26,27,28,29,30,31,32,33,34,35,36,37,38,39,40,41,42,43,44,45,46,47,48,49,50,51,52,53,54,55,56,57,58,59,60,61,62,63,64,65,66,67,68,69,70,71,72,73,74,75,76,77,78,79,80,81,82,83,84,85,86,87,88,89,90,91,92,93,94,95,96,97,98,99,100,101,102,103,104,105,106,107,108,109,110,111,112,113,114,115,116,117,118,119,120,121,122,123,124,125,126,127,128,129,130,131,132,133,134,135,136,137,138,139,140,141,142,143,144,145,146,147,148,149,150,151,152,153,154,155,156,157,158,159,160,161,162,163,164,165,166,167,168,169,170,171,172,173,174,175,176,177,178,179,180,181,182,183,184,185,186,187,188,189,190,191,192,193,194,195,196,197,198,199,200,201,202,203,204,205,206,207,208,209,210,211,212,213,214,215,216,217,218,219,220,221,222,223,224,225,226,227,228,229,230,231,232,233,234,235,236,237,238,239,240,241,242,243,244,245,246,247,248,249,250,251,252,253,254,255,256,257,258,259,260,261,262,263,264,265,266,267,268,269,270,271,272,273,274,275,276,277,278,279,280,281,282,283,284,285,286,287,288,289,290,291,292,293,294,295,296,297,298,299,300,301,302,303,304,305,306,307,308,309,310,311,312,313,314,315,316,317,318,319,320,321,322,323,324,325,326,327,328,329,330,331,332,333,334,335,336,337,338,339,340,341,342,343,344,345,346,347,348,349,350,351,352,353,354,355,356,357,358,359,360,361,362,363,364,365,366,367,368,369,370,371,372,373,374,375,376,377,378,379,380,381,382,383,384,385,386,387,388,389,390,391,392,393,394,395,396,397,398,399,400,401,402,403,404,405,406,407,408,409,410,411,412,413,414,415,416,417,418,419,420,421,422,423,424,425,426,427,428,429,430,431,432,433,434,435,436,437,438,439,440,441,442,443,444,445,446,447,448,449,450,451,452,453,454,455,456,457,458,459,460,461,462,463,464,465,466,467,468,469,470,471,472,473,474,475,476,477,478,479,480,481,482,483,484,485,486,487,488,489,490,491,492,493,494,495,496,497,498,499,500,501,502,503,504,505,506,507,508,509,510,511,512,513,514,515,516,517,518,519,520,521,522,523,524,525,526,527,528,529,530,531,532,533,534,535,536,537,538,539,540,541,542,543,544,545,546,547,548,549,550,551,552,553,554,555,556,557,558,559,560,561,562,563,564,565,566,567,568,569,570,571,572,573,574,575,576,577,578,579,580,581,582,583,584,585,586,587,588,589,590,591,592,593,594,595,596,597,598,599,600,601,602,603,604,605,606,607,608,609,610,611,612,613,614,615,616,617,618,619,620,621,622,623,624,625,626,627,628,629,630,631,632,633,634,635,636,637,638,639,640,641,642,643,644,645,646,647,648,649,650,651,652,653,654,655,656,657,658,659,660,661,662,663,664,665,666,667,668,669,670,671,672,673,674,675,676,677,678,679,680,681,682,683,684,685,686,687,688,689,690,691,692,693,694,695,696,697,698,699,700,701,702,703,704,705,706,707,708,709,710,711,712,713,714,715,716,717,718,719,720,721,722,723,724,725,726,727,728,729,730,731]},{\"axis\":{\"matches\":true},\"label\":\"dteday\",\"values\":[\"2011-01-01\",\"2011-01-02\",\"2011-01-03\",\"2011-01-04\",\"2011-01-05\",\"2011-01-06\",\"2011-01-07\",\"2011-01-08\",\"2011-01-09\",\"2011-01-10\",\"2011-01-11\",\"2011-01-12\",\"2011-01-13\",\"2011-01-14\",\"2011-01-15\",\"2011-01-16\",\"2011-01-17\",\"2011-01-18\",\"2011-01-19\",\"2011-01-20\",\"2011-01-21\",\"2011-01-22\",\"2011-01-23\",\"2011-01-24\",\"2011-01-25\",\"2011-01-26\",\"2011-01-27\",\"2011-01-28\",\"2011-01-29\",\"2011-01-30\",\"2011-01-31\",\"2011-02-01\",\"2011-02-02\",\"2011-02-03\",\"2011-02-04\",\"2011-02-05\",\"2011-02-06\",\"2011-02-07\",\"2011-02-08\",\"2011-02-09\",\"2011-02-10\",\"2011-02-11\",\"2011-02-12\",\"2011-02-13\",\"2011-02-14\",\"2011-02-15\",\"2011-02-16\",\"2011-02-17\",\"2011-02-18\",\"2011-02-19\",\"2011-02-20\",\"2011-02-21\",\"2011-02-22\",\"2011-02-23\",\"2011-02-24\",\"2011-02-25\",\"2011-02-26\",\"2011-02-27\",\"2011-02-28\",\"2011-03-01\",\"2011-03-02\",\"2011-03-03\",\"2011-03-04\",\"2011-03-05\",\"2011-03-06\",\"2011-03-07\",\"2011-03-08\",\"2011-03-09\",\"2011-03-10\",\"2011-03-11\",\"2011-03-12\",\"2011-03-13\",\"2011-03-14\",\"2011-03-15\",\"2011-03-16\",\"2011-03-17\",\"2011-03-18\",\"2011-03-19\",\"2011-03-20\",\"2011-03-21\",\"2011-03-22\",\"2011-03-23\",\"2011-03-24\",\"2011-03-25\",\"2011-03-26\",\"2011-03-27\",\"2011-03-28\",\"2011-03-29\",\"2011-03-30\",\"2011-03-31\",\"2011-04-01\",\"2011-04-02\",\"2011-04-03\",\"2011-04-04\",\"2011-04-05\",\"2011-04-06\",\"2011-04-07\",\"2011-04-08\",\"2011-04-09\",\"2011-04-10\",\"2011-04-11\",\"2011-04-12\",\"2011-04-13\",\"2011-04-14\",\"2011-04-15\",\"2011-04-16\",\"2011-04-17\",\"2011-04-18\",\"2011-04-19\",\"2011-04-20\",\"2011-04-21\",\"2011-04-22\",\"2011-04-23\",\"2011-04-24\",\"2011-04-25\",\"2011-04-26\",\"2011-04-27\",\"2011-04-28\",\"2011-04-29\",\"2011-04-30\",\"2011-05-01\",\"2011-05-02\",\"2011-05-03\",\"2011-05-04\",\"2011-05-05\",\"2011-05-06\",\"2011-05-07\",\"2011-05-08\",\"2011-05-09\",\"2011-05-10\",\"2011-05-11\",\"2011-05-12\",\"2011-05-13\",\"2011-05-14\",\"2011-05-15\",\"2011-05-16\",\"2011-05-17\",\"2011-05-18\",\"2011-05-19\",\"2011-05-20\",\"2011-05-21\",\"2011-05-22\",\"2011-05-23\",\"2011-05-24\",\"2011-05-25\",\"2011-05-26\",\"2011-05-27\",\"2011-05-28\",\"2011-05-29\",\"2011-05-30\",\"2011-05-31\",\"2011-06-01\",\"2011-06-02\",\"2011-06-03\",\"2011-06-04\",\"2011-06-05\",\"2011-06-06\",\"2011-06-07\",\"2011-06-08\",\"2011-06-09\",\"2011-06-10\",\"2011-06-11\",\"2011-06-12\",\"2011-06-13\",\"2011-06-14\",\"2011-06-15\",\"2011-06-16\",\"2011-06-17\",\"2011-06-18\",\"2011-06-19\",\"2011-06-20\",\"2011-06-21\",\"2011-06-22\",\"2011-06-23\",\"2011-06-24\",\"2011-06-25\",\"2011-06-26\",\"2011-06-27\",\"2011-06-28\",\"2011-06-29\",\"2011-06-30\",\"2011-07-01\",\"2011-07-02\",\"2011-07-03\",\"2011-07-04\",\"2011-07-05\",\"2011-07-06\",\"2011-07-07\",\"2011-07-08\",\"2011-07-09\",\"2011-07-10\",\"2011-07-11\",\"2011-07-12\",\"2011-07-13\",\"2011-07-14\",\"2011-07-15\",\"2011-07-16\",\"2011-07-17\",\"2011-07-18\",\"2011-07-19\",\"2011-07-20\",\"2011-07-21\",\"2011-07-22\",\"2011-07-23\",\"2011-07-24\",\"2011-07-25\",\"2011-07-26\",\"2011-07-27\",\"2011-07-28\",\"2011-07-29\",\"2011-07-30\",\"2011-07-31\",\"2011-08-01\",\"2011-08-02\",\"2011-08-03\",\"2011-08-04\",\"2011-08-05\",\"2011-08-06\",\"2011-08-07\",\"2011-08-08\",\"2011-08-09\",\"2011-08-10\",\"2011-08-11\",\"2011-08-12\",\"2011-08-13\",\"2011-08-14\",\"2011-08-15\",\"2011-08-16\",\"2011-08-17\",\"2011-08-18\",\"2011-08-19\",\"2011-08-20\",\"2011-08-21\",\"2011-08-22\",\"2011-08-23\",\"2011-08-24\",\"2011-08-25\",\"2011-08-26\",\"2011-08-27\",\"2011-08-28\",\"2011-08-29\",\"2011-08-30\",\"2011-08-31\",\"2011-09-01\",\"2011-09-02\",\"2011-09-03\",\"2011-09-04\",\"2011-09-05\",\"2011-09-06\",\"2011-09-07\",\"2011-09-08\",\"2011-09-09\",\"2011-09-10\",\"2011-09-11\",\"2011-09-12\",\"2011-09-13\",\"2011-09-14\",\"2011-09-15\",\"2011-09-16\",\"2011-09-17\",\"2011-09-18\",\"2011-09-19\",\"2011-09-20\",\"2011-09-21\",\"2011-09-22\",\"2011-09-23\",\"2011-09-24\",\"2011-09-25\",\"2011-09-26\",\"2011-09-27\",\"2011-09-28\",\"2011-09-29\",\"2011-09-30\",\"2011-10-01\",\"2011-10-02\",\"2011-10-03\",\"2011-10-04\",\"2011-10-05\",\"2011-10-06\",\"2011-10-07\",\"2011-10-08\",\"2011-10-09\",\"2011-10-10\",\"2011-10-11\",\"2011-10-12\",\"2011-10-13\",\"2011-10-14\",\"2011-10-15\",\"2011-10-16\",\"2011-10-17\",\"2011-10-18\",\"2011-10-19\",\"2011-10-20\",\"2011-10-21\",\"2011-10-22\",\"2011-10-23\",\"2011-10-24\",\"2011-10-25\",\"2011-10-26\",\"2011-10-27\",\"2011-10-28\",\"2011-10-29\",\"2011-10-30\",\"2011-10-31\",\"2011-11-01\",\"2011-11-02\",\"2011-11-03\",\"2011-11-04\",\"2011-11-05\",\"2011-11-06\",\"2011-11-07\",\"2011-11-08\",\"2011-11-09\",\"2011-11-10\",\"2011-11-11\",\"2011-11-12\",\"2011-11-13\",\"2011-11-14\",\"2011-11-15\",\"2011-11-16\",\"2011-11-17\",\"2011-11-18\",\"2011-11-19\",\"2011-11-20\",\"2011-11-21\",\"2011-11-22\",\"2011-11-23\",\"2011-11-24\",\"2011-11-25\",\"2011-11-26\",\"2011-11-27\",\"2011-11-28\",\"2011-11-29\",\"2011-11-30\",\"2011-12-01\",\"2011-12-02\",\"2011-12-03\",\"2011-12-04\",\"2011-12-05\",\"2011-12-06\",\"2011-12-07\",\"2011-12-08\",\"2011-12-09\",\"2011-12-10\",\"2011-12-11\",\"2011-12-12\",\"2011-12-13\",\"2011-12-14\",\"2011-12-15\",\"2011-12-16\",\"2011-12-17\",\"2011-12-18\",\"2011-12-19\",\"2011-12-20\",\"2011-12-21\",\"2011-12-22\",\"2011-12-23\",\"2011-12-24\",\"2011-12-25\",\"2011-12-26\",\"2011-12-27\",\"2011-12-28\",\"2011-12-29\",\"2011-12-30\",\"2011-12-31\",\"2012-01-01\",\"2012-01-02\",\"2012-01-03\",\"2012-01-04\",\"2012-01-05\",\"2012-01-06\",\"2012-01-07\",\"2012-01-08\",\"2012-01-09\",\"2012-01-10\",\"2012-01-11\",\"2012-01-12\",\"2012-01-13\",\"2012-01-14\",\"2012-01-15\",\"2012-01-16\",\"2012-01-17\",\"2012-01-18\",\"2012-01-19\",\"2012-01-20\",\"2012-01-21\",\"2012-01-22\",\"2012-01-23\",\"2012-01-24\",\"2012-01-25\",\"2012-01-26\",\"2012-01-27\",\"2012-01-28\",\"2012-01-29\",\"2012-01-30\",\"2012-01-31\",\"2012-02-01\",\"2012-02-02\",\"2012-02-03\",\"2012-02-04\",\"2012-02-05\",\"2012-02-06\",\"2012-02-07\",\"2012-02-08\",\"2012-02-09\",\"2012-02-10\",\"2012-02-11\",\"2012-02-12\",\"2012-02-13\",\"2012-02-14\",\"2012-02-15\",\"2012-02-16\",\"2012-02-17\",\"2012-02-18\",\"2012-02-19\",\"2012-02-20\",\"2012-02-21\",\"2012-02-22\",\"2012-02-23\",\"2012-02-24\",\"2012-02-25\",\"2012-02-26\",\"2012-02-27\",\"2012-02-28\",\"2012-02-29\",\"2012-03-01\",\"2012-03-02\",\"2012-03-03\",\"2012-03-04\",\"2012-03-05\",\"2012-03-06\",\"2012-03-07\",\"2012-03-08\",\"2012-03-09\",\"2012-03-10\",\"2012-03-11\",\"2012-03-12\",\"2012-03-13\",\"2012-03-14\",\"2012-03-15\",\"2012-03-16\",\"2012-03-17\",\"2012-03-18\",\"2012-03-19\",\"2012-03-20\",\"2012-03-21\",\"2012-03-22\",\"2012-03-23\",\"2012-03-24\",\"2012-03-25\",\"2012-03-26\",\"2012-03-27\",\"2012-03-28\",\"2012-03-29\",\"2012-03-30\",\"2012-03-31\",\"2012-04-01\",\"2012-04-02\",\"2012-04-03\",\"2012-04-04\",\"2012-04-05\",\"2012-04-06\",\"2012-04-07\",\"2012-04-08\",\"2012-04-09\",\"2012-04-10\",\"2012-04-11\",\"2012-04-12\",\"2012-04-13\",\"2012-04-14\",\"2012-04-15\",\"2012-04-16\",\"2012-04-17\",\"2012-04-18\",\"2012-04-19\",\"2012-04-20\",\"2012-04-21\",\"2012-04-22\",\"2012-04-23\",\"2012-04-24\",\"2012-04-25\",\"2012-04-26\",\"2012-04-27\",\"2012-04-28\",\"2012-04-29\",\"2012-04-30\",\"2012-05-01\",\"2012-05-02\",\"2012-05-03\",\"2012-05-04\",\"2012-05-05\",\"2012-05-06\",\"2012-05-07\",\"2012-05-08\",\"2012-05-09\",\"2012-05-10\",\"2012-05-11\",\"2012-05-12\",\"2012-05-13\",\"2012-05-14\",\"2012-05-15\",\"2012-05-16\",\"2012-05-17\",\"2012-05-18\",\"2012-05-19\",\"2012-05-20\",\"2012-05-21\",\"2012-05-22\",\"2012-05-23\",\"2012-05-24\",\"2012-05-25\",\"2012-05-26\",\"2012-05-27\",\"2012-05-28\",\"2012-05-29\",\"2012-05-30\",\"2012-05-31\",\"2012-06-01\",\"2012-06-02\",\"2012-06-03\",\"2012-06-04\",\"2012-06-05\",\"2012-06-06\",\"2012-06-07\",\"2012-06-08\",\"2012-06-09\",\"2012-06-10\",\"2012-06-11\",\"2012-06-12\",\"2012-06-13\",\"2012-06-14\",\"2012-06-15\",\"2012-06-16\",\"2012-06-17\",\"2012-06-18\",\"2012-06-19\",\"2012-06-20\",\"2012-06-21\",\"2012-06-22\",\"2012-06-23\",\"2012-06-24\",\"2012-06-25\",\"2012-06-26\",\"2012-06-27\",\"2012-06-28\",\"2012-06-29\",\"2012-06-30\",\"2012-07-01\",\"2012-07-02\",\"2012-07-03\",\"2012-07-04\",\"2012-07-05\",\"2012-07-06\",\"2012-07-07\",\"2012-07-08\",\"2012-07-09\",\"2012-07-10\",\"2012-07-11\",\"2012-07-12\",\"2012-07-13\",\"2012-07-14\",\"2012-07-15\",\"2012-07-16\",\"2012-07-17\",\"2012-07-18\",\"2012-07-19\",\"2012-07-20\",\"2012-07-21\",\"2012-07-22\",\"2012-07-23\",\"2012-07-24\",\"2012-07-25\",\"2012-07-26\",\"2012-07-27\",\"2012-07-28\",\"2012-07-29\",\"2012-07-30\",\"2012-07-31\",\"2012-08-01\",\"2012-08-02\",\"2012-08-03\",\"2012-08-04\",\"2012-08-05\",\"2012-08-06\",\"2012-08-07\",\"2012-08-08\",\"2012-08-09\",\"2012-08-10\",\"2012-08-11\",\"2012-08-12\",\"2012-08-13\",\"2012-08-14\",\"2012-08-15\",\"2012-08-16\",\"2012-08-17\",\"2012-08-18\",\"2012-08-19\",\"2012-08-20\",\"2012-08-21\",\"2012-08-22\",\"2012-08-23\",\"2012-08-24\",\"2012-08-25\",\"2012-08-26\",\"2012-08-27\",\"2012-08-28\",\"2012-08-29\",\"2012-08-30\",\"2012-08-31\",\"2012-09-01\",\"2012-09-02\",\"2012-09-03\",\"2012-09-04\",\"2012-09-05\",\"2012-09-06\",\"2012-09-07\",\"2012-09-08\",\"2012-09-09\",\"2012-09-10\",\"2012-09-11\",\"2012-09-12\",\"2012-09-13\",\"2012-09-14\",\"2012-09-15\",\"2012-09-16\",\"2012-09-17\",\"2012-09-18\",\"2012-09-19\",\"2012-09-20\",\"2012-09-21\",\"2012-09-22\",\"2012-09-23\",\"2012-09-24\",\"2012-09-25\",\"2012-09-26\",\"2012-09-27\",\"2012-09-28\",\"2012-09-29\",\"2012-09-30\",\"2012-10-01\",\"2012-10-02\",\"2012-10-03\",\"2012-10-04\",\"2012-10-05\",\"2012-10-06\",\"2012-10-07\",\"2012-10-08\",\"2012-10-09\",\"2012-10-10\",\"2012-10-11\",\"2012-10-12\",\"2012-10-13\",\"2012-10-14\",\"2012-10-15\",\"2012-10-16\",\"2012-10-17\",\"2012-10-18\",\"2012-10-19\",\"2012-10-20\",\"2012-10-21\",\"2012-10-22\",\"2012-10-23\",\"2012-10-24\",\"2012-10-25\",\"2012-10-26\",\"2012-10-27\",\"2012-10-28\",\"2012-10-29\",\"2012-10-30\",\"2012-10-31\",\"2012-11-01\",\"2012-11-02\",\"2012-11-03\",\"2012-11-04\",\"2012-11-05\",\"2012-11-06\",\"2012-11-07\",\"2012-11-08\",\"2012-11-09\",\"2012-11-10\",\"2012-11-11\",\"2012-11-12\",\"2012-11-13\",\"2012-11-14\",\"2012-11-15\",\"2012-11-16\",\"2012-11-17\",\"2012-11-18\",\"2012-11-19\",\"2012-11-20\",\"2012-11-21\",\"2012-11-22\",\"2012-11-23\",\"2012-11-24\",\"2012-11-25\",\"2012-11-26\",\"2012-11-27\",\"2012-11-28\",\"2012-11-29\",\"2012-11-30\",\"2012-12-01\",\"2012-12-02\",\"2012-12-03\",\"2012-12-04\",\"2012-12-05\",\"2012-12-06\",\"2012-12-07\",\"2012-12-08\",\"2012-12-09\",\"2012-12-10\",\"2012-12-11\",\"2012-12-12\",\"2012-12-13\",\"2012-12-14\",\"2012-12-15\",\"2012-12-16\",\"2012-12-17\",\"2012-12-18\",\"2012-12-19\",\"2012-12-20\",\"2012-12-21\",\"2012-12-22\",\"2012-12-23\",\"2012-12-24\",\"2012-12-25\",\"2012-12-26\",\"2012-12-27\",\"2012-12-28\",\"2012-12-29\",\"2012-12-30\",\"2012-12-31\"]},{\"axis\":{\"matches\":true},\"label\":\"season\",\"values\":[1,1,1,1,1,1,1,1,1,1,1,1,1,1,1,1,1,1,1,1,1,1,1,1,1,1,1,1,1,1,1,1,1,1,1,1,1,1,1,1,1,1,1,1,1,1,1,1,1,1,1,1,1,1,1,1,1,1,1,1,1,1,1,1,1,1,1,1,1,1,1,1,1,1,1,1,1,1,1,2,2,2,2,2,2,2,2,2,2,2,2,2,2,2,2,2,2,2,2,2,2,2,2,2,2,2,2,2,2,2,2,2,2,2,2,2,2,2,2,2,2,2,2,2,2,2,2,2,2,2,2,2,2,2,2,2,2,2,2,2,2,2,2,2,2,2,2,2,2,2,2,2,2,2,2,2,2,2,2,2,2,2,2,2,2,2,2,2,2,2,2,3,3,3,3,3,3,3,3,3,3,3,3,3,3,3,3,3,3,3,3,3,3,3,3,3,3,3,3,3,3,3,3,3,3,3,3,3,3,3,3,3,3,3,3,3,3,3,3,3,3,3,3,3,3,3,3,3,3,3,3,3,3,3,3,3,3,3,3,3,3,3,3,3,3,3,3,3,3,3,3,3,3,3,3,3,3,3,3,3,3,3,3,3,3,4,4,4,4,4,4,4,4,4,4,4,4,4,4,4,4,4,4,4,4,4,4,4,4,4,4,4,4,4,4,4,4,4,4,4,4,4,4,4,4,4,4,4,4,4,4,4,4,4,4,4,4,4,4,4,4,4,4,4,4,4,4,4,4,4,4,4,4,4,4,4,4,4,4,4,4,4,4,4,4,4,4,4,4,4,4,4,4,4,1,1,1,1,1,1,1,1,1,1,1,1,1,1,1,1,1,1,1,1,1,1,1,1,1,1,1,1,1,1,1,1,1,1,1,1,1,1,1,1,1,1,1,1,1,1,1,1,1,1,1,1,1,1,1,1,1,1,1,1,1,1,1,1,1,1,1,1,1,1,1,1,1,1,1,1,1,1,1,1,1,1,1,1,1,1,1,1,1,1,1,2,2,2,2,2,2,2,2,2,2,2,2,2,2,2,2,2,2,2,2,2,2,2,2,2,2,2,2,2,2,2,2,2,2,2,2,2,2,2,2,2,2,2,2,2,2,2,2,2,2,2,2,2,2,2,2,2,2,2,2,2,2,2,2,2,2,2,2,2,2,2,2,2,2,2,2,2,2,2,2,2,2,2,2,2,2,2,2,2,2,2,2,3,3,3,3,3,3,3,3,3,3,3,3,3,3,3,3,3,3,3,3,3,3,3,3,3,3,3,3,3,3,3,3,3,3,3,3,3,3,3,3,3,3,3,3,3,3,3,3,3,3,3,3,3,3,3,3,3,3,3,3,3,3,3,3,3,3,3,3,3,3,3,3,3,3,3,3,3,3,3,3,3,3,3,3,3,3,3,3,3,3,3,3,3,3,4,4,4,4,4,4,4,4,4,4,4,4,4,4,4,4,4,4,4,4,4,4,4,4,4,4,4,4,4,4,4,4,4,4,4,4,4,4,4,4,4,4,4,4,4,4,4,4,4,4,4,4,4,4,4,4,4,4,4,4,4,4,4,4,4,4,4,4,4,4,4,4,4,4,4,4,4,4,4,4,4,4,4,4,4,4,4,4,4,1,1,1,1,1,1,1,1,1,1,1]},{\"axis\":{\"matches\":true},\"label\":\"yr\",\"values\":[0,0,0,0,0,0,0,0,0,0,0,0,0,0,0,0,0,0,0,0,0,0,0,0,0,0,0,0,0,0,0,0,0,0,0,0,0,0,0,0,0,0,0,0,0,0,0,0,0,0,0,0,0,0,0,0,0,0,0,0,0,0,0,0,0,0,0,0,0,0,0,0,0,0,0,0,0,0,0,0,0,0,0,0,0,0,0,0,0,0,0,0,0,0,0,0,0,0,0,0,0,0,0,0,0,0,0,0,0,0,0,0,0,0,0,0,0,0,0,0,0,0,0,0,0,0,0,0,0,0,0,0,0,0,0,0,0,0,0,0,0,0,0,0,0,0,0,0,0,0,0,0,0,0,0,0,0,0,0,0,0,0,0,0,0,0,0,0,0,0,0,0,0,0,0,0,0,0,0,0,0,0,0,0,0,0,0,0,0,0,0,0,0,0,0,0,0,0,0,0,0,0,0,0,0,0,0,0,0,0,0,0,0,0,0,0,0,0,0,0,0,0,0,0,0,0,0,0,0,0,0,0,0,0,0,0,0,0,0,0,0,0,0,0,0,0,0,0,0,0,0,0,0,0,0,0,0,0,0,0,0,0,0,0,0,0,0,0,0,0,0,0,0,0,0,0,0,0,0,0,0,0,0,0,0,0,0,0,0,0,0,0,0,0,0,0,0,0,0,0,0,0,0,0,0,0,0,0,0,0,0,0,0,0,0,0,0,0,0,0,0,0,0,0,0,0,0,0,0,0,0,0,0,0,0,0,0,0,0,0,0,0,0,0,0,0,0,0,0,0,0,0,0,0,0,0,0,0,0,0,0,0,0,0,0,1,1,1,1,1,1,1,1,1,1,1,1,1,1,1,1,1,1,1,1,1,1,1,1,1,1,1,1,1,1,1,1,1,1,1,1,1,1,1,1,1,1,1,1,1,1,1,1,1,1,1,1,1,1,1,1,1,1,1,1,1,1,1,1,1,1,1,1,1,1,1,1,1,1,1,1,1,1,1,1,1,1,1,1,1,1,1,1,1,1,1,1,1,1,1,1,1,1,1,1,1,1,1,1,1,1,1,1,1,1,1,1,1,1,1,1,1,1,1,1,1,1,1,1,1,1,1,1,1,1,1,1,1,1,1,1,1,1,1,1,1,1,1,1,1,1,1,1,1,1,1,1,1,1,1,1,1,1,1,1,1,1,1,1,1,1,1,1,1,1,1,1,1,1,1,1,1,1,1,1,1,1,1,1,1,1,1,1,1,1,1,1,1,1,1,1,1,1,1,1,1,1,1,1,1,1,1,1,1,1,1,1,1,1,1,1,1,1,1,1,1,1,1,1,1,1,1,1,1,1,1,1,1,1,1,1,1,1,1,1,1,1,1,1,1,1,1,1,1,1,1,1,1,1,1,1,1,1,1,1,1,1,1,1,1,1,1,1,1,1,1,1,1,1,1,1,1,1,1,1,1,1,1,1,1,1,1,1,1,1,1,1,1,1,1,1,1,1,1,1,1,1,1,1,1,1,1,1,1,1,1,1,1,1,1,1,1,1,1,1,1,1,1,1,1,1,1,1,1,1,1,1,1,1,1,1,1,1,1,1,1,1,1,1,1,1,1,1,1,1,1,1,1,1,1,1,1,1,1,1,1,1,1,1,1,1]},{\"axis\":{\"matches\":true},\"label\":\"mnth\",\"values\":[1,1,1,1,1,1,1,1,1,1,1,1,1,1,1,1,1,1,1,1,1,1,1,1,1,1,1,1,1,1,1,2,2,2,2,2,2,2,2,2,2,2,2,2,2,2,2,2,2,2,2,2,2,2,2,2,2,2,2,3,3,3,3,3,3,3,3,3,3,3,3,3,3,3,3,3,3,3,3,3,3,3,3,3,3,3,3,3,3,3,4,4,4,4,4,4,4,4,4,4,4,4,4,4,4,4,4,4,4,4,4,4,4,4,4,4,4,4,4,4,5,5,5,5,5,5,5,5,5,5,5,5,5,5,5,5,5,5,5,5,5,5,5,5,5,5,5,5,5,5,5,6,6,6,6,6,6,6,6,6,6,6,6,6,6,6,6,6,6,6,6,6,6,6,6,6,6,6,6,6,6,7,7,7,7,7,7,7,7,7,7,7,7,7,7,7,7,7,7,7,7,7,7,7,7,7,7,7,7,7,7,7,8,8,8,8,8,8,8,8,8,8,8,8,8,8,8,8,8,8,8,8,8,8,8,8,8,8,8,8,8,8,8,9,9,9,9,9,9,9,9,9,9,9,9,9,9,9,9,9,9,9,9,9,9,9,9,9,9,9,9,9,9,10,10,10,10,10,10,10,10,10,10,10,10,10,10,10,10,10,10,10,10,10,10,10,10,10,10,10,10,10,10,10,11,11,11,11,11,11,11,11,11,11,11,11,11,11,11,11,11,11,11,11,11,11,11,11,11,11,11,11,11,11,12,12,12,12,12,12,12,12,12,12,12,12,12,12,12,12,12,12,12,12,12,12,12,12,12,12,12,12,12,12,12,1,1,1,1,1,1,1,1,1,1,1,1,1,1,1,1,1,1,1,1,1,1,1,1,1,1,1,1,1,1,1,2,2,2,2,2,2,2,2,2,2,2,2,2,2,2,2,2,2,2,2,2,2,2,2,2,2,2,2,2,3,3,3,3,3,3,3,3,3,3,3,3,3,3,3,3,3,3,3,3,3,3,3,3,3,3,3,3,3,3,3,4,4,4,4,4,4,4,4,4,4,4,4,4,4,4,4,4,4,4,4,4,4,4,4,4,4,4,4,4,4,5,5,5,5,5,5,5,5,5,5,5,5,5,5,5,5,5,5,5,5,5,5,5,5,5,5,5,5,5,5,5,6,6,6,6,6,6,6,6,6,6,6,6,6,6,6,6,6,6,6,6,6,6,6,6,6,6,6,6,6,6,7,7,7,7,7,7,7,7,7,7,7,7,7,7,7,7,7,7,7,7,7,7,7,7,7,7,7,7,7,7,7,8,8,8,8,8,8,8,8,8,8,8,8,8,8,8,8,8,8,8,8,8,8,8,8,8,8,8,8,8,8,8,9,9,9,9,9,9,9,9,9,9,9,9,9,9,9,9,9,9,9,9,9,9,9,9,9,9,9,9,9,9,10,10,10,10,10,10,10,10,10,10,10,10,10,10,10,10,10,10,10,10,10,10,10,10,10,10,10,10,10,10,10,11,11,11,11,11,11,11,11,11,11,11,11,11,11,11,11,11,11,11,11,11,11,11,11,11,11,11,11,11,11,12,12,12,12,12,12,12,12,12,12,12,12,12,12,12,12,12,12,12,12,12,12,12,12,12,12,12,12,12,12,12]},{\"axis\":{\"matches\":true},\"label\":\"holiday\",\"values\":[0,0,0,0,0,0,0,0,0,0,0,0,0,0,0,0,1,0,0,0,0,0,0,0,0,0,0,0,0,0,0,0,0,0,0,0,0,0,0,0,0,0,0,0,0,0,0,0,0,0,0,1,0,0,0,0,0,0,0,0,0,0,0,0,0,0,0,0,0,0,0,0,0,0,0,0,0,0,0,0,0,0,0,0,0,0,0,0,0,0,0,0,0,0,0,0,0,0,0,0,0,0,0,0,1,0,0,0,0,0,0,0,0,0,0,0,0,0,0,0,0,0,0,0,0,0,0,0,0,0,0,0,0,0,0,0,0,0,0,0,0,0,0,0,0,0,0,0,0,1,0,0,0,0,0,0,0,0,0,0,0,0,0,0,0,0,0,0,0,0,0,0,0,0,0,0,0,0,0,0,0,0,0,0,1,0,0,0,0,0,0,0,0,0,0,0,0,0,0,0,0,0,0,0,0,0,0,0,0,0,0,0,0,0,0,0,0,0,0,0,0,0,0,0,0,0,0,0,0,0,0,0,0,0,0,0,0,0,0,0,0,0,0,0,0,0,0,1,0,0,0,0,0,0,0,0,0,0,0,0,0,0,0,0,0,0,0,0,0,0,0,0,0,0,0,0,0,0,0,0,0,0,1,0,0,0,0,0,0,0,0,0,0,0,0,0,0,0,0,0,0,0,0,0,0,0,0,0,0,0,0,0,0,0,1,0,0,0,0,0,0,0,0,0,0,0,0,1,0,0,0,0,0,0,0,0,0,0,0,0,0,0,0,0,0,0,0,0,0,0,0,0,0,0,0,0,0,0,0,1,0,0,0,0,0,0,1,0,0,0,0,0,0,0,0,0,0,0,0,0,1,0,0,0,0,0,0,0,0,0,0,0,0,0,0,0,0,0,0,0,0,0,0,0,0,0,0,0,0,0,0,0,0,0,0,1,0,0,0,0,0,0,0,0,0,0,0,0,0,0,0,0,0,0,0,0,0,0,0,0,0,0,0,0,0,0,0,0,0,0,0,0,0,0,0,0,0,0,0,0,0,0,0,0,0,0,0,0,0,0,0,1,0,0,0,0,0,0,0,0,0,0,0,0,0,0,0,0,0,0,0,0,0,0,0,0,0,0,0,0,0,0,0,0,0,0,0,0,0,0,0,0,0,1,0,0,0,0,0,0,0,0,0,0,0,0,0,0,0,0,0,0,0,0,0,0,0,0,0,0,0,0,0,0,0,0,0,0,0,0,1,0,0,0,0,0,0,0,0,0,0,0,0,0,0,0,0,0,0,0,0,0,0,0,0,0,0,0,0,0,0,0,0,0,0,0,0,0,0,0,0,0,0,0,0,0,0,0,0,0,0,0,0,0,0,0,0,0,0,0,0,1,0,0,0,0,0,0,0,0,0,0,0,0,0,0,0,0,0,0,0,0,0,0,0,0,0,0,0,0,0,0,0,0,0,0,1,0,0,0,0,0,0,0,0,0,0,0,0,0,0,0,0,0,0,0,0,0,0,0,0,0,0,0,0,0,0,0,0,0,0,1,0,0,0,0,0,0,0,0,0,1,0,0,0,0,0,0,0,0,0,0,0,0,0,0,0,0,0,0,0,0,0,0,0,0,0,0,0,0,0,0,0,0,1,0,0,0,0,0,0]},{\"axis\":{\"matches\":true},\"label\":\"weekday\",\"values\":[6,0,1,2,3,4,5,6,0,1,2,3,4,5,6,0,1,2,3,4,5,6,0,1,2,3,4,5,6,0,1,2,3,4,5,6,0,1,2,3,4,5,6,0,1,2,3,4,5,6,0,1,2,3,4,5,6,0,1,2,3,4,5,6,0,1,2,3,4,5,6,0,1,2,3,4,5,6,0,1,2,3,4,5,6,0,1,2,3,4,5,6,0,1,2,3,4,5,6,0,1,2,3,4,5,6,0,1,2,3,4,5,6,0,1,2,3,4,5,6,0,1,2,3,4,5,6,0,1,2,3,4,5,6,0,1,2,3,4,5,6,0,1,2,3,4,5,6,0,1,2,3,4,5,6,0,1,2,3,4,5,6,0,1,2,3,4,5,6,0,1,2,3,4,5,6,0,1,2,3,4,5,6,0,1,2,3,4,5,6,0,1,2,3,4,5,6,0,1,2,3,4,5,6,0,1,2,3,4,5,6,0,1,2,3,4,5,6,0,1,2,3,4,5,6,0,1,2,3,4,5,6,0,1,2,3,4,5,6,0,1,2,3,4,5,6,0,1,2,3,4,5,6,0,1,2,3,4,5,6,0,1,2,3,4,5,6,0,1,2,3,4,5,6,0,1,2,3,4,5,6,0,1,2,3,4,5,6,0,1,2,3,4,5,6,0,1,2,3,4,5,6,0,1,2,3,4,5,6,0,1,2,3,4,5,6,0,1,2,3,4,5,6,0,1,2,3,4,5,6,0,1,2,3,4,5,6,0,1,2,3,4,5,6,0,1,2,3,4,5,6,0,1,2,3,4,5,6,0,1,2,3,4,5,6,0,1,2,3,4,5,6,0,1,2,3,4,5,6,0,1,2,3,4,5,6,0,1,2,3,4,5,6,0,1,2,3,4,5,6,0,1,2,3,4,5,6,0,1,2,3,4,5,6,0,1,2,3,4,5,6,0,1,2,3,4,5,6,0,1,2,3,4,5,6,0,1,2,3,4,5,6,0,1,2,3,4,5,6,0,1,2,3,4,5,6,0,1,2,3,4,5,6,0,1,2,3,4,5,6,0,1,2,3,4,5,6,0,1,2,3,4,5,6,0,1,2,3,4,5,6,0,1,2,3,4,5,6,0,1,2,3,4,5,6,0,1,2,3,4,5,6,0,1,2,3,4,5,6,0,1,2,3,4,5,6,0,1,2,3,4,5,6,0,1,2,3,4,5,6,0,1,2,3,4,5,6,0,1,2,3,4,5,6,0,1,2,3,4,5,6,0,1,2,3,4,5,6,0,1,2,3,4,5,6,0,1,2,3,4,5,6,0,1,2,3,4,5,6,0,1,2,3,4,5,6,0,1,2,3,4,5,6,0,1,2,3,4,5,6,0,1,2,3,4,5,6,0,1,2,3,4,5,6,0,1,2,3,4,5,6,0,1,2,3,4,5,6,0,1,2,3,4,5,6,0,1,2,3,4,5,6,0,1,2,3,4,5,6,0,1,2,3,4,5,6,0,1,2,3,4,5,6,0,1,2,3,4,5,6,0,1,2,3,4,5,6,0,1,2,3,4,5,6,0,1,2,3,4,5,6,0,1,2,3,4,5,6,0,1,2,3,4,5,6,0,1,2,3,4,5,6,0,1,2,3,4,5,6,0,1]},{\"axis\":{\"matches\":true},\"label\":\"workingday\",\"values\":[0,0,1,1,1,1,1,0,0,1,1,1,1,1,0,0,0,1,1,1,1,0,0,1,1,1,1,1,0,0,1,1,1,1,1,0,0,1,1,1,1,1,0,0,1,1,1,1,1,0,0,0,1,1,1,1,0,0,1,1,1,1,1,0,0,1,1,1,1,1,0,0,1,1,1,1,1,0,0,1,1,1,1,1,0,0,1,1,1,1,1,0,0,1,1,1,1,1,0,0,1,1,1,1,0,0,0,1,1,1,1,1,0,0,1,1,1,1,1,0,0,1,1,1,1,1,0,0,1,1,1,1,1,0,0,1,1,1,1,1,0,0,1,1,1,1,1,0,0,0,1,1,1,1,0,0,1,1,1,1,1,0,0,1,1,1,1,1,0,0,1,1,1,1,1,0,0,1,1,1,1,1,0,0,0,1,1,1,1,0,0,1,1,1,1,1,0,0,1,1,1,1,1,0,0,1,1,1,1,1,0,0,1,1,1,1,1,0,0,1,1,1,1,1,0,0,1,1,1,1,1,0,0,1,1,1,1,1,0,0,1,1,1,1,1,0,0,0,1,1,1,1,0,0,1,1,1,1,1,0,0,1,1,1,1,1,0,0,1,1,1,1,1,0,0,1,1,1,1,1,0,0,0,1,1,1,1,0,0,1,1,1,1,1,0,0,1,1,1,1,1,0,0,1,1,1,1,1,0,0,1,1,1,1,0,0,0,1,1,1,1,1,0,0,1,1,1,0,1,0,0,1,1,1,1,1,0,0,1,1,1,1,1,0,0,1,1,1,1,1,0,0,1,1,1,1,1,0,0,0,1,1,1,1,0,0,0,1,1,1,1,0,0,1,1,1,1,1,0,0,0,1,1,1,1,0,0,1,1,1,1,1,0,0,1,1,1,1,1,0,0,1,1,1,1,1,0,0,1,1,1,1,1,0,0,0,1,1,1,1,0,0,1,1,1,1,1,0,0,1,1,1,1,1,0,0,1,1,1,1,1,0,0,1,1,1,1,1,0,0,1,1,1,1,1,0,0,1,1,1,1,1,0,0,1,1,1,1,1,0,0,0,1,1,1,1,0,0,1,1,1,1,1,0,0,1,1,1,1,1,0,0,1,1,1,1,1,0,0,1,1,1,1,1,0,0,1,1,1,1,1,0,0,0,1,1,1,1,0,0,1,1,1,1,1,0,0,1,1,1,1,1,0,0,1,1,1,1,1,0,0,1,1,1,1,1,0,0,1,1,0,1,1,0,0,1,1,1,1,1,0,0,1,1,1,1,1,0,0,1,1,1,1,1,0,0,1,1,1,1,1,0,0,1,1,1,1,1,0,0,1,1,1,1,1,0,0,1,1,1,1,1,0,0,1,1,1,1,1,0,0,0,1,1,1,1,0,0,1,1,1,1,1,0,0,1,1,1,1,1,0,0,1,1,1,1,1,0,0,1,1,1,1,1,0,0,0,1,1,1,1,0,0,1,1,1,1,1,0,0,1,1,1,1,1,0,0,1,1,1,1,1,0,0,1,1,1,1,1,0,0,0,1,1,1,1,0,0,1,1,1,0,1,0,0,1,1,1,1,1,0,0,1,1,1,1,1,0,0,1,1,1,1,1,0,0,1,1,1,1,1,0,0,1,0,1,1,1,0,0,1]},{\"axis\":{\"matches\":true},\"label\":\"weathersit\",\"values\":[2,2,1,1,1,1,2,2,1,1,2,1,1,1,2,1,2,2,2,2,1,1,1,1,2,3,1,2,1,1,2,2,2,1,2,2,1,1,1,2,1,1,1,1,1,1,1,1,1,1,1,2,1,1,2,2,1,1,2,1,1,1,2,2,2,1,1,2,3,2,1,1,1,2,2,1,1,1,1,2,1,2,2,1,1,2,1,1,2,3,2,2,1,1,2,1,1,2,2,2,2,2,2,1,1,3,1,1,2,1,1,2,2,2,1,1,2,2,1,1,2,2,2,2,1,1,1,1,1,1,1,1,2,2,2,1,2,2,2,1,1,1,2,2,1,1,1,1,1,1,1,2,1,1,1,2,1,1,1,2,1,1,1,1,1,1,2,1,1,2,2,2,1,2,1,1,1,2,1,1,1,1,1,2,2,1,1,1,2,1,1,1,1,1,1,1,1,1,1,1,1,2,1,1,1,1,1,1,1,1,1,1,1,1,2,2,1,2,1,1,1,1,1,1,2,2,1,1,1,1,2,1,1,1,1,1,2,1,2,1,1,1,1,1,2,1,1,2,3,3,3,2,1,1,1,1,1,2,2,2,1,2,2,2,2,2,2,2,2,2,2,1,1,2,2,2,1,1,1,1,1,1,1,2,3,2,2,1,1,1,2,3,1,1,1,1,1,1,2,2,2,3,1,1,1,1,1,2,1,1,1,1,1,2,1,1,1,1,2,3,2,1,1,2,3,3,2,1,1,1,1,1,2,1,1,1,1,1,2,3,3,1,1,1,1,1,1,2,2,2,2,1,1,2,2,2,1,1,1,1,2,1,1,1,1,1,1,1,2,1,1,1,1,2,1,2,2,1,1,1,1,2,1,1,2,2,2,2,1,1,2,2,1,1,1,1,1,2,1,2,2,1,1,2,1,2,3,1,1,2,1,2,1,1,2,1,1,1,1,2,1,1,1,1,2,1,2,2,1,1,1,1,1,2,1,1,1,1,1,1,2,2,2,1,1,2,1,2,2,2,1,1,1,1,2,2,2,1,1,1,1,1,1,1,1,1,1,1,1,1,1,1,1,2,1,1,1,3,2,1,1,2,1,2,1,2,2,1,2,1,2,2,2,2,2,1,1,1,1,2,2,1,1,1,1,1,2,2,2,1,1,1,1,1,1,2,1,2,1,1,1,2,1,1,1,1,1,2,2,1,1,1,1,1,2,1,1,1,1,1,1,1,1,1,1,1,1,1,1,1,1,1,1,1,1,2,2,1,1,2,2,1,1,1,1,1,2,3,2,1,1,1,1,1,1,1,1,1,1,1,2,1,1,2,2,2,1,2,2,1,1,1,1,1,1,1,2,2,1,1,1,2,2,2,1,1,1,1,1,2,2,1,1,1,2,1,2,1,1,1,1,1,1,1,1,2,2,1,1,1,1,1,1,1,1,2,2,1,1,2,3,2,2,1,1,2,2,2,1,1,1,1,1,2,1,1,2,2,1,1,1,1,1,2,2,2,2,3,2,2,2,1,2,1,1,1,2,1,1,1,1,1,2,1,2,1,1,1,2,2,1,1,1,1,1,1,2,1,1,1,2,2,1,1,1,1,2,2,2,2,2,2,1,1,1,2,2,1,1,2,2,1,1,2,2,3,2,2,2,1,2]},{\"axis\":{\"matches\":true},\"label\":\"temp\",\"values\":[0.344167,0.363478,0.196364,0.2,0.226957,0.204348,0.196522,0.165,0.138333,0.150833,0.169091,0.172727,0.165,0.16087,0.233333,0.231667,0.175833,0.216667,0.292174,0.261667,0.1775,0.0591304,0.0965217,0.0973913,0.223478,0.2175,0.195,0.203478,0.196522,0.216522,0.180833,0.192174,0.26,0.186957,0.211304,0.233333,0.285833,0.271667,0.220833,0.134783,0.144348,0.189091,0.2225,0.316522,0.415,0.266087,0.318261,0.435833,0.521667,0.399167,0.285217,0.303333,0.182222,0.221739,0.295652,0.364348,0.2825,0.343478,0.407273,0.266667,0.335,0.198333,0.261667,0.384167,0.376522,0.261739,0.2925,0.295833,0.389091,0.316522,0.329167,0.384348,0.325217,0.317391,0.365217,0.415,0.54,0.4725,0.3325,0.430435,0.441667,0.346957,0.285,0.264167,0.265833,0.253043,0.264348,0.3025,0.3,0.268333,0.3,0.315,0.378333,0.573333,0.414167,0.390833,0.4375,0.335833,0.3425,0.426667,0.595652,0.5025,0.4125,0.4675,0.446667,0.430833,0.456667,0.5125,0.505833,0.595,0.459167,0.336667,0.46,0.581667,0.606667,0.631667,0.62,0.6175,0.51,0.4725,0.451667,0.549167,0.616667,0.414167,0.459167,0.479167,0.52,0.528333,0.5325,0.5325,0.5425,0.535,0.5125,0.520833,0.5625,0.5775,0.561667,0.55,0.530833,0.536667,0.6025,0.604167,0.631667,0.66,0.660833,0.708333,0.681667,0.655833,0.6675,0.733333,0.775,0.764167,0.715,0.62,0.635,0.648333,0.678333,0.7075,0.775833,0.808333,0.755,0.725,0.6925,0.635,0.604167,0.626667,0.628333,0.649167,0.696667,0.699167,0.635,0.680833,0.733333,0.728333,0.724167,0.695,0.68,0.6825,0.744167,0.728333,0.696667,0.7225,0.738333,0.716667,0.726667,0.746667,0.72,0.75,0.709167,0.733333,0.7475,0.7625,0.794167,0.746667,0.680833,0.663333,0.686667,0.719167,0.746667,0.776667,0.768333,0.815,0.848333,0.849167,0.83,0.743333,0.771667,0.775,0.779167,0.838333,0.804167,0.805833,0.771667,0.783333,0.731667,0.71,0.710833,0.716667,0.7425,0.765,0.775,0.766667,0.7175,0.708333,0.685833,0.676667,0.665833,0.700833,0.723333,0.711667,0.685,0.6975,0.710833,0.691667,0.640833,0.673333,0.684167,0.7,0.68,0.707059,0.636667,0.639167,0.656667,0.655,0.643333,0.669167,0.709167,0.673333,0.54,0.599167,0.633913,0.65,0.66,0.653333,0.644348,0.650833,0.673333,0.5775,0.469167,0.491667,0.5075,0.549167,0.561667,0.595,0.628333,0.609167,0.606667,0.634167,0.649167,0.636667,0.635,0.616667,0.564167,0.41,0.356667,0.384167,0.484167,0.538333,0.494167,0.510833,0.521667,0.540833,0.570833,0.566667,0.543333,0.589167,0.550833,0.506667,0.511667,0.534167,0.5325,0.541739,0.475833,0.4275,0.4225,0.421667,0.463333,0.471667,0.484167,0.47,0.330833,0.254167,0.319167,0.34,0.400833,0.3775,0.408333,0.403333,0.326667,0.348333,0.395,0.408333,0.4,0.38,0.324167,0.356667,0.440833,0.53,0.53,0.456667,0.341667,0.274167,0.329167,0.463333,0.4475,0.416667,0.440833,0.373333,0.375,0.375833,0.459167,0.503478,0.458333,0.325,0.3125,0.314167,0.299167,0.330833,0.385833,0.4625,0.41,0.265833,0.290833,0.275,0.220833,0.238333,0.2825,0.3175,0.4225,0.375,0.258333,0.238333,0.276667,0.385833,0.428333,0.423333,0.373333,0.3025,0.274783,0.321739,0.325,0.29913,0.248333,0.311667,0.41,0.37,0.273043,0.15,0.1075,0.265833,0.334167,0.393333,0.3375,0.224167,0.308696,0.274167,0.3825,0.274167,0.18,0.166667,0.19,0.373043,0.303333,0.19,0.2175,0.173333,0.1625,0.218333,0.3425,0.294167,0.341667,0.425,0.315833,0.2825,0.269167,0.39,0.469167,0.399167,0.313333,0.264167,0.265833,0.282609,0.354167,0.256667,0.265,0.280833,0.224167,0.1275,0.2225,0.319167,0.348333,0.316667,0.343333,0.346667,0.28,0.28,0.287826,0.395833,0.454167,0.4075,0.290833,0.279167,0.366667,0.359167,0.344348,0.485833,0.353333,0.414167,0.325833,0.243333,0.258333,0.404167,0.5275,0.410833,0.2875,0.361739,0.466667,0.565,0.5725,0.5575,0.435833,0.514167,0.4725,0.545,0.560833,0.531667,0.554167,0.601667,0.5025,0.4375,0.445833,0.323333,0.484167,0.494167,0.37,0.424167,0.425833,0.433913,0.466667,0.541667,0.435,0.403333,0.4375,0.5,0.489167,0.446667,0.348696,0.3975,0.4425,0.495,0.606667,0.664167,0.608333,0.463333,0.498333,0.526667,0.57,0.396667,0.321667,0.413333,0.476667,0.498333,0.4575,0.376667,0.458333,0.464167,0.613333,0.564167,0.56,0.6275,0.621667,0.5625,0.5375,0.581667,0.575,0.505833,0.533333,0.564167,0.6125,0.573333,0.611667,0.636667,0.593333,0.564167,0.6,0.620833,0.598333,0.615,0.621667,0.655,0.68,0.6925,0.69,0.7125,0.7225,0.656667,0.68,0.654167,0.583333,0.6025,0.5975,0.540833,0.554167,0.6025,0.649167,0.710833,0.726667,0.720833,0.653333,0.655833,0.648333,0.639167,0.631667,0.5925,0.568333,0.688333,0.7825,0.805833,0.7775,0.731667,0.743333,0.715833,0.630833,0.6975,0.749167,0.834167,0.765,0.815833,0.781667,0.780833,0.789167,0.8275,0.828333,0.861667,0.8225,0.710833,0.720833,0.716667,0.715833,0.731667,0.703333,0.745833,0.763333,0.818333,0.793333,0.77,0.665833,0.595833,0.6675,0.741667,0.750833,0.724167,0.776667,0.781667,0.755833,0.721667,0.730833,0.713333,0.7175,0.7525,0.765833,0.793333,0.769167,0.7525,0.735833,0.75,0.755833,0.715833,0.6925,0.700833,0.720833,0.726667,0.706667,0.719167,0.723333,0.678333,0.635833,0.635833,0.649167,0.6675,0.695833,0.7025,0.661667,0.653333,0.703333,0.728333,0.685,0.706667,0.764167,0.753333,0.696667,0.7075,0.725833,0.736667,0.696667,0.703333,0.659167,0.61,0.583333,0.5775,0.599167,0.6125,0.633333,0.608333,0.58,0.580833,0.623333,0.5525,0.546667,0.599167,0.65,0.529167,0.514167,0.55,0.635,0.65,0.619167,0.5425,0.526667,0.520833,0.590833,0.6575,0.6575,0.615,0.554167,0.415833,0.383333,0.446667,0.514167,0.435,0.4375,0.393333,0.521667,0.561667,0.468333,0.455833,0.5225,0.563333,0.484167,0.464167,0.4875,0.544167,0.5875,0.55,0.545833,0.53,0.4775,0.44,0.318182,0.3575,0.365833,0.355,0.343333,0.325833,0.319167,0.280833,0.295833,0.352174,0.361667,0.389167,0.420833,0.485,0.343333,0.289167,0.321667,0.345,0.325,0.3425,0.380833,0.374167,0.353333,0.34,0.368333,0.278333,0.245833,0.313333,0.291667,0.296667,0.28087,0.298333,0.298333,0.3475,0.4525,0.475833,0.438333,0.255833,0.320833,0.381667,0.384167,0.435833,0.353333,0.2975,0.295833,0.281667,0.324167,0.3625,0.393333,0.410833,0.3325,0.33,0.326667,0.265833,0.245833,0.231304,0.291304,0.243333,0.254167,0.253333,0.253333,0.255833,0.215833]},{\"axis\":{\"matches\":true},\"label\":\"atemp\",\"values\":[0.363625,0.353739,0.189405,0.212122,0.22927,0.233209,0.208839,0.162254,0.116175,0.150888,0.191464,0.160473,0.150883,0.188413,0.248112,0.234217,0.176771,0.232333,0.298422,0.25505,0.157833,0.0790696,0.0988391,0.11793,0.234526,0.2036,0.2197,0.223317,0.212126,0.250322,0.18625,0.23453,0.254417,0.177878,0.228587,0.243058,0.291671,0.303658,0.198246,0.144283,0.149548,0.213509,0.232954,0.324113,0.39835,0.254274,0.3162,0.428658,0.511983,0.391404,0.27733,0.284075,0.186033,0.245717,0.289191,0.350461,0.282192,0.351109,0.400118,0.263879,0.320071,0.200133,0.255679,0.378779,0.366252,0.238461,0.3024,0.286608,0.385668,0.305,0.32575,0.380091,0.332,0.318178,0.36693,0.410333,0.527009,0.466525,0.32575,0.409735,0.440642,0.337939,0.270833,0.256312,0.257571,0.250339,0.257574,0.292908,0.29735,0.257575,0.283454,0.315637,0.378767,0.542929,0.39835,0.387608,0.433696,0.324479,0.341529,0.426737,0.565217,0.493054,0.417283,0.462742,0.441913,0.425492,0.445696,0.503146,0.489258,0.564392,0.453892,0.321954,0.450121,0.551763,0.5745,0.594083,0.575142,0.578929,0.497463,0.464021,0.448204,0.532833,0.582079,0.40465,0.441917,0.474117,0.512621,0.518933,0.525246,0.522721,0.5284,0.523363,0.4943,0.500629,0.536,0.550512,0.538529,0.527158,0.510742,0.529042,0.571975,0.5745,0.590296,0.604813,0.615542,0.654688,0.637008,0.612379,0.61555,0.671092,0.725383,0.720967,0.643942,0.587133,0.594696,0.616804,0.621858,0.65595,0.727279,0.757579,0.703292,0.678038,0.643325,0.601654,0.591546,0.587754,0.595346,0.600383,0.643954,0.645846,0.595346,0.637646,0.693829,0.693833,0.656583,0.643313,0.637629,0.637004,0.692558,0.654688,0.637008,0.652162,0.667308,0.668575,0.665417,0.696338,0.685633,0.686871,0.670483,0.664158,0.690025,0.729804,0.739275,0.689404,0.635104,0.624371,0.638263,0.669833,0.703925,0.747479,0.74685,0.826371,0.840896,0.804287,0.794829,0.720958,0.696979,0.690667,0.7399,0.785967,0.728537,0.729796,0.703292,0.707071,0.679937,0.664788,0.656567,0.676154,0.715292,0.703283,0.724121,0.684983,0.651521,0.654042,0.645858,0.624388,0.616167,0.645837,0.666671,0.662258,0.633221,0.648996,0.675525,0.638254,0.606067,0.630692,0.645854,0.659733,0.635556,0.647959,0.607958,0.594704,0.611121,0.614921,0.604808,0.633213,0.665429,0.625646,0.5152,0.544229,0.555361,0.578946,0.607962,0.609229,0.60213,0.603554,0.6269,0.553671,0.461475,0.478512,0.490537,0.529675,0.532217,0.550533,0.554963,0.522125,0.564412,0.572637,0.589042,0.574525,0.575158,0.574512,0.544829,0.412863,0.345317,0.392046,0.472858,0.527138,0.480425,0.504404,0.513242,0.523983,0.542925,0.546096,0.517717,0.551804,0.529675,0.498725,0.503154,0.510725,0.522721,0.513848,0.466525,0.423596,0.425492,0.422333,0.457067,0.463375,0.472846,0.457046,0.318812,0.227913,0.321329,0.356063,0.397088,0.390133,0.405921,0.403392,0.323854,0.362358,0.400871,0.412246,0.409079,0.373721,0.306817,0.357942,0.43055,0.524612,0.507579,0.451988,0.323221,0.272721,0.324483,0.457058,0.445062,0.421696,0.430537,0.372471,0.380671,0.385087,0.4558,0.490122,0.451375,0.311221,0.305554,0.331433,0.310604,0.3491,0.393925,0.4564,0.400246,0.256938,0.317542,0.266412,0.253154,0.270196,0.301138,0.338362,0.412237,0.359825,0.249371,0.245579,0.280933,0.396454,0.428017,0.426121,0.377513,0.299242,0.279961,0.315535,0.327633,0.279974,0.263892,0.318812,0.414121,0.375621,0.252304,0.126275,0.119337,0.278412,0.340267,0.390779,0.340258,0.247479,0.318826,0.282821,0.381938,0.249362,0.183087,0.161625,0.190663,0.364278,0.275254,0.190038,0.220958,0.174875,0.16225,0.243058,0.349108,0.294821,0.35605,0.415383,0.326379,0.272721,0.262625,0.381317,0.466538,0.398971,0.309346,0.272725,0.264521,0.296426,0.361104,0.266421,0.261988,0.293558,0.210867,0.101658,0.227913,0.333946,0.351629,0.330162,0.351629,0.355425,0.265788,0.273391,0.295113,0.392667,0.444446,0.410971,0.255675,0.268308,0.357954,0.353525,0.34847,0.475371,0.359842,0.413492,0.303021,0.241171,0.255042,0.3851,0.524604,0.397083,0.277767,0.35967,0.459592,0.542929,0.548617,0.532825,0.436229,0.505046,0.464,0.532821,0.538533,0.513258,0.531567,0.570067,0.486733,0.437488,0.43875,0.315654,0.47095,0.482304,0.375621,0.421708,0.417287,0.427513,0.461483,0.53345,0.431163,0.390767,0.426129,0.492425,0.476638,0.436233,0.337274,0.387604,0.431808,0.487996,0.573875,0.614925,0.598487,0.457038,0.493046,0.515775,0.542921,0.389504,0.301125,0.405283,0.470317,0.483583,0.452637,0.377504,0.450121,0.457696,0.577021,0.537896,0.537242,0.590917,0.584608,0.546737,0.527142,0.557471,0.553025,0.491783,0.520833,0.544817,0.585238,0.5499,0.576404,0.595975,0.572613,0.551121,0.566908,0.583967,0.565667,0.580825,0.584612,0.6067,0.627529,0.642696,0.641425,0.6793,0.672992,0.611129,0.631329,0.607962,0.566288,0.575133,0.578283,0.525892,0.542292,0.569442,0.597862,0.648367,0.663517,0.659721,0.597875,0.611117,0.624383,0.599754,0.594708,0.571975,0.544842,0.654692,0.720975,0.752542,0.724121,0.652792,0.674254,0.654042,0.594704,0.640792,0.675512,0.786613,0.687508,0.750629,0.702038,0.70265,0.732337,0.761367,0.752533,0.804913,0.790396,0.654054,0.664796,0.650271,0.654683,0.667933,0.666042,0.705196,0.724125,0.755683,0.745583,0.714642,0.613025,0.549912,0.623125,0.690017,0.70645,0.654054,0.739263,0.734217,0.697604,0.667933,0.684987,0.662896,0.667308,0.707088,0.722867,0.751267,0.731079,0.710246,0.697621,0.707717,0.699508,0.667942,0.638267,0.644579,0.662254,0.676779,0.654037,0.654688,0.2424,0.618071,0.603554,0.595967,0.601025,0.621854,0.637008,0.6471,0.618696,0.595996,0.654688,0.66605,0.635733,0.652779,0.6894,0.702654,0.649,0.661629,0.686888,0.708983,0.655329,0.657204,0.611121,0.578925,0.565654,0.554292,0.570075,0.579558,0.594083,0.585867,0.563125,0.55305,0.565067,0.540404,0.532192,0.571971,0.610488,0.518933,0.502513,0.544179,0.596613,0.607975,0.585863,0.530296,0.517663,0.512,0.542333,0.599133,0.607975,0.580187,0.538521,0.419813,0.387608,0.438112,0.503142,0.431167,0.433071,0.391396,0.508204,0.53915,0.460846,0.450108,0.512625,0.537896,0.472842,0.456429,0.482942,0.530304,0.558721,0.529688,0.52275,0.515133,0.467771,0.4394,0.309909,0.3611,0.369942,0.356042,0.323846,0.329538,0.308075,0.281567,0.274621,0.341891,0.355413,0.393937,0.421713,0.475383,0.323225,0.281563,0.324492,0.347204,0.326383,0.337746,0.375621,0.380667,0.364892,0.350371,0.378779,0.248742,0.257583,0.339004,0.281558,0.289762,0.298422,0.323867,0.316904,0.359208,0.455796,0.469054,0.428012,0.258204,0.321958,0.389508,0.390146,0.435575,0.338363,0.297338,0.294188,0.294192,0.338383,0.369938,0.4015,0.409708,0.342162,0.335217,0.301767,0.236113,0.259471,0.2589,0.294465,0.220333,0.226642,0.255046,0.2424,0.2317,0.223487]},{\"axis\":{\"matches\":true},\"label\":\"hum\",\"values\":[0.805833,0.696087,0.437273,0.590435,0.436957,0.518261,0.498696,0.535833,0.434167,0.482917,0.686364,0.599545,0.470417,0.537826,0.49875,0.48375,0.5375,0.861667,0.741739,0.538333,0.457083,0.4,0.436522,0.491739,0.616957,0.8625,0.6875,0.793043,0.651739,0.722174,0.60375,0.829565,0.775417,0.437826,0.585217,0.929167,0.568333,0.738333,0.537917,0.494783,0.437391,0.506364,0.544167,0.457391,0.375833,0.314348,0.423478,0.505,0.516667,0.187917,0.407826,0.605,0.577778,0.423043,0.697391,0.712174,0.537917,0.68,0.876364,0.535,0.449583,0.318333,0.610417,0.789167,0.948261,0.551304,0.420833,0.775417,0.0,0.649565,0.594583,0.527391,0.496957,0.655652,0.776522,0.602917,0.525217,0.379167,0.47375,0.737391,0.624583,0.839565,0.805833,0.495,0.394167,0.493913,0.302174,0.314167,0.646667,0.918333,0.68625,0.65375,0.48,0.42625,0.642083,0.470833,0.602917,0.83625,0.8775,0.8575,0.716956,0.739167,0.819167,0.540417,0.67125,0.888333,0.479583,0.5425,0.665833,0.614167,0.407083,0.729583,0.887917,0.810833,0.776667,0.729167,0.835417,0.700833,0.457083,0.503333,0.762083,0.73,0.697083,0.737083,0.444167,0.59,0.54125,0.631667,0.58875,0.489167,0.632917,0.7475,0.863333,0.9225,0.867083,0.787917,0.837917,0.87,0.829583,0.719583,0.626667,0.749583,0.81,0.740833,0.69625,0.6775,0.65375,0.729583,0.81875,0.685,0.636667,0.677083,0.305,0.354167,0.45625,0.6525,0.6,0.597917,0.622083,0.568333,0.605,0.654583,0.747917,0.494583,0.507083,0.471667,0.688333,0.735833,0.670417,0.666667,0.74625,0.770417,0.7075,0.703333,0.573333,0.483333,0.513333,0.658333,0.634167,0.497917,0.434167,0.39625,0.444583,0.6825,0.637917,0.590417,0.743333,0.65125,0.757917,0.609167,0.578333,0.635833,0.559167,0.631667,0.47625,0.59125,0.585,0.604167,0.65125,0.650417,0.707083,0.69125,0.580417,0.5,0.550833,0.757083,0.540833,0.402917,0.583333,0.5425,0.465833,0.480833,0.550833,0.49125,0.6575,0.7575,0.630833,0.755,0.752917,0.592083,0.570417,0.424167,0.42375,0.415,0.729583,0.8175,0.712083,0.578333,0.575417,0.654583,0.722917,0.674167,0.77,0.47,0.455417,0.605,0.771667,0.76125,0.85,0.561765,0.554583,0.548333,0.597917,0.639167,0.727083,0.716667,0.742083,0.790417,0.886957,0.917083,0.939565,0.897917,0.75375,0.71375,0.692174,0.7125,0.697083,0.709167,0.590417,0.718333,0.695,0.69,0.88125,0.9,0.902083,0.9725,0.8625,0.845,0.848333,0.885417,0.84875,0.699167,0.6475,0.75375,0.791667,0.760833,0.71,0.647917,0.620833,0.684167,0.70125,0.7275,0.73375,0.80875,0.90625,0.896667,0.71625,0.483333,0.486667,0.579583,0.701667,0.895217,0.63625,0.574167,0.629167,0.74125,0.772083,0.622917,0.720417,0.812917,0.585833,0.8825,0.62375,0.703333,0.68375,0.71875,0.702083,0.6225,0.519167,0.734583,0.75875,0.721667,0.758333,0.813333,0.44625,0.552917,0.458333,0.587083,0.68875,0.93,0.575833,0.41,0.502083,0.684583,0.91,0.9625,0.757917,0.549167,0.64375,0.681667,0.698333,0.743043,0.830833,0.613333,0.524583,0.625833,0.612917,0.775833,0.827083,0.949583,0.970417,0.58,0.695833,0.5075,0.49,0.670833,0.59,0.66375,0.634167,0.500417,0.560833,0.58625,0.6375,0.595417,0.858333,0.7575,0.68625,0.5425,0.681304,0.506957,0.7625,0.503913,0.574167,0.636667,0.615833,0.6925,0.381304,0.44125,0.414583,0.524167,0.542083,0.531667,0.465,0.701667,0.646522,0.8475,0.802917,0.5075,0.4575,0.419167,0.5225,0.716087,0.443333,0.4975,0.45,0.83125,0.79625,0.91125,0.835833,0.64375,0.769583,0.74125,0.543333,0.31125,0.400833,0.416667,0.507917,0.672917,0.526667,0.779583,0.687917,0.622174,0.49625,0.722917,0.562083,0.54,0.73125,0.464583,0.41125,0.50875,0.53125,0.752917,0.634583,0.534583,0.515833,0.507826,0.594348,0.567917,0.554583,0.7375,0.395833,0.41,0.490833,0.395833,0.804783,0.615417,0.657083,0.62125,0.403333,0.50625,0.456667,0.513333,0.5675,0.407083,0.350417,0.476957,0.489167,0.6175,0.507083,0.579583,0.842083,0.755833,0.81,0.72875,0.807917,0.82125,0.83125,0.694167,0.885417,0.880833,0.477917,0.29,0.48125,0.439167,0.580833,0.738333,0.67625,0.504348,0.396667,0.469583,0.374167,0.377083,0.254167,0.275833,0.3175,0.435,0.469565,0.46625,0.408333,0.502917,0.507917,0.561667,0.390417,0.569167,0.6125,0.694583,0.682917,0.835417,0.766667,0.454167,0.427917,0.756667,0.400833,0.489583,0.587083,0.57,0.659583,0.797083,0.768333,0.735417,0.756667,0.74,0.664167,0.685833,0.744167,0.552083,0.360417,0.480417,0.57625,0.789583,0.794583,0.697917,0.52,0.523333,0.45625,0.530417,0.81125,0.765833,0.774583,0.716667,0.747083,0.7325,0.697083,0.67625,0.684583,0.67,0.492917,0.755417,0.549167,0.493333,0.487083,0.613333,0.61125,0.567083,0.467917,0.437083,0.538333,0.587917,0.833333,0.582083,0.569583,0.589583,0.504167,0.59875,0.777917,0.69,0.592083,0.567917,0.57375,0.534583,0.479167,0.504167,0.373333,0.36,0.4225,0.48875,0.60125,0.51875,0.447083,0.492083,0.53875,0.457917,0.450833,0.492083,0.57375,0.683333,0.6675,0.633333,0.529583,0.485833,0.699167,0.717917,0.645,0.505833,0.577083,0.600417,0.844167,0.865417,0.7625,0.694167,0.655,0.45,0.596667,0.594583,0.613333,0.62375,0.66875,0.704167,0.6775,0.659583,0.6425,0.613333,0.6525,0.654167,0.70375,0.672917,0.620417,0.715833,0.732917,0.530417,0.545417,0.686667,0.619583,0.519167,0.570833,0.603333,0.711667,0.734167,0.67375,0.677083,0.635833,0.615,0.712917,0.845833,0.730417,0.62,0.552083,0.590417,0.5875,0.638333,0.815,0.790833,0.755,0.74125,0.810417,0.73625,0.799167,0.5475,0.50375,0.52,0.577083,0.637083,0.6725,0.501667,0.57,0.734583,0.8725,0.536667,0.618333,0.66875,0.646667,0.467083,0.492917,0.57,0.630833,0.690833,0.69,0.542917,0.583333,0.649167,0.871667,0.79375,0.722917,0.6275,0.664167,0.708333,0.709583,0.761667,0.630833,0.463333,0.539167,0.494583,0.640417,0.7075,0.558333,0.692917,0.728333,0.815,0.572917,0.51,0.568333,0.641667,0.63625,0.800417,0.807083,0.72,0.694583,0.88,0.825455,0.666667,0.581667,0.522083,0.49125,0.532917,0.494167,0.567083,0.5475,0.333478,0.540833,0.645417,0.659167,0.741667,0.662917,0.552083,0.620417,0.524583,0.545417,0.692917,0.623333,0.685,0.61375,0.580417,0.56875,0.404583,0.468333,0.535417,0.786667,0.50625,0.555652,0.649583,0.806667,0.823333,0.7675,0.73375,0.485,0.50875,0.764167,0.91125,0.905417,0.925,0.596667,0.538333,0.485833,0.642917,0.650417,0.83875,0.907083,0.66625,0.625417,0.667917,0.556667,0.44125,0.515417,0.791304,0.734783,0.823333,0.652917,0.59,0.752917,0.483333,0.5775]},{\"axis\":{\"matches\":true},\"label\":\"windspeed\",\"values\":[0.160446,0.248539,0.248309,0.160296,0.1869,0.0895652,0.168726,0.266804,0.36195,0.223267,0.122132,0.304627,0.301,0.126548,0.157963,0.188433,0.194017,0.146775,0.208317,0.195904,0.353242,0.17197,0.2466,0.15833,0.129796,0.29385,0.113837,0.1233,0.145365,0.0739826,0.187192,0.053213,0.264308,0.277752,0.127839,0.161079,0.1418,0.0454083,0.36195,0.188839,0.221935,0.10855,0.203367,0.260883,0.417908,0.291374,0.251791,0.230104,0.264925,0.507463,0.223235,0.307846,0.195683,0.094113,0.250496,0.346539,0.186571,0.125248,0.289686,0.216425,0.307833,0.225754,0.203346,0.251871,0.343287,0.341352,0.12065,0.22015,0.261877,0.23297,0.220775,0.270604,0.136926,0.184309,0.203117,0.209579,0.231017,0.368167,0.207721,0.288783,0.22575,0.234261,0.243787,0.230725,0.209571,0.1843,0.212204,0.226996,0.172888,0.217646,0.258708,0.197146,0.182213,0.385571,0.388067,0.263063,0.162312,0.226992,0.133083,0.146767,0.324474,0.274879,0.250617,0.1107,0.226375,0.340808,0.303496,0.163567,0.157971,0.241925,0.325258,0.219521,0.230725,0.192175,0.185333,0.3265,0.3122,0.320908,0.240063,0.235075,0.106354,0.183454,0.342667,0.328996,0.295392,0.228246,0.16045,0.0746375,0.176,0.115671,0.120642,0.189667,0.179725,0.13495,0.152979,0.126871,0.277354,0.201492,0.108213,0.125013,0.12065,0.148008,0.233842,0.207092,0.154233,0.199642,0.240679,0.230092,0.213938,0.131225,0.111329,0.207092,0.292287,0.253121,0.123142,0.138692,0.121896,0.187808,0.136817,0.149883,0.140554,0.15485,0.163567,0.30535,0.269283,0.167912,0.206471,0.143029,0.119408,0.102,0.155475,0.171025,0.172262,0.238804,0.222025,0.209571,0.0945333,0.107588,0.144283,0.261821,0.185312,0.102608,0.115062,0.228858,0.0814792,0.126258,0.149883,0.1592,0.225129,0.167912,0.183471,0.282337,0.200254,0.146133,0.240667,0.182833,0.208342,0.245033,0.215804,0.1306,0.113817,0.222021,0.1331,0.131221,0.169171,0.0908083,0.200258,0.183463,0.178479,0.174138,0.168537,0.164813,0.156717,0.20585,0.135583,0.19715,0.184696,0.22825,0.201487,0.192175,0.151121,0.200258,0.164796,0.125621,0.211454,0.222633,0.208954,0.236329,0.143667,0.233208,0.139308,0.104467,0.248754,0.27675,0.146763,0.253108,0.210833,0.0839625,0.375617,0.304659,0.159825,0.125008,0.0833333,0.141796,0.139929,0.185325,0.206467,0.212696,0.343943,0.0970208,0.192748,0.124379,0.153608,0.115054,0.088913,0.141804,0.1673,0.271146,0.164183,0.189675,0.178483,0.151742,0.134954,0.0964042,0.128125,0.0783667,0.0783833,0.0503792,0.1107,0.118171,0.148629,0.172883,0.206475,0.292296,0.222013,0.0833458,0.205854,0.17725,0.134954,0.0223917,0.0454042,0.06345,0.0423042,0.143042,0.24815,0.141787,0.223883,0.258083,0.281717,0.175379,0.110087,0.243339,0.422275,0.221396,0.0926667,0.0995125,0.118792,0.166658,0.148642,0.197763,0.229479,0.351371,0.176617,0.10635,0.135571,0.0820917,0.136817,0.271779,0.189062,0.0920542,0.057225,0.0690375,0.0621958,0.189067,0.314675,0.212062,0.281721,0.306596,0.199633,0.136829,0.305362,0.168533,0.224496,0.18595,0.138054,0.118792,0.335825,0.167304,0.0988958,0.0684208,0.208954,0.142122,0.258092,0.271158,0.220158,0.100754,0.0957833,0.0839583,0.0622083,0.232583,0.266175,0.240058,0.0827167,0.233221,0.0665417,0.06345,0.14055,0.0609583,0.268042,0.260575,0.243167,0.169779,0.172896,0.0615708,0.2214,0.047275,0.274246,0.190304,0.155091,0.239465,0.18845,0.293961,0.119412,0.134337,0.220154,0.192167,0.329665,0.365671,0.1847,0.129987,0.167908,0.174758,0.191542,0.0989,0.187552,0.131221,0.180967,0.378108,0.187183,0.251258,0.231358,0.34913,0.415429,0.220158,0.20275,0.222642,0.199638,0.110708,0.123767,0.161071,0.0733958,0.342667,0.210829,0.24005,0.215792,0.261817,0.189067,0.187187,0.178496,0.121896,0.175996,0.1538,0.147379,0.133721,0.194037,0.116929,0.289796,0.409212,0.167283,0.141179,0.1816,0.091425,0.205846,0.190929,0.253112,0.229083,0.205717,0.234471,0.190913,0.237567,0.421642,0.205229,0.268033,0.193417,0.179117,0.226987,0.144904,0.161079,0.334571,0.228858,0.200875,0.345779,0.441563,0.4148,0.22575,0.222587,0.207713,0.23695,0.115062,0.149883,0.113192,0.110704,0.126883,0.162317,0.121271,0.0895583,0.117562,0.1163,0.192783,0.220775,0.386821,0.187192,0.291671,0.31965,0.138067,0.250617,0.172267,0.312139,0.100133,0.180975,0.219529,0.300388,0.274871,0.232596,0.358196,0.249375,0.295274,0.290429,0.155471,0.190917,0.225129,0.284829,0.273629,0.167912,0.0659292,0.149871,0.283587,0.344546,0.303496,0.249383,0.118792,0.176625,0.347633,0.129975,0.116908,0.171638,0.156096,0.138058,0.133696,0.162938,0.152992,0.149879,0.230721,0.296029,0.216412,0.314063,0.236937,0.123133,0.225117,0.212692,0.147392,0.122512,0.229475,0.136817,0.083975,0.254367,0.233204,0.118167,0.102,0.172896,0.14055,0.198992,0.215171,0.196521,0.2954,0.134329,0.195279,0.237563,0.186562,0.184087,0.284833,0.209575,0.077125,0.15735,0.175383,0.144287,0.133721,0.207713,0.214546,0.343279,0.253733,0.176617,0.166667,0.144904,0.174746,0.148017,0.113812,0.118787,0.182842,0.179721,0.145525,0.300383,0.347642,0.271775,0.17165,0.165417,0.161071,0.168529,0.195267,0.126237,0.13495,0.194029,0.146142,0.163554,0.125629,0.180975,0.151737,0.151733,0.146775,0.08085,0.143679,0.166667,0.164187,0.114429,0.137442,0.165429,0.208967,0.2133,0.0939208,0.138683,0.211454,0.1648,0.284813,0.152992,0.15735,0.170396,0.153617,0.165425,0.141179,0.129354,0.215792,0.257458,0.290421,0.129354,0.116908,0.1107,0.1561,0.238813,0.206479,0.122512,0.136212,0.169158,0.169771,0.141796,0.231354,0.177867,0.08645,0.129979,0.0727708,0.0702833,0.0845958,0.0721458,0.244408,0.228858,0.128733,0.190925,0.112562,0.0771167,0.168533,0.113187,0.0640708,0.151121,0.236321,0.187808,0.142421,0.171646,0.281104,0.224496,0.258713,0.0920542,0.131846,0.0827208,0.103863,0.247521,0.0901833,0.151742,0.357587,0.215175,0.118167,0.154229,0.283583,0.223258,0.142404,0.236321,0.2444,0.134342,0.164179,0.227604,0.134958,0.0908042,0.104475,0.0665458,0.117546,0.10635,0.268025,0.141162,0.189679,0.1903,0.187821,0.181596,0.235092,0.146142,0.278612,0.296037,0.182221,0.101371,0.236937,0.134954,0.117537,0.166054,0.0814833,0.0945458,0.0727792,0.124375,0.132467,0.235692,0.398008,0.3582,0.213009,0.166667,0.157346,0.266175,0.270529,0.179108,0.236325,0.173513,0.304108,0.347835,0.214558,0.0578458,0.1275,0.173517,0.342046,0.199625,0.152987,0.171025,0.179729,0.227612,0.235067,0.082725,0.103246,0.0528708,0.148021,0.376871,0.1505,0.04665,0.237562,0.210821,0.115522,0.0584708,0.0597042,0.124379,0.0827208,0.174129,0.324021,0.174754,0.1306,0.101379,0.157975,0.190308,0.296037,0.162937,0.174129,0.131229,0.10635,0.100742,0.0982583,0.221404,0.184092,0.132463,0.374383,0.407346,0.133083,0.0772304,0.168726,0.316546,0.350133,0.155471,0.124383,0.350754,0.154846]},{\"axis\":{\"matches\":true},\"label\":\"casual\",\"values\":[331,131,120,108,82,88,148,68,54,41,43,25,38,54,222,251,117,9,78,83,75,93,150,86,186,34,15,38,123,140,42,47,72,61,88,100,354,120,64,53,47,149,288,397,208,140,218,259,579,532,639,195,74,139,100,120,424,694,81,137,231,123,214,640,114,244,316,191,46,247,724,982,359,289,321,424,884,1424,1047,401,460,203,166,300,981,472,222,317,168,179,307,898,1651,734,167,413,571,172,879,1188,855,257,209,529,642,121,1558,669,409,613,745,177,1462,1710,773,678,547,569,878,1965,1138,847,603,255,614,894,1612,1401,664,694,550,695,692,902,1582,773,678,536,735,909,2258,1576,836,659,740,758,871,2001,2355,1549,673,513,736,898,1869,1685,673,763,676,563,815,1729,1467,863,727,769,545,863,1807,1639,699,774,661,746,969,1782,1920,854,732,848,1027,1246,2204,2282,3065,1031,784,754,692,1988,1743,723,662,748,888,1318,2418,2006,841,752,644,632,562,987,1050,568,750,755,606,670,1559,1524,729,801,467,799,1023,1521,1298,846,907,884,812,1051,1504,1338,775,721,668,639,797,1914,1249,833,1281,949,435,768,226,1415,729,775,688,783,875,1935,2521,1236,204,118,153,417,1750,1633,690,701,647,428,742,1434,1353,691,438,539,555,258,1776,1544,684,477,480,653,830,480,616,330,486,559,639,949,2235,2397,1514,667,217,290,529,1899,1748,713,637,254,471,676,1499,1619,699,695,404,240,456,57,885,362,410,370,318,470,1156,952,373,376,305,190,440,1275,1004,595,449,145,139,245,943,787,220,69,112,560,1095,1249,810,253,96,188,182,268,706,634,233,126,50,150,261,502,377,143,155,178,181,178,275,220,260,216,107,227,163,155,303,430,103,255,254,491,665,686,244,89,95,140,307,1070,599,106,173,92,269,174,333,284,217,127,109,130,115,67,196,145,439,467,244,269,775,558,126,324,304,190,310,384,318,206,199,109,163,227,192,73,94,135,141,74,349,1435,618,502,163,394,516,246,317,515,253,229,65,325,246,956,710,203,221,432,486,447,968,1658,838,762,997,1005,548,3155,2207,982,1051,1122,1334,2469,1033,1532,795,531,674,834,796,2301,2347,1208,1348,1058,1192,1807,3252,2230,905,819,482,663,1252,2795,2846,1198,989,347,846,1340,2541,120,195,518,655,475,1014,1120,2229,665,653,667,764,1069,2496,2135,1008,738,620,1026,1319,2622,2172,342,625,991,1242,1521,3410,2704,630,819,766,1059,1417,2855,3283,2557,880,745,1100,533,2795,2494,1071,968,1027,1038,1488,2708,2224,1017,477,1173,1180,1563,2963,2634,653,968,872,778,964,2657,2551,1139,1077,1077,921,829,1455,1421,904,1052,2562,1405,1366,1448,1203,998,954,975,1032,1511,2355,1920,1088,921,799,888,747,1264,2544,1135,1140,1383,1036,1259,2234,2153,1040,968,1074,983,1328,2345,1707,1233,1278,1263,1196,1065,2247,2182,1207,1128,1198,1338,1483,2827,1208,1026,1081,1094,1363,1325,1829,1483,989,935,1177,1172,1433,2352,2613,1965,867,832,611,1045,1557,2570,1118,1070,1050,1054,1379,3160,2166,1022,371,788,939,1250,2512,2454,1001,845,787,751,1045,2589,2015,763,315,728,891,1516,3031,781,874,601,780,834,1060,2252,2080,760,922,979,1008,753,2806,2132,830,841,795,875,1182,2643,998,2,87,419,466,618,1029,1201,378,466,326,340,709,2090,2290,1097,327,373,320,484,1313,922,449,534,615,955,1603,532,309,337,123,198,243,362,951,892,555,551,331,340,349,1153,441,329,282,310,425,429,767,538,212,433,333,314,221,205,408,174,440,9,247,644,159,364,439]},{\"axis\":{\"matches\":true},\"label\":\"registered\",\"values\":[654,670,1229,1454,1518,1518,1362,891,768,1280,1220,1137,1368,1367,1026,953,883,674,1572,1844,1468,888,836,1330,1799,472,416,1129,975,956,1459,1313,1454,1489,1620,905,1269,1592,1466,1552,1491,1597,1184,1192,1705,1675,1897,2216,2348,1103,1173,912,1376,1778,1707,1341,1545,1708,1365,1714,1903,1562,1730,1437,491,1628,1817,1700,577,1730,1408,1435,1687,1767,1871,2320,2355,1693,1424,1676,2243,1918,1699,1910,1515,1221,1806,2108,1368,1506,1920,1354,1598,2381,1628,2395,2570,1299,1576,1707,2493,1777,1953,2738,2484,674,2186,2760,2795,3331,3444,1506,2574,2481,3300,3722,3325,3489,3717,3347,2213,3554,3848,2378,3819,3714,3102,2932,3698,4109,3632,4169,3413,2507,2971,3185,3445,3319,3840,4008,3547,3084,3438,3833,4238,3919,3808,2757,2433,2549,3309,3461,4232,4414,3473,3221,3875,4070,3725,3352,3771,3237,2993,4157,4164,4411,3222,3981,3312,3105,3311,4061,3846,4044,4022,3420,3385,3854,3916,4377,4488,4116,2915,2367,2978,3634,3845,3838,3348,3348,3138,3363,3596,3594,4196,4220,3505,3296,3617,3789,3688,3152,2825,2298,2556,3272,3840,3901,3784,3176,2916,2778,3537,4044,3107,3777,3843,2773,2487,3480,3695,3896,3980,3854,2646,2482,3563,4004,4026,3166,3356,3277,2624,3925,4614,4181,3107,3893,889,2919,3905,4429,4370,4332,3852,2549,2419,2115,2506,1878,1689,3127,3595,3413,4023,4062,4138,3231,4018,3077,2921,3848,3203,3813,4240,2137,3647,3466,3946,3643,3427,4186,4372,1949,2302,3240,3970,4267,4126,4036,3174,3114,3603,3896,2199,2623,3115,3318,3293,3857,4111,2170,3724,3628,2809,2762,3488,3992,3490,2419,3291,570,2446,3307,3658,3816,3656,3576,2770,2697,3662,3829,3804,2743,2928,2792,2713,3891,3746,1672,2914,3147,2720,2733,2545,1538,2454,935,1697,1819,2261,3614,2818,3425,3545,3672,2908,2851,3578,2468,655,3172,3359,2688,2366,3167,3368,3562,3528,3399,2464,2211,3143,3534,2553,2841,2046,856,451,887,1059,2047,2169,2508,1820,1608,1707,2147,2273,3132,3791,3451,2826,2270,3425,2085,3828,3040,2160,2027,2081,2808,3267,3162,3048,1234,1781,2287,3900,3803,3831,3187,3248,2685,3498,4185,4275,3571,3841,2448,2629,3578,4176,2693,3667,3604,1977,1456,3328,3787,4028,2931,3805,2883,2071,2627,3614,4379,4546,3241,2415,2874,4069,4134,1769,4665,2948,3110,2713,3130,3735,4484,4896,4122,3150,3253,4460,5085,5315,5187,3830,4681,3685,5171,5042,5108,5537,5893,2339,3464,4763,4571,5024,5299,4663,3934,3694,4728,5424,5378,5265,4653,3605,2939,4680,5099,4380,4746,5146,4665,4286,5172,5702,4020,5719,5950,4083,907,3019,5115,5541,4551,5219,3100,4075,4907,5087,5502,5657,5227,4387,4224,5265,4990,4097,5546,5711,4807,3946,2501,4490,6433,6142,6118,4884,4425,3729,5254,4494,5711,5317,3681,3308,3486,4863,6110,6238,3594,5325,5147,5927,6033,6028,6456,6248,4790,4374,5647,4495,6248,6183,6102,4739,4344,4446,5857,5339,5127,4859,4801,4340,5640,6365,6258,5958,4634,4232,4110,5323,5608,4841,4836,4841,3392,3469,5571,5336,6289,6414,5988,4614,4111,5742,5865,4914,5703,5123,3195,4866,5831,6452,6790,5825,5645,4451,4444,6065,6248,6506,6278,5847,4479,3757,5780,5995,6271,6090,4721,4052,4362,5676,5656,6149,6267,5665,5038,3341,5504,5925,6281,6402,6257,4224,3772,5928,6105,6520,6541,5917,3788,3197,4069,5997,6280,5592,6459,4419,5657,6407,6697,6820,6750,6630,5554,5167,5847,3702,6803,6781,6917,5883,5453,6435,6693,6946,6642,6370,5966,4874,6015,4324,6844,6437,6640,4934,2729,4604,5791,6911,6736,6222,4857,4559,5115,6612,6482,6501,4671,5284,4692,6228,6625,6898,6484,6262,5209,3461,20,1009,5147,5520,5229,4109,3906,4881,5220,4709,4975,5283,4446,4562,5172,3767,5122,5125,5214,4316,3747,5050,5100,4531,1470,2307,1745,2115,4750,3836,5062,5080,5306,4240,3757,5679,6055,5398,5035,4659,4429,2787,4841,5219,5009,5107,5182,4280,3248,4373,5124,4934,3814,3402,1544,1379,746,573,432,1867,2451,1182,1432,2290]},{\"axis\":{\"matches\":true},\"label\":\"cnt\",\"values\":[985,801,1349,1562,1600,1606,1510,959,822,1321,1263,1162,1406,1421,1248,1204,1000,683,1650,1927,1543,981,986,1416,1985,506,431,1167,1098,1096,1501,1360,1526,1550,1708,1005,1623,1712,1530,1605,1538,1746,1472,1589,1913,1815,2115,2475,2927,1635,1812,1107,1450,1917,1807,1461,1969,2402,1446,1851,2134,1685,1944,2077,605,1872,2133,1891,623,1977,2132,2417,2046,2056,2192,2744,3239,3117,2471,2077,2703,2121,1865,2210,2496,1693,2028,2425,1536,1685,2227,2252,3249,3115,1795,2808,3141,1471,2455,2895,3348,2034,2162,3267,3126,795,3744,3429,3204,3944,4189,1683,4036,4191,4073,4400,3872,4058,4595,5312,3351,4401,4451,2633,4433,4608,4714,4333,4362,4803,4182,4864,4105,3409,4553,3958,4123,3855,4575,4917,5805,4660,4274,4492,4978,4677,4679,4758,4788,4098,3982,3974,4968,5312,5342,4906,4548,4833,4401,3915,4586,4966,4460,5020,4891,5180,3767,4844,5119,4744,4010,4835,4507,4790,4991,5202,5305,4708,4648,5225,5515,5362,5119,4649,6043,4665,4629,4592,4040,5336,4881,4086,4258,4342,5084,5538,5923,5302,4458,4541,4332,3784,3387,3285,3606,3840,4590,4656,4390,3846,4475,4302,4266,4845,3574,4576,4866,4294,3785,4326,4602,4780,4792,4905,4150,3820,4338,4725,4694,3805,4153,5191,3873,4758,5895,5130,3542,4661,1115,4334,4634,5204,5058,5115,4727,4484,4940,3351,2710,1996,1842,3544,5345,5046,4713,4763,4785,3659,4760,4511,4274,4539,3641,4352,4795,2395,5423,5010,4630,4120,3907,4839,5202,2429,2918,3570,4456,4826,4765,4985,5409,5511,5117,4563,2416,2913,3644,5217,5041,4570,4748,2424,4195,4304,4308,4381,4187,4687,3894,2659,3747,627,3331,3669,4068,4186,3974,4046,3926,3649,4035,4205,4109,2933,3368,4067,3717,4486,4195,1817,3053,3392,3663,3520,2765,1607,2566,1495,2792,3068,3071,3867,2914,3613,3727,3940,3614,3485,3811,2594,705,3322,3620,3190,2743,3310,3523,3740,3709,3577,2739,2431,3403,3750,2660,3068,2209,1011,754,1317,1162,2302,2423,2999,2485,2294,1951,2236,2368,3272,4098,4521,3425,2376,3598,2177,4097,3214,2493,2311,2298,2935,3376,3292,3163,1301,1977,2432,4339,4270,4075,3456,4023,3243,3624,4509,4579,3761,4151,2832,2947,3784,4375,2802,3830,3831,2169,1529,3422,3922,4169,3005,4154,4318,2689,3129,3777,4773,5062,3487,2732,3389,4322,4363,1834,4990,3194,4066,3423,3333,3956,4916,5382,4569,4118,4911,5298,5847,6312,6192,4378,7836,5892,6153,6093,6230,6871,8362,3372,4996,5558,5102,5698,6133,5459,6235,6041,5936,6772,6436,6457,6460,6857,5169,5585,5918,4862,5409,6398,7460,7132,6370,6691,4367,6565,7290,6624,1027,3214,5633,6196,5026,6233,4220,6304,5572,5740,6169,6421,6296,6883,6359,6273,5728,4717,6572,7030,7429,6118,2843,5115,7424,7384,7639,8294,7129,4359,6073,5260,6770,6734,6536,6591,6043,5743,6855,7338,4127,8120,7641,6998,7001,7055,7494,7736,7498,6598,6664,4972,7421,7363,7665,7702,6978,5099,6825,6211,5905,5823,7458,6891,6779,7442,7335,6879,5463,5687,5531,6227,6660,7403,6241,6207,4840,4672,6569,6290,7264,7446,7499,6969,6031,6830,6786,5713,6591,5870,4459,7410,6966,7592,8173,6861,6904,6685,6597,7105,7216,7580,7261,7175,6824,5464,7013,7273,7534,7286,5786,6299,6544,6883,6784,7347,7605,7148,7865,4549,6530,7006,7375,7765,7582,6053,5255,6917,7040,7697,7713,7350,6140,5810,6034,6864,7112,6203,7504,5976,8227,7525,7767,7870,7804,8009,8714,7333,6869,4073,7591,7720,8167,8395,7907,7436,7538,7733,7393,7415,8555,6889,6778,4639,7572,7328,8156,7965,3510,5478,6392,7691,7570,7282,7109,6639,5875,7534,7461,7509,5424,8090,6824,7058,7466,7693,7359,7444,7852,4459,22,1096,5566,5986,5847,5138,5107,5259,5686,5035,5315,5992,6536,6852,6269,4094,5495,5445,5698,5629,4669,5499,5634,5146,2425,3910,2277,2424,5087,3959,5260,5323,5668,5191,4649,6234,6606,5729,5375,5008,5582,3228,5170,5501,5319,5532,5611,5047,3786,4585,5557,5267,4128,3623,1749,1787,920,1013,441,2114,3095,1341,1796,2729]}],\"hovertemplate\":\"%{xaxis.title.text}=%{x}\\u003cbr\\u003e%{yaxis.title.text}=%{y}\\u003cbr\\u003ecnt=%{marker.color}\\u003cextra\\u003e\\u003c\\u002fextra\\u003e\",\"legendgroup\":\"\",\"marker\":{\"color\":[985,801,1349,1562,1600,1606,1510,959,822,1321,1263,1162,1406,1421,1248,1204,1000,683,1650,1927,1543,981,986,1416,1985,506,431,1167,1098,1096,1501,1360,1526,1550,1708,1005,1623,1712,1530,1605,1538,1746,1472,1589,1913,1815,2115,2475,2927,1635,1812,1107,1450,1917,1807,1461,1969,2402,1446,1851,2134,1685,1944,2077,605,1872,2133,1891,623,1977,2132,2417,2046,2056,2192,2744,3239,3117,2471,2077,2703,2121,1865,2210,2496,1693,2028,2425,1536,1685,2227,2252,3249,3115,1795,2808,3141,1471,2455,2895,3348,2034,2162,3267,3126,795,3744,3429,3204,3944,4189,1683,4036,4191,4073,4400,3872,4058,4595,5312,3351,4401,4451,2633,4433,4608,4714,4333,4362,4803,4182,4864,4105,3409,4553,3958,4123,3855,4575,4917,5805,4660,4274,4492,4978,4677,4679,4758,4788,4098,3982,3974,4968,5312,5342,4906,4548,4833,4401,3915,4586,4966,4460,5020,4891,5180,3767,4844,5119,4744,4010,4835,4507,4790,4991,5202,5305,4708,4648,5225,5515,5362,5119,4649,6043,4665,4629,4592,4040,5336,4881,4086,4258,4342,5084,5538,5923,5302,4458,4541,4332,3784,3387,3285,3606,3840,4590,4656,4390,3846,4475,4302,4266,4845,3574,4576,4866,4294,3785,4326,4602,4780,4792,4905,4150,3820,4338,4725,4694,3805,4153,5191,3873,4758,5895,5130,3542,4661,1115,4334,4634,5204,5058,5115,4727,4484,4940,3351,2710,1996,1842,3544,5345,5046,4713,4763,4785,3659,4760,4511,4274,4539,3641,4352,4795,2395,5423,5010,4630,4120,3907,4839,5202,2429,2918,3570,4456,4826,4765,4985,5409,5511,5117,4563,2416,2913,3644,5217,5041,4570,4748,2424,4195,4304,4308,4381,4187,4687,3894,2659,3747,627,3331,3669,4068,4186,3974,4046,3926,3649,4035,4205,4109,2933,3368,4067,3717,4486,4195,1817,3053,3392,3663,3520,2765,1607,2566,1495,2792,3068,3071,3867,2914,3613,3727,3940,3614,3485,3811,2594,705,3322,3620,3190,2743,3310,3523,3740,3709,3577,2739,2431,3403,3750,2660,3068,2209,1011,754,1317,1162,2302,2423,2999,2485,2294,1951,2236,2368,3272,4098,4521,3425,2376,3598,2177,4097,3214,2493,2311,2298,2935,3376,3292,3163,1301,1977,2432,4339,4270,4075,3456,4023,3243,3624,4509,4579,3761,4151,2832,2947,3784,4375,2802,3830,3831,2169,1529,3422,3922,4169,3005,4154,4318,2689,3129,3777,4773,5062,3487,2732,3389,4322,4363,1834,4990,3194,4066,3423,3333,3956,4916,5382,4569,4118,4911,5298,5847,6312,6192,4378,7836,5892,6153,6093,6230,6871,8362,3372,4996,5558,5102,5698,6133,5459,6235,6041,5936,6772,6436,6457,6460,6857,5169,5585,5918,4862,5409,6398,7460,7132,6370,6691,4367,6565,7290,6624,1027,3214,5633,6196,5026,6233,4220,6304,5572,5740,6169,6421,6296,6883,6359,6273,5728,4717,6572,7030,7429,6118,2843,5115,7424,7384,7639,8294,7129,4359,6073,5260,6770,6734,6536,6591,6043,5743,6855,7338,4127,8120,7641,6998,7001,7055,7494,7736,7498,6598,6664,4972,7421,7363,7665,7702,6978,5099,6825,6211,5905,5823,7458,6891,6779,7442,7335,6879,5463,5687,5531,6227,6660,7403,6241,6207,4840,4672,6569,6290,7264,7446,7499,6969,6031,6830,6786,5713,6591,5870,4459,7410,6966,7592,8173,6861,6904,6685,6597,7105,7216,7580,7261,7175,6824,5464,7013,7273,7534,7286,5786,6299,6544,6883,6784,7347,7605,7148,7865,4549,6530,7006,7375,7765,7582,6053,5255,6917,7040,7697,7713,7350,6140,5810,6034,6864,7112,6203,7504,5976,8227,7525,7767,7870,7804,8009,8714,7333,6869,4073,7591,7720,8167,8395,7907,7436,7538,7733,7393,7415,8555,6889,6778,4639,7572,7328,8156,7965,3510,5478,6392,7691,7570,7282,7109,6639,5875,7534,7461,7509,5424,8090,6824,7058,7466,7693,7359,7444,7852,4459,22,1096,5566,5986,5847,5138,5107,5259,5686,5035,5315,5992,6536,6852,6269,4094,5495,5445,5698,5629,4669,5499,5634,5146,2425,3910,2277,2424,5087,3959,5260,5323,5668,5191,4649,6234,6606,5729,5375,5008,5582,3228,5170,5501,5319,5532,5611,5047,3786,4585,5557,5267,4128,3623,1749,1787,920,1013,441,2114,3095,1341,1796,2729],\"coloraxis\":\"coloraxis\",\"symbol\":\"circle\"},\"name\":\"\",\"showlegend\":false,\"type\":\"splom\"}],                        {\"template\":{\"data\":{\"histogram2dcontour\":[{\"type\":\"histogram2dcontour\",\"colorbar\":{\"outlinewidth\":0,\"ticks\":\"\"},\"colorscale\":[[0.0,\"#0d0887\"],[0.1111111111111111,\"#46039f\"],[0.2222222222222222,\"#7201a8\"],[0.3333333333333333,\"#9c179e\"],[0.4444444444444444,\"#bd3786\"],[0.5555555555555556,\"#d8576b\"],[0.6666666666666666,\"#ed7953\"],[0.7777777777777778,\"#fb9f3a\"],[0.8888888888888888,\"#fdca26\"],[1.0,\"#f0f921\"]]}],\"choropleth\":[{\"type\":\"choropleth\",\"colorbar\":{\"outlinewidth\":0,\"ticks\":\"\"}}],\"histogram2d\":[{\"type\":\"histogram2d\",\"colorbar\":{\"outlinewidth\":0,\"ticks\":\"\"},\"colorscale\":[[0.0,\"#0d0887\"],[0.1111111111111111,\"#46039f\"],[0.2222222222222222,\"#7201a8\"],[0.3333333333333333,\"#9c179e\"],[0.4444444444444444,\"#bd3786\"],[0.5555555555555556,\"#d8576b\"],[0.6666666666666666,\"#ed7953\"],[0.7777777777777778,\"#fb9f3a\"],[0.8888888888888888,\"#fdca26\"],[1.0,\"#f0f921\"]]}],\"heatmap\":[{\"type\":\"heatmap\",\"colorbar\":{\"outlinewidth\":0,\"ticks\":\"\"},\"colorscale\":[[0.0,\"#0d0887\"],[0.1111111111111111,\"#46039f\"],[0.2222222222222222,\"#7201a8\"],[0.3333333333333333,\"#9c179e\"],[0.4444444444444444,\"#bd3786\"],[0.5555555555555556,\"#d8576b\"],[0.6666666666666666,\"#ed7953\"],[0.7777777777777778,\"#fb9f3a\"],[0.8888888888888888,\"#fdca26\"],[1.0,\"#f0f921\"]]}],\"heatmapgl\":[{\"type\":\"heatmapgl\",\"colorbar\":{\"outlinewidth\":0,\"ticks\":\"\"},\"colorscale\":[[0.0,\"#0d0887\"],[0.1111111111111111,\"#46039f\"],[0.2222222222222222,\"#7201a8\"],[0.3333333333333333,\"#9c179e\"],[0.4444444444444444,\"#bd3786\"],[0.5555555555555556,\"#d8576b\"],[0.6666666666666666,\"#ed7953\"],[0.7777777777777778,\"#fb9f3a\"],[0.8888888888888888,\"#fdca26\"],[1.0,\"#f0f921\"]]}],\"contourcarpet\":[{\"type\":\"contourcarpet\",\"colorbar\":{\"outlinewidth\":0,\"ticks\":\"\"}}],\"contour\":[{\"type\":\"contour\",\"colorbar\":{\"outlinewidth\":0,\"ticks\":\"\"},\"colorscale\":[[0.0,\"#0d0887\"],[0.1111111111111111,\"#46039f\"],[0.2222222222222222,\"#7201a8\"],[0.3333333333333333,\"#9c179e\"],[0.4444444444444444,\"#bd3786\"],[0.5555555555555556,\"#d8576b\"],[0.6666666666666666,\"#ed7953\"],[0.7777777777777778,\"#fb9f3a\"],[0.8888888888888888,\"#fdca26\"],[1.0,\"#f0f921\"]]}],\"surface\":[{\"type\":\"surface\",\"colorbar\":{\"outlinewidth\":0,\"ticks\":\"\"},\"colorscale\":[[0.0,\"#0d0887\"],[0.1111111111111111,\"#46039f\"],[0.2222222222222222,\"#7201a8\"],[0.3333333333333333,\"#9c179e\"],[0.4444444444444444,\"#bd3786\"],[0.5555555555555556,\"#d8576b\"],[0.6666666666666666,\"#ed7953\"],[0.7777777777777778,\"#fb9f3a\"],[0.8888888888888888,\"#fdca26\"],[1.0,\"#f0f921\"]]}],\"mesh3d\":[{\"type\":\"mesh3d\",\"colorbar\":{\"outlinewidth\":0,\"ticks\":\"\"}}],\"scatter\":[{\"fillpattern\":{\"fillmode\":\"overlay\",\"size\":10,\"solidity\":0.2},\"type\":\"scatter\"}],\"parcoords\":[{\"type\":\"parcoords\",\"line\":{\"colorbar\":{\"outlinewidth\":0,\"ticks\":\"\"}}}],\"scatterpolargl\":[{\"type\":\"scatterpolargl\",\"marker\":{\"colorbar\":{\"outlinewidth\":0,\"ticks\":\"\"}}}],\"bar\":[{\"error_x\":{\"color\":\"#2a3f5f\"},\"error_y\":{\"color\":\"#2a3f5f\"},\"marker\":{\"line\":{\"color\":\"#E5ECF6\",\"width\":0.5},\"pattern\":{\"fillmode\":\"overlay\",\"size\":10,\"solidity\":0.2}},\"type\":\"bar\"}],\"scattergeo\":[{\"type\":\"scattergeo\",\"marker\":{\"colorbar\":{\"outlinewidth\":0,\"ticks\":\"\"}}}],\"scatterpolar\":[{\"type\":\"scatterpolar\",\"marker\":{\"colorbar\":{\"outlinewidth\":0,\"ticks\":\"\"}}}],\"histogram\":[{\"marker\":{\"pattern\":{\"fillmode\":\"overlay\",\"size\":10,\"solidity\":0.2}},\"type\":\"histogram\"}],\"scattergl\":[{\"type\":\"scattergl\",\"marker\":{\"colorbar\":{\"outlinewidth\":0,\"ticks\":\"\"}}}],\"scatter3d\":[{\"type\":\"scatter3d\",\"line\":{\"colorbar\":{\"outlinewidth\":0,\"ticks\":\"\"}},\"marker\":{\"colorbar\":{\"outlinewidth\":0,\"ticks\":\"\"}}}],\"scattermapbox\":[{\"type\":\"scattermapbox\",\"marker\":{\"colorbar\":{\"outlinewidth\":0,\"ticks\":\"\"}}}],\"scatterternary\":[{\"type\":\"scatterternary\",\"marker\":{\"colorbar\":{\"outlinewidth\":0,\"ticks\":\"\"}}}],\"scattercarpet\":[{\"type\":\"scattercarpet\",\"marker\":{\"colorbar\":{\"outlinewidth\":0,\"ticks\":\"\"}}}],\"carpet\":[{\"aaxis\":{\"endlinecolor\":\"#2a3f5f\",\"gridcolor\":\"white\",\"linecolor\":\"white\",\"minorgridcolor\":\"white\",\"startlinecolor\":\"#2a3f5f\"},\"baxis\":{\"endlinecolor\":\"#2a3f5f\",\"gridcolor\":\"white\",\"linecolor\":\"white\",\"minorgridcolor\":\"white\",\"startlinecolor\":\"#2a3f5f\"},\"type\":\"carpet\"}],\"table\":[{\"cells\":{\"fill\":{\"color\":\"#EBF0F8\"},\"line\":{\"color\":\"white\"}},\"header\":{\"fill\":{\"color\":\"#C8D4E3\"},\"line\":{\"color\":\"white\"}},\"type\":\"table\"}],\"barpolar\":[{\"marker\":{\"line\":{\"color\":\"#E5ECF6\",\"width\":0.5},\"pattern\":{\"fillmode\":\"overlay\",\"size\":10,\"solidity\":0.2}},\"type\":\"barpolar\"}],\"pie\":[{\"automargin\":true,\"type\":\"pie\"}]},\"layout\":{\"autotypenumbers\":\"strict\",\"colorway\":[\"#636efa\",\"#EF553B\",\"#00cc96\",\"#ab63fa\",\"#FFA15A\",\"#19d3f3\",\"#FF6692\",\"#B6E880\",\"#FF97FF\",\"#FECB52\"],\"font\":{\"color\":\"#2a3f5f\"},\"hovermode\":\"closest\",\"hoverlabel\":{\"align\":\"left\"},\"paper_bgcolor\":\"white\",\"plot_bgcolor\":\"#E5ECF6\",\"polar\":{\"bgcolor\":\"#E5ECF6\",\"angularaxis\":{\"gridcolor\":\"white\",\"linecolor\":\"white\",\"ticks\":\"\"},\"radialaxis\":{\"gridcolor\":\"white\",\"linecolor\":\"white\",\"ticks\":\"\"}},\"ternary\":{\"bgcolor\":\"#E5ECF6\",\"aaxis\":{\"gridcolor\":\"white\",\"linecolor\":\"white\",\"ticks\":\"\"},\"baxis\":{\"gridcolor\":\"white\",\"linecolor\":\"white\",\"ticks\":\"\"},\"caxis\":{\"gridcolor\":\"white\",\"linecolor\":\"white\",\"ticks\":\"\"}},\"coloraxis\":{\"colorbar\":{\"outlinewidth\":0,\"ticks\":\"\"}},\"colorscale\":{\"sequential\":[[0.0,\"#0d0887\"],[0.1111111111111111,\"#46039f\"],[0.2222222222222222,\"#7201a8\"],[0.3333333333333333,\"#9c179e\"],[0.4444444444444444,\"#bd3786\"],[0.5555555555555556,\"#d8576b\"],[0.6666666666666666,\"#ed7953\"],[0.7777777777777778,\"#fb9f3a\"],[0.8888888888888888,\"#fdca26\"],[1.0,\"#f0f921\"]],\"sequentialminus\":[[0.0,\"#0d0887\"],[0.1111111111111111,\"#46039f\"],[0.2222222222222222,\"#7201a8\"],[0.3333333333333333,\"#9c179e\"],[0.4444444444444444,\"#bd3786\"],[0.5555555555555556,\"#d8576b\"],[0.6666666666666666,\"#ed7953\"],[0.7777777777777778,\"#fb9f3a\"],[0.8888888888888888,\"#fdca26\"],[1.0,\"#f0f921\"]],\"diverging\":[[0,\"#8e0152\"],[0.1,\"#c51b7d\"],[0.2,\"#de77ae\"],[0.3,\"#f1b6da\"],[0.4,\"#fde0ef\"],[0.5,\"#f7f7f7\"],[0.6,\"#e6f5d0\"],[0.7,\"#b8e186\"],[0.8,\"#7fbc41\"],[0.9,\"#4d9221\"],[1,\"#276419\"]]},\"xaxis\":{\"gridcolor\":\"white\",\"linecolor\":\"white\",\"ticks\":\"\",\"title\":{\"standoff\":15},\"zerolinecolor\":\"white\",\"automargin\":true,\"zerolinewidth\":2},\"yaxis\":{\"gridcolor\":\"white\",\"linecolor\":\"white\",\"ticks\":\"\",\"title\":{\"standoff\":15},\"zerolinecolor\":\"white\",\"automargin\":true,\"zerolinewidth\":2},\"scene\":{\"xaxis\":{\"backgroundcolor\":\"#E5ECF6\",\"gridcolor\":\"white\",\"linecolor\":\"white\",\"showbackground\":true,\"ticks\":\"\",\"zerolinecolor\":\"white\",\"gridwidth\":2},\"yaxis\":{\"backgroundcolor\":\"#E5ECF6\",\"gridcolor\":\"white\",\"linecolor\":\"white\",\"showbackground\":true,\"ticks\":\"\",\"zerolinecolor\":\"white\",\"gridwidth\":2},\"zaxis\":{\"backgroundcolor\":\"#E5ECF6\",\"gridcolor\":\"white\",\"linecolor\":\"white\",\"showbackground\":true,\"ticks\":\"\",\"zerolinecolor\":\"white\",\"gridwidth\":2}},\"shapedefaults\":{\"line\":{\"color\":\"#2a3f5f\"}},\"annotationdefaults\":{\"arrowcolor\":\"#2a3f5f\",\"arrowhead\":0,\"arrowwidth\":1},\"geo\":{\"bgcolor\":\"white\",\"landcolor\":\"#E5ECF6\",\"subunitcolor\":\"white\",\"showland\":true,\"showlakes\":true,\"lakecolor\":\"white\"},\"title\":{\"x\":0.05},\"mapbox\":{\"style\":\"light\"}}},\"coloraxis\":{\"colorbar\":{\"title\":{\"text\":\"cnt\"}},\"colorscale\":[[0.0,\"#0d0887\"],[0.1111111111111111,\"#46039f\"],[0.2222222222222222,\"#7201a8\"],[0.3333333333333333,\"#9c179e\"],[0.4444444444444444,\"#bd3786\"],[0.5555555555555556,\"#d8576b\"],[0.6666666666666666,\"#ed7953\"],[0.7777777777777778,\"#fb9f3a\"],[0.8888888888888888,\"#fdca26\"],[1.0,\"#f0f921\"]]},\"legend\":{\"tracegroupgap\":0},\"title\":{\"text\":\"Pares de Variables\"},\"dragmode\":\"select\",\"height\":1000},                        {\"responsive\": true}                    ).then(function(){\n",
              "                            \n",
              "var gd = document.getElementById('e8531382-f4f0-4c75-8318-6b50f41dd38a');\n",
              "var x = new MutationObserver(function (mutations, observer) {{\n",
              "        var display = window.getComputedStyle(gd).display;\n",
              "        if (!display || display === 'none') {{\n",
              "            console.log([gd, 'removed!']);\n",
              "            Plotly.purge(gd);\n",
              "            observer.disconnect();\n",
              "        }}\n",
              "}});\n",
              "\n",
              "// Listen for the removal of the full notebook cells\n",
              "var notebookContainer = gd.closest('#notebook-container');\n",
              "if (notebookContainer) {{\n",
              "    x.observe(notebookContainer, {childList: true});\n",
              "}}\n",
              "\n",
              "// Listen for the clearing of the current output cell\n",
              "var outputEl = gd.closest('.output');\n",
              "if (outputEl) {{\n",
              "    x.observe(outputEl, {childList: true});\n",
              "}}\n",
              "\n",
              "                        })                };                            </script>        </div>\n",
              "</body>\n",
              "</html>"
            ]
          },
          "metadata": {}
        }
      ]
    },
    {
      "cell_type": "markdown",
      "source": [
        "Las variables consideradas para este analisis serán:\n",
        "\n",
        "*   holiday\n",
        "*   workingday\n",
        "*   weathersit\n",
        "*   temp\n",
        "*   hum\n",
        "*   wind_speed\n",
        "\n",
        "Y la variable objetivo será cnt.\n",
        "Es necesario señalar que la variable weathersit aunque podamos considerarla categórica tiene condiciones atmosféricas de tranquilas a terribles y ya están ordenadas. Entonces trabajaremos con ella tal como está. Se utilizará la base d e días y no la de horas, se considera las horas importantes pero para fines del examen está bien solo usar los días."
      ],
      "metadata": {
        "id": "Us_prAeGh_nh"
      }
    },
    {
      "cell_type": "code",
      "source": [
        "X = day[['workingday','weathersit','holiday','temp','hum','windspeed']]\n",
        "y = day[['cnt']]\n",
        "#X = day.drop(['dteday','cnt'], axis = 1)\n",
        "#y = day['cnt']\n",
        "X_train, X_test, y_train, y_test = train_test_split(X, y, test_size = 0.2, random_state = 26)"
      ],
      "metadata": {
        "id": "igNhXpKCi5vZ"
      },
      "execution_count": null,
      "outputs": []
    },
    {
      "cell_type": "code",
      "source": [
        "scaler = StandardScaler()\n",
        "X_train_scaled = scaler.fit_transform(X_train)\n",
        "X_test_scaled = scaler.fit_transform(X_test)"
      ],
      "metadata": {
        "id": "Tt8ARj-PkNCp"
      },
      "execution_count": null,
      "outputs": []
    },
    {
      "cell_type": "code",
      "source": [
        "svm = SVR()\n",
        "svm.fit(X_train_scaled,y_train)"
      ],
      "metadata": {
        "colab": {
          "base_uri": "https://localhost:8080/",
          "height": 149
        },
        "id": "vkN1i_wqkROw",
        "outputId": "75608a91-3082-4ea5-c45c-3b328ae71bc4"
      },
      "execution_count": null,
      "outputs": [
        {
          "output_type": "stream",
          "name": "stderr",
          "text": [
            "/usr/local/lib/python3.10/dist-packages/sklearn/utils/validation.py:1143: DataConversionWarning:\n",
            "\n",
            "A column-vector y was passed when a 1d array was expected. Please change the shape of y to (n_samples, ), for example using ravel().\n",
            "\n"
          ]
        },
        {
          "output_type": "execute_result",
          "data": {
            "text/plain": [
              "SVR()"
            ],
            "text/html": [
              "<style>#sk-container-id-50 {color: black;background-color: white;}#sk-container-id-50 pre{padding: 0;}#sk-container-id-50 div.sk-toggleable {background-color: white;}#sk-container-id-50 label.sk-toggleable__label {cursor: pointer;display: block;width: 100%;margin-bottom: 0;padding: 0.3em;box-sizing: border-box;text-align: center;}#sk-container-id-50 label.sk-toggleable__label-arrow:before {content: \"▸\";float: left;margin-right: 0.25em;color: #696969;}#sk-container-id-50 label.sk-toggleable__label-arrow:hover:before {color: black;}#sk-container-id-50 div.sk-estimator:hover label.sk-toggleable__label-arrow:before {color: black;}#sk-container-id-50 div.sk-toggleable__content {max-height: 0;max-width: 0;overflow: hidden;text-align: left;background-color: #f0f8ff;}#sk-container-id-50 div.sk-toggleable__content pre {margin: 0.2em;color: black;border-radius: 0.25em;background-color: #f0f8ff;}#sk-container-id-50 input.sk-toggleable__control:checked~div.sk-toggleable__content {max-height: 200px;max-width: 100%;overflow: auto;}#sk-container-id-50 input.sk-toggleable__control:checked~label.sk-toggleable__label-arrow:before {content: \"▾\";}#sk-container-id-50 div.sk-estimator input.sk-toggleable__control:checked~label.sk-toggleable__label {background-color: #d4ebff;}#sk-container-id-50 div.sk-label input.sk-toggleable__control:checked~label.sk-toggleable__label {background-color: #d4ebff;}#sk-container-id-50 input.sk-hidden--visually {border: 0;clip: rect(1px 1px 1px 1px);clip: rect(1px, 1px, 1px, 1px);height: 1px;margin: -1px;overflow: hidden;padding: 0;position: absolute;width: 1px;}#sk-container-id-50 div.sk-estimator {font-family: monospace;background-color: #f0f8ff;border: 1px dotted black;border-radius: 0.25em;box-sizing: border-box;margin-bottom: 0.5em;}#sk-container-id-50 div.sk-estimator:hover {background-color: #d4ebff;}#sk-container-id-50 div.sk-parallel-item::after {content: \"\";width: 100%;border-bottom: 1px solid gray;flex-grow: 1;}#sk-container-id-50 div.sk-label:hover label.sk-toggleable__label {background-color: #d4ebff;}#sk-container-id-50 div.sk-serial::before {content: \"\";position: absolute;border-left: 1px solid gray;box-sizing: border-box;top: 0;bottom: 0;left: 50%;z-index: 0;}#sk-container-id-50 div.sk-serial {display: flex;flex-direction: column;align-items: center;background-color: white;padding-right: 0.2em;padding-left: 0.2em;position: relative;}#sk-container-id-50 div.sk-item {position: relative;z-index: 1;}#sk-container-id-50 div.sk-parallel {display: flex;align-items: stretch;justify-content: center;background-color: white;position: relative;}#sk-container-id-50 div.sk-item::before, #sk-container-id-50 div.sk-parallel-item::before {content: \"\";position: absolute;border-left: 1px solid gray;box-sizing: border-box;top: 0;bottom: 0;left: 50%;z-index: -1;}#sk-container-id-50 div.sk-parallel-item {display: flex;flex-direction: column;z-index: 1;position: relative;background-color: white;}#sk-container-id-50 div.sk-parallel-item:first-child::after {align-self: flex-end;width: 50%;}#sk-container-id-50 div.sk-parallel-item:last-child::after {align-self: flex-start;width: 50%;}#sk-container-id-50 div.sk-parallel-item:only-child::after {width: 0;}#sk-container-id-50 div.sk-dashed-wrapped {border: 1px dashed gray;margin: 0 0.4em 0.5em 0.4em;box-sizing: border-box;padding-bottom: 0.4em;background-color: white;}#sk-container-id-50 div.sk-label label {font-family: monospace;font-weight: bold;display: inline-block;line-height: 1.2em;}#sk-container-id-50 div.sk-label-container {text-align: center;}#sk-container-id-50 div.sk-container {/* jupyter's `normalize.less` sets `[hidden] { display: none; }` but bootstrap.min.css set `[hidden] { display: none !important; }` so we also need the `!important` here to be able to override the default hidden behavior on the sphinx rendered scikit-learn.org. See: https://github.com/scikit-learn/scikit-learn/issues/21755 */display: inline-block !important;position: relative;}#sk-container-id-50 div.sk-text-repr-fallback {display: none;}</style><div id=\"sk-container-id-50\" class=\"sk-top-container\"><div class=\"sk-text-repr-fallback\"><pre>SVR()</pre><b>In a Jupyter environment, please rerun this cell to show the HTML representation or trust the notebook. <br />On GitHub, the HTML representation is unable to render, please try loading this page with nbviewer.org.</b></div><div class=\"sk-container\" hidden><div class=\"sk-item\"><div class=\"sk-estimator sk-toggleable\"><input class=\"sk-toggleable__control sk-hidden--visually\" id=\"sk-estimator-id-50\" type=\"checkbox\" checked><label for=\"sk-estimator-id-50\" class=\"sk-toggleable__label sk-toggleable__label-arrow\">SVR</label><div class=\"sk-toggleable__content\"><pre>SVR()</pre></div></div></div></div></div>"
            ]
          },
          "metadata": {},
          "execution_count": 208
        }
      ]
    },
    {
      "cell_type": "code",
      "source": [
        "y_pred_svm = svm.predict(X_test_scaled)\n",
        "mse_svm = mean_squared_error(y_test, y_pred = y_pred_svm)\n",
        "print(mse_svm) #Entre más cercano sea r^2 a 0, mejor va a ser el modelo"
      ],
      "metadata": {
        "colab": {
          "base_uri": "https://localhost:8080/"
        },
        "id": "dtCQR5GXnYXW",
        "outputId": "1113e7d0-b725-4f7f-af2b-dc13f8ea8772"
      },
      "execution_count": null,
      "outputs": [
        {
          "output_type": "stream",
          "name": "stdout",
          "text": [
            "3787712.8981378404\n"
          ]
        }
      ]
    },
    {
      "cell_type": "code",
      "source": [
        "svm_r2 = r2_score(y_test,y_pred_svm)\n",
        "print(svm_r2)"
      ],
      "metadata": {
        "colab": {
          "base_uri": "https://localhost:8080/"
        },
        "id": "7_kdzKWIsGSY",
        "outputId": "f204c024-5609-4104-eb94-7c3197b791d5"
      },
      "execution_count": null,
      "outputs": [
        {
          "output_type": "stream",
          "name": "stdout",
          "text": [
            "0.02060584644222274\n"
          ]
        }
      ]
    },
    {
      "cell_type": "code",
      "source": [
        "dt = DecisionTreeRegressor(random_state = 26)\n",
        "dt.fit(X_train_scaled, y_train)"
      ],
      "metadata": {
        "colab": {
          "base_uri": "https://localhost:8080/",
          "height": 75
        },
        "id": "50_Rv6g7mjMv",
        "outputId": "70bdd139-25b4-41d8-b6cb-4726e70ceaba"
      },
      "execution_count": null,
      "outputs": [
        {
          "output_type": "execute_result",
          "data": {
            "text/plain": [
              "DecisionTreeRegressor(random_state=26)"
            ],
            "text/html": [
              "<style>#sk-container-id-51 {color: black;background-color: white;}#sk-container-id-51 pre{padding: 0;}#sk-container-id-51 div.sk-toggleable {background-color: white;}#sk-container-id-51 label.sk-toggleable__label {cursor: pointer;display: block;width: 100%;margin-bottom: 0;padding: 0.3em;box-sizing: border-box;text-align: center;}#sk-container-id-51 label.sk-toggleable__label-arrow:before {content: \"▸\";float: left;margin-right: 0.25em;color: #696969;}#sk-container-id-51 label.sk-toggleable__label-arrow:hover:before {color: black;}#sk-container-id-51 div.sk-estimator:hover label.sk-toggleable__label-arrow:before {color: black;}#sk-container-id-51 div.sk-toggleable__content {max-height: 0;max-width: 0;overflow: hidden;text-align: left;background-color: #f0f8ff;}#sk-container-id-51 div.sk-toggleable__content pre {margin: 0.2em;color: black;border-radius: 0.25em;background-color: #f0f8ff;}#sk-container-id-51 input.sk-toggleable__control:checked~div.sk-toggleable__content {max-height: 200px;max-width: 100%;overflow: auto;}#sk-container-id-51 input.sk-toggleable__control:checked~label.sk-toggleable__label-arrow:before {content: \"▾\";}#sk-container-id-51 div.sk-estimator input.sk-toggleable__control:checked~label.sk-toggleable__label {background-color: #d4ebff;}#sk-container-id-51 div.sk-label input.sk-toggleable__control:checked~label.sk-toggleable__label {background-color: #d4ebff;}#sk-container-id-51 input.sk-hidden--visually {border: 0;clip: rect(1px 1px 1px 1px);clip: rect(1px, 1px, 1px, 1px);height: 1px;margin: -1px;overflow: hidden;padding: 0;position: absolute;width: 1px;}#sk-container-id-51 div.sk-estimator {font-family: monospace;background-color: #f0f8ff;border: 1px dotted black;border-radius: 0.25em;box-sizing: border-box;margin-bottom: 0.5em;}#sk-container-id-51 div.sk-estimator:hover {background-color: #d4ebff;}#sk-container-id-51 div.sk-parallel-item::after {content: \"\";width: 100%;border-bottom: 1px solid gray;flex-grow: 1;}#sk-container-id-51 div.sk-label:hover label.sk-toggleable__label {background-color: #d4ebff;}#sk-container-id-51 div.sk-serial::before {content: \"\";position: absolute;border-left: 1px solid gray;box-sizing: border-box;top: 0;bottom: 0;left: 50%;z-index: 0;}#sk-container-id-51 div.sk-serial {display: flex;flex-direction: column;align-items: center;background-color: white;padding-right: 0.2em;padding-left: 0.2em;position: relative;}#sk-container-id-51 div.sk-item {position: relative;z-index: 1;}#sk-container-id-51 div.sk-parallel {display: flex;align-items: stretch;justify-content: center;background-color: white;position: relative;}#sk-container-id-51 div.sk-item::before, #sk-container-id-51 div.sk-parallel-item::before {content: \"\";position: absolute;border-left: 1px solid gray;box-sizing: border-box;top: 0;bottom: 0;left: 50%;z-index: -1;}#sk-container-id-51 div.sk-parallel-item {display: flex;flex-direction: column;z-index: 1;position: relative;background-color: white;}#sk-container-id-51 div.sk-parallel-item:first-child::after {align-self: flex-end;width: 50%;}#sk-container-id-51 div.sk-parallel-item:last-child::after {align-self: flex-start;width: 50%;}#sk-container-id-51 div.sk-parallel-item:only-child::after {width: 0;}#sk-container-id-51 div.sk-dashed-wrapped {border: 1px dashed gray;margin: 0 0.4em 0.5em 0.4em;box-sizing: border-box;padding-bottom: 0.4em;background-color: white;}#sk-container-id-51 div.sk-label label {font-family: monospace;font-weight: bold;display: inline-block;line-height: 1.2em;}#sk-container-id-51 div.sk-label-container {text-align: center;}#sk-container-id-51 div.sk-container {/* jupyter's `normalize.less` sets `[hidden] { display: none; }` but bootstrap.min.css set `[hidden] { display: none !important; }` so we also need the `!important` here to be able to override the default hidden behavior on the sphinx rendered scikit-learn.org. See: https://github.com/scikit-learn/scikit-learn/issues/21755 */display: inline-block !important;position: relative;}#sk-container-id-51 div.sk-text-repr-fallback {display: none;}</style><div id=\"sk-container-id-51\" class=\"sk-top-container\"><div class=\"sk-text-repr-fallback\"><pre>DecisionTreeRegressor(random_state=26)</pre><b>In a Jupyter environment, please rerun this cell to show the HTML representation or trust the notebook. <br />On GitHub, the HTML representation is unable to render, please try loading this page with nbviewer.org.</b></div><div class=\"sk-container\" hidden><div class=\"sk-item\"><div class=\"sk-estimator sk-toggleable\"><input class=\"sk-toggleable__control sk-hidden--visually\" id=\"sk-estimator-id-51\" type=\"checkbox\" checked><label for=\"sk-estimator-id-51\" class=\"sk-toggleable__label sk-toggleable__label-arrow\">DecisionTreeRegressor</label><div class=\"sk-toggleable__content\"><pre>DecisionTreeRegressor(random_state=26)</pre></div></div></div></div></div>"
            ]
          },
          "metadata": {},
          "execution_count": 211
        }
      ]
    },
    {
      "cell_type": "code",
      "source": [
        "y_pred_dt = dt.predict(X_test_scaled)\n",
        "mse_dt = mean_squared_error(y_test, y_pred_dt)\n",
        "print(mse_dt)"
      ],
      "metadata": {
        "colab": {
          "base_uri": "https://localhost:8080/"
        },
        "id": "8Xj9TS62h8gs",
        "outputId": "c8b91134-a792-4c32-8120-7fe21cf4ff5f"
      },
      "execution_count": null,
      "outputs": [
        {
          "output_type": "stream",
          "name": "stdout",
          "text": [
            "2693252.5918367347\n"
          ]
        }
      ]
    },
    {
      "cell_type": "code",
      "source": [
        "dt_r2 = r2_score(y_test, y_pred_dt)\n",
        "print(dt_r2)"
      ],
      "metadata": {
        "colab": {
          "base_uri": "https://localhost:8080/"
        },
        "id": "Yx66bJ6rsQ6b",
        "outputId": "165d7735-51b7-498f-8f4a-605d56dd92e8"
      },
      "execution_count": null,
      "outputs": [
        {
          "output_type": "stream",
          "name": "stdout",
          "text": [
            "0.3036019589034763\n"
          ]
        }
      ]
    },
    {
      "cell_type": "code",
      "source": [
        "rf = RandomForestRegressor(random_state = 26)\n",
        "rf.fit(X_train_scaled, y_train)"
      ],
      "metadata": {
        "colab": {
          "base_uri": "https://localhost:8080/",
          "height": 149
        },
        "id": "h-mypxfrouii",
        "outputId": "1b2f11b4-e4bd-4229-e824-d0a9193b28ab"
      },
      "execution_count": null,
      "outputs": [
        {
          "output_type": "stream",
          "name": "stderr",
          "text": [
            "<ipython-input-214-7d08aed27db8>:2: DataConversionWarning:\n",
            "\n",
            "A column-vector y was passed when a 1d array was expected. Please change the shape of y to (n_samples,), for example using ravel().\n",
            "\n"
          ]
        },
        {
          "output_type": "execute_result",
          "data": {
            "text/plain": [
              "RandomForestRegressor(random_state=26)"
            ],
            "text/html": [
              "<style>#sk-container-id-52 {color: black;background-color: white;}#sk-container-id-52 pre{padding: 0;}#sk-container-id-52 div.sk-toggleable {background-color: white;}#sk-container-id-52 label.sk-toggleable__label {cursor: pointer;display: block;width: 100%;margin-bottom: 0;padding: 0.3em;box-sizing: border-box;text-align: center;}#sk-container-id-52 label.sk-toggleable__label-arrow:before {content: \"▸\";float: left;margin-right: 0.25em;color: #696969;}#sk-container-id-52 label.sk-toggleable__label-arrow:hover:before {color: black;}#sk-container-id-52 div.sk-estimator:hover label.sk-toggleable__label-arrow:before {color: black;}#sk-container-id-52 div.sk-toggleable__content {max-height: 0;max-width: 0;overflow: hidden;text-align: left;background-color: #f0f8ff;}#sk-container-id-52 div.sk-toggleable__content pre {margin: 0.2em;color: black;border-radius: 0.25em;background-color: #f0f8ff;}#sk-container-id-52 input.sk-toggleable__control:checked~div.sk-toggleable__content {max-height: 200px;max-width: 100%;overflow: auto;}#sk-container-id-52 input.sk-toggleable__control:checked~label.sk-toggleable__label-arrow:before {content: \"▾\";}#sk-container-id-52 div.sk-estimator input.sk-toggleable__control:checked~label.sk-toggleable__label {background-color: #d4ebff;}#sk-container-id-52 div.sk-label input.sk-toggleable__control:checked~label.sk-toggleable__label {background-color: #d4ebff;}#sk-container-id-52 input.sk-hidden--visually {border: 0;clip: rect(1px 1px 1px 1px);clip: rect(1px, 1px, 1px, 1px);height: 1px;margin: -1px;overflow: hidden;padding: 0;position: absolute;width: 1px;}#sk-container-id-52 div.sk-estimator {font-family: monospace;background-color: #f0f8ff;border: 1px dotted black;border-radius: 0.25em;box-sizing: border-box;margin-bottom: 0.5em;}#sk-container-id-52 div.sk-estimator:hover {background-color: #d4ebff;}#sk-container-id-52 div.sk-parallel-item::after {content: \"\";width: 100%;border-bottom: 1px solid gray;flex-grow: 1;}#sk-container-id-52 div.sk-label:hover label.sk-toggleable__label {background-color: #d4ebff;}#sk-container-id-52 div.sk-serial::before {content: \"\";position: absolute;border-left: 1px solid gray;box-sizing: border-box;top: 0;bottom: 0;left: 50%;z-index: 0;}#sk-container-id-52 div.sk-serial {display: flex;flex-direction: column;align-items: center;background-color: white;padding-right: 0.2em;padding-left: 0.2em;position: relative;}#sk-container-id-52 div.sk-item {position: relative;z-index: 1;}#sk-container-id-52 div.sk-parallel {display: flex;align-items: stretch;justify-content: center;background-color: white;position: relative;}#sk-container-id-52 div.sk-item::before, #sk-container-id-52 div.sk-parallel-item::before {content: \"\";position: absolute;border-left: 1px solid gray;box-sizing: border-box;top: 0;bottom: 0;left: 50%;z-index: -1;}#sk-container-id-52 div.sk-parallel-item {display: flex;flex-direction: column;z-index: 1;position: relative;background-color: white;}#sk-container-id-52 div.sk-parallel-item:first-child::after {align-self: flex-end;width: 50%;}#sk-container-id-52 div.sk-parallel-item:last-child::after {align-self: flex-start;width: 50%;}#sk-container-id-52 div.sk-parallel-item:only-child::after {width: 0;}#sk-container-id-52 div.sk-dashed-wrapped {border: 1px dashed gray;margin: 0 0.4em 0.5em 0.4em;box-sizing: border-box;padding-bottom: 0.4em;background-color: white;}#sk-container-id-52 div.sk-label label {font-family: monospace;font-weight: bold;display: inline-block;line-height: 1.2em;}#sk-container-id-52 div.sk-label-container {text-align: center;}#sk-container-id-52 div.sk-container {/* jupyter's `normalize.less` sets `[hidden] { display: none; }` but bootstrap.min.css set `[hidden] { display: none !important; }` so we also need the `!important` here to be able to override the default hidden behavior on the sphinx rendered scikit-learn.org. See: https://github.com/scikit-learn/scikit-learn/issues/21755 */display: inline-block !important;position: relative;}#sk-container-id-52 div.sk-text-repr-fallback {display: none;}</style><div id=\"sk-container-id-52\" class=\"sk-top-container\"><div class=\"sk-text-repr-fallback\"><pre>RandomForestRegressor(random_state=26)</pre><b>In a Jupyter environment, please rerun this cell to show the HTML representation or trust the notebook. <br />On GitHub, the HTML representation is unable to render, please try loading this page with nbviewer.org.</b></div><div class=\"sk-container\" hidden><div class=\"sk-item\"><div class=\"sk-estimator sk-toggleable\"><input class=\"sk-toggleable__control sk-hidden--visually\" id=\"sk-estimator-id-52\" type=\"checkbox\" checked><label for=\"sk-estimator-id-52\" class=\"sk-toggleable__label sk-toggleable__label-arrow\">RandomForestRegressor</label><div class=\"sk-toggleable__content\"><pre>RandomForestRegressor(random_state=26)</pre></div></div></div></div></div>"
            ]
          },
          "metadata": {},
          "execution_count": 214
        }
      ]
    },
    {
      "cell_type": "code",
      "source": [
        "y_pred_rf = rf.predict(X_test_scaled)\n",
        "mse_rf = mean_squared_error(y_test, y_pred_rf)\n",
        "print(mse_rf)"
      ],
      "metadata": {
        "colab": {
          "base_uri": "https://localhost:8080/"
        },
        "id": "hr425vcOov4b",
        "outputId": "e410c59e-50d3-464e-b73b-30901483d521"
      },
      "execution_count": null,
      "outputs": [
        {
          "output_type": "stream",
          "name": "stdout",
          "text": [
            "1682702.4597034017\n"
          ]
        }
      ]
    },
    {
      "cell_type": "code",
      "source": [
        "rf_r2 = r2_score(y_test, y_pred_rf)\n",
        "print(rf_r2)"
      ],
      "metadata": {
        "colab": {
          "base_uri": "https://localhost:8080/"
        },
        "id": "FCpJPKYZsWL4",
        "outputId": "12c33969-8ad7-4411-a45f-6fefe51558e8"
      },
      "execution_count": null,
      "outputs": [
        {
          "output_type": "stream",
          "name": "stdout",
          "text": [
            "0.5649013017800197\n"
          ]
        }
      ]
    },
    {
      "cell_type": "code",
      "source": [
        "results = pd.DataFrame({\n",
        "    'Model':['SVM','DT','RF'],\n",
        "    'MSR':[mse_svm, mse_dt, mse_rf],\n",
        "    'R2':[svm_r2, dt_r2, rf_r2]\n",
        "})\n",
        "results"
      ],
      "metadata": {
        "colab": {
          "base_uri": "https://localhost:8080/",
          "height": 143
        },
        "id": "e7v4x1cysplq",
        "outputId": "f2ced29e-41fb-4c6f-fcb9-87da145526ec"
      },
      "execution_count": null,
      "outputs": [
        {
          "output_type": "execute_result",
          "data": {
            "text/plain": [
              "  Model           MSR        R2\n",
              "0   SVM  3.787713e+06  0.020606\n",
              "1    DT  2.693253e+06  0.303602\n",
              "2    RF  1.682702e+06  0.564901"
            ],
            "text/html": [
              "\n",
              "  <div id=\"df-4c0125b8-6060-4be6-99cd-410f4d7bffc1\" class=\"colab-df-container\">\n",
              "    <div>\n",
              "<style scoped>\n",
              "    .dataframe tbody tr th:only-of-type {\n",
              "        vertical-align: middle;\n",
              "    }\n",
              "\n",
              "    .dataframe tbody tr th {\n",
              "        vertical-align: top;\n",
              "    }\n",
              "\n",
              "    .dataframe thead th {\n",
              "        text-align: right;\n",
              "    }\n",
              "</style>\n",
              "<table border=\"1\" class=\"dataframe\">\n",
              "  <thead>\n",
              "    <tr style=\"text-align: right;\">\n",
              "      <th></th>\n",
              "      <th>Model</th>\n",
              "      <th>MSR</th>\n",
              "      <th>R2</th>\n",
              "    </tr>\n",
              "  </thead>\n",
              "  <tbody>\n",
              "    <tr>\n",
              "      <th>0</th>\n",
              "      <td>SVM</td>\n",
              "      <td>3.787713e+06</td>\n",
              "      <td>0.020606</td>\n",
              "    </tr>\n",
              "    <tr>\n",
              "      <th>1</th>\n",
              "      <td>DT</td>\n",
              "      <td>2.693253e+06</td>\n",
              "      <td>0.303602</td>\n",
              "    </tr>\n",
              "    <tr>\n",
              "      <th>2</th>\n",
              "      <td>RF</td>\n",
              "      <td>1.682702e+06</td>\n",
              "      <td>0.564901</td>\n",
              "    </tr>\n",
              "  </tbody>\n",
              "</table>\n",
              "</div>\n",
              "    <div class=\"colab-df-buttons\">\n",
              "\n",
              "  <div class=\"colab-df-container\">\n",
              "    <button class=\"colab-df-convert\" onclick=\"convertToInteractive('df-4c0125b8-6060-4be6-99cd-410f4d7bffc1')\"\n",
              "            title=\"Convert this dataframe to an interactive table.\"\n",
              "            style=\"display:none;\">\n",
              "\n",
              "  <svg xmlns=\"http://www.w3.org/2000/svg\" height=\"24px\" viewBox=\"0 -960 960 960\">\n",
              "    <path d=\"M120-120v-720h720v720H120Zm60-500h600v-160H180v160Zm220 220h160v-160H400v160Zm0 220h160v-160H400v160ZM180-400h160v-160H180v160Zm440 0h160v-160H620v160ZM180-180h160v-160H180v160Zm440 0h160v-160H620v160Z\"/>\n",
              "  </svg>\n",
              "    </button>\n",
              "\n",
              "  <style>\n",
              "    .colab-df-container {\n",
              "      display:flex;\n",
              "      gap: 12px;\n",
              "    }\n",
              "\n",
              "    .colab-df-convert {\n",
              "      background-color: #E8F0FE;\n",
              "      border: none;\n",
              "      border-radius: 50%;\n",
              "      cursor: pointer;\n",
              "      display: none;\n",
              "      fill: #1967D2;\n",
              "      height: 32px;\n",
              "      padding: 0 0 0 0;\n",
              "      width: 32px;\n",
              "    }\n",
              "\n",
              "    .colab-df-convert:hover {\n",
              "      background-color: #E2EBFA;\n",
              "      box-shadow: 0px 1px 2px rgba(60, 64, 67, 0.3), 0px 1px 3px 1px rgba(60, 64, 67, 0.15);\n",
              "      fill: #174EA6;\n",
              "    }\n",
              "\n",
              "    .colab-df-buttons div {\n",
              "      margin-bottom: 4px;\n",
              "    }\n",
              "\n",
              "    [theme=dark] .colab-df-convert {\n",
              "      background-color: #3B4455;\n",
              "      fill: #D2E3FC;\n",
              "    }\n",
              "\n",
              "    [theme=dark] .colab-df-convert:hover {\n",
              "      background-color: #434B5C;\n",
              "      box-shadow: 0px 1px 3px 1px rgba(0, 0, 0, 0.15);\n",
              "      filter: drop-shadow(0px 1px 2px rgba(0, 0, 0, 0.3));\n",
              "      fill: #FFFFFF;\n",
              "    }\n",
              "  </style>\n",
              "\n",
              "    <script>\n",
              "      const buttonEl =\n",
              "        document.querySelector('#df-4c0125b8-6060-4be6-99cd-410f4d7bffc1 button.colab-df-convert');\n",
              "      buttonEl.style.display =\n",
              "        google.colab.kernel.accessAllowed ? 'block' : 'none';\n",
              "\n",
              "      async function convertToInteractive(key) {\n",
              "        const element = document.querySelector('#df-4c0125b8-6060-4be6-99cd-410f4d7bffc1');\n",
              "        const dataTable =\n",
              "          await google.colab.kernel.invokeFunction('convertToInteractive',\n",
              "                                                    [key], {});\n",
              "        if (!dataTable) return;\n",
              "\n",
              "        const docLinkHtml = 'Like what you see? Visit the ' +\n",
              "          '<a target=\"_blank\" href=https://colab.research.google.com/notebooks/data_table.ipynb>data table notebook</a>'\n",
              "          + ' to learn more about interactive tables.';\n",
              "        element.innerHTML = '';\n",
              "        dataTable['output_type'] = 'display_data';\n",
              "        await google.colab.output.renderOutput(dataTable, element);\n",
              "        const docLink = document.createElement('div');\n",
              "        docLink.innerHTML = docLinkHtml;\n",
              "        element.appendChild(docLink);\n",
              "      }\n",
              "    </script>\n",
              "  </div>\n",
              "\n",
              "\n",
              "<div id=\"df-12bb5d3c-2e82-43fc-8c38-1b2438a44d26\">\n",
              "  <button class=\"colab-df-quickchart\" onclick=\"quickchart('df-12bb5d3c-2e82-43fc-8c38-1b2438a44d26')\"\n",
              "            title=\"Suggest charts\"\n",
              "            style=\"display:none;\">\n",
              "\n",
              "<svg xmlns=\"http://www.w3.org/2000/svg\" height=\"24px\"viewBox=\"0 0 24 24\"\n",
              "     width=\"24px\">\n",
              "    <g>\n",
              "        <path d=\"M19 3H5c-1.1 0-2 .9-2 2v14c0 1.1.9 2 2 2h14c1.1 0 2-.9 2-2V5c0-1.1-.9-2-2-2zM9 17H7v-7h2v7zm4 0h-2V7h2v10zm4 0h-2v-4h2v4z\"/>\n",
              "    </g>\n",
              "</svg>\n",
              "  </button>\n",
              "\n",
              "<style>\n",
              "  .colab-df-quickchart {\n",
              "      --bg-color: #E8F0FE;\n",
              "      --fill-color: #1967D2;\n",
              "      --hover-bg-color: #E2EBFA;\n",
              "      --hover-fill-color: #174EA6;\n",
              "      --disabled-fill-color: #AAA;\n",
              "      --disabled-bg-color: #DDD;\n",
              "  }\n",
              "\n",
              "  [theme=dark] .colab-df-quickchart {\n",
              "      --bg-color: #3B4455;\n",
              "      --fill-color: #D2E3FC;\n",
              "      --hover-bg-color: #434B5C;\n",
              "      --hover-fill-color: #FFFFFF;\n",
              "      --disabled-bg-color: #3B4455;\n",
              "      --disabled-fill-color: #666;\n",
              "  }\n",
              "\n",
              "  .colab-df-quickchart {\n",
              "    background-color: var(--bg-color);\n",
              "    border: none;\n",
              "    border-radius: 50%;\n",
              "    cursor: pointer;\n",
              "    display: none;\n",
              "    fill: var(--fill-color);\n",
              "    height: 32px;\n",
              "    padding: 0;\n",
              "    width: 32px;\n",
              "  }\n",
              "\n",
              "  .colab-df-quickchart:hover {\n",
              "    background-color: var(--hover-bg-color);\n",
              "    box-shadow: 0 1px 2px rgba(60, 64, 67, 0.3), 0 1px 3px 1px rgba(60, 64, 67, 0.15);\n",
              "    fill: var(--button-hover-fill-color);\n",
              "  }\n",
              "\n",
              "  .colab-df-quickchart-complete:disabled,\n",
              "  .colab-df-quickchart-complete:disabled:hover {\n",
              "    background-color: var(--disabled-bg-color);\n",
              "    fill: var(--disabled-fill-color);\n",
              "    box-shadow: none;\n",
              "  }\n",
              "\n",
              "  .colab-df-spinner {\n",
              "    border: 2px solid var(--fill-color);\n",
              "    border-color: transparent;\n",
              "    border-bottom-color: var(--fill-color);\n",
              "    animation:\n",
              "      spin 1s steps(1) infinite;\n",
              "  }\n",
              "\n",
              "  @keyframes spin {\n",
              "    0% {\n",
              "      border-color: transparent;\n",
              "      border-bottom-color: var(--fill-color);\n",
              "      border-left-color: var(--fill-color);\n",
              "    }\n",
              "    20% {\n",
              "      border-color: transparent;\n",
              "      border-left-color: var(--fill-color);\n",
              "      border-top-color: var(--fill-color);\n",
              "    }\n",
              "    30% {\n",
              "      border-color: transparent;\n",
              "      border-left-color: var(--fill-color);\n",
              "      border-top-color: var(--fill-color);\n",
              "      border-right-color: var(--fill-color);\n",
              "    }\n",
              "    40% {\n",
              "      border-color: transparent;\n",
              "      border-right-color: var(--fill-color);\n",
              "      border-top-color: var(--fill-color);\n",
              "    }\n",
              "    60% {\n",
              "      border-color: transparent;\n",
              "      border-right-color: var(--fill-color);\n",
              "    }\n",
              "    80% {\n",
              "      border-color: transparent;\n",
              "      border-right-color: var(--fill-color);\n",
              "      border-bottom-color: var(--fill-color);\n",
              "    }\n",
              "    90% {\n",
              "      border-color: transparent;\n",
              "      border-bottom-color: var(--fill-color);\n",
              "    }\n",
              "  }\n",
              "</style>\n",
              "\n",
              "  <script>\n",
              "    async function quickchart(key) {\n",
              "      const quickchartButtonEl =\n",
              "        document.querySelector('#' + key + ' button');\n",
              "      quickchartButtonEl.disabled = true;  // To prevent multiple clicks.\n",
              "      quickchartButtonEl.classList.add('colab-df-spinner');\n",
              "      try {\n",
              "        const charts = await google.colab.kernel.invokeFunction(\n",
              "            'suggestCharts', [key], {});\n",
              "      } catch (error) {\n",
              "        console.error('Error during call to suggestCharts:', error);\n",
              "      }\n",
              "      quickchartButtonEl.classList.remove('colab-df-spinner');\n",
              "      quickchartButtonEl.classList.add('colab-df-quickchart-complete');\n",
              "    }\n",
              "    (() => {\n",
              "      let quickchartButtonEl =\n",
              "        document.querySelector('#df-12bb5d3c-2e82-43fc-8c38-1b2438a44d26 button');\n",
              "      quickchartButtonEl.style.display =\n",
              "        google.colab.kernel.accessAllowed ? 'block' : 'none';\n",
              "    })();\n",
              "  </script>\n",
              "</div>\n",
              "\n",
              "  <div id=\"id_92db3a62-153f-4d3d-be8d-7bdb46cf4257\">\n",
              "    <style>\n",
              "      .colab-df-generate {\n",
              "        background-color: #E8F0FE;\n",
              "        border: none;\n",
              "        border-radius: 50%;\n",
              "        cursor: pointer;\n",
              "        display: none;\n",
              "        fill: #1967D2;\n",
              "        height: 32px;\n",
              "        padding: 0 0 0 0;\n",
              "        width: 32px;\n",
              "      }\n",
              "\n",
              "      .colab-df-generate:hover {\n",
              "        background-color: #E2EBFA;\n",
              "        box-shadow: 0px 1px 2px rgba(60, 64, 67, 0.3), 0px 1px 3px 1px rgba(60, 64, 67, 0.15);\n",
              "        fill: #174EA6;\n",
              "      }\n",
              "\n",
              "      [theme=dark] .colab-df-generate {\n",
              "        background-color: #3B4455;\n",
              "        fill: #D2E3FC;\n",
              "      }\n",
              "\n",
              "      [theme=dark] .colab-df-generate:hover {\n",
              "        background-color: #434B5C;\n",
              "        box-shadow: 0px 1px 3px 1px rgba(0, 0, 0, 0.15);\n",
              "        filter: drop-shadow(0px 1px 2px rgba(0, 0, 0, 0.3));\n",
              "        fill: #FFFFFF;\n",
              "      }\n",
              "    </style>\n",
              "    <button class=\"colab-df-generate\" onclick=\"generateWithVariable('results')\"\n",
              "            title=\"Generate code using this dataframe.\"\n",
              "            style=\"display:none;\">\n",
              "\n",
              "  <svg xmlns=\"http://www.w3.org/2000/svg\" height=\"24px\"viewBox=\"0 0 24 24\"\n",
              "       width=\"24px\">\n",
              "    <path d=\"M7,19H8.4L18.45,9,17,7.55,7,17.6ZM5,21V16.75L18.45,3.32a2,2,0,0,1,2.83,0l1.4,1.43a1.91,1.91,0,0,1,.58,1.4,1.91,1.91,0,0,1-.58,1.4L9.25,21ZM18.45,9,17,7.55Zm-12,3A5.31,5.31,0,0,0,4.9,8.1,5.31,5.31,0,0,0,1,6.5,5.31,5.31,0,0,0,4.9,4.9,5.31,5.31,0,0,0,6.5,1,5.31,5.31,0,0,0,8.1,4.9,5.31,5.31,0,0,0,12,6.5,5.46,5.46,0,0,0,6.5,12Z\"/>\n",
              "  </svg>\n",
              "    </button>\n",
              "    <script>\n",
              "      (() => {\n",
              "      const buttonEl =\n",
              "        document.querySelector('#id_92db3a62-153f-4d3d-be8d-7bdb46cf4257 button.colab-df-generate');\n",
              "      buttonEl.style.display =\n",
              "        google.colab.kernel.accessAllowed ? 'block' : 'none';\n",
              "\n",
              "      buttonEl.onclick = () => {\n",
              "        google.colab.notebook.generateWithVariable('results');\n",
              "      }\n",
              "      })();\n",
              "    </script>\n",
              "  </div>\n",
              "\n",
              "    </div>\n",
              "  </div>\n"
            ],
            "application/vnd.google.colaboratory.intrinsic+json": {
              "type": "dataframe",
              "variable_name": "results",
              "summary": "{\n  \"name\": \"results\",\n  \"rows\": 3,\n  \"fields\": [\n    {\n      \"column\": \"Model\",\n      \"properties\": {\n        \"dtype\": \"string\",\n        \"num_unique_values\": 3,\n        \"samples\": [\n          \"SVM\",\n          \"DT\",\n          \"RF\"\n        ],\n        \"semantic_type\": \"\",\n        \"description\": \"\"\n      }\n    },\n    {\n      \"column\": \"MSR\",\n      \"properties\": {\n        \"dtype\": \"number\",\n        \"std\": 1052783.9187555183,\n        \"min\": 1682702.4597034017,\n        \"max\": 3787712.8981378404,\n        \"num_unique_values\": 3,\n        \"samples\": [\n          3787712.8981378404,\n          2693252.5918367347,\n          1682702.4597034017\n        ],\n        \"semantic_type\": \"\",\n        \"description\": \"\"\n      }\n    },\n    {\n      \"column\": \"R2\",\n      \"properties\": {\n        \"dtype\": \"number\",\n        \"std\": 0.27221979139330155,\n        \"min\": 0.02060584644222274,\n        \"max\": 0.5649013017800197,\n        \"num_unique_values\": 3,\n        \"samples\": [\n          0.02060584644222274,\n          0.3036019589034763,\n          0.5649013017800197\n        ],\n        \"semantic_type\": \"\",\n        \"description\": \"\"\n      }\n    }\n  ]\n}"
            }
          },
          "metadata": {},
          "execution_count": 217
        }
      ]
    },
    {
      "cell_type": "markdown",
      "source": [
        "#### **Explicación de resultados**"
      ],
      "metadata": {
        "id": "5kREYvLgQMji"
      }
    },
    {
      "cell_type": "markdown",
      "source": [
        "**R.** Se tomará la máquina de vectores por tener un R2 más baja"
      ],
      "metadata": {
        "id": "9uAqZmjiQRb1"
      }
    }
  ]
}