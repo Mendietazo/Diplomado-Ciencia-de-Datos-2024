{
  "nbformat": 4,
  "nbformat_minor": 0,
  "metadata": {
    "colab": {
      "provenance": [],
      "authorship_tag": "ABX9TyMCI4S/u+WG/dxPLRDixC2f",
      "include_colab_link": true
    },
    "kernelspec": {
      "name": "python3",
      "display_name": "Python 3"
    },
    "language_info": {
      "name": "python"
    }
  },
  "cells": [
    {
      "cell_type": "markdown",
      "metadata": {
        "id": "view-in-github",
        "colab_type": "text"
      },
      "source": [
        "<a href=\"https://colab.research.google.com/github/Mendietazo/Diplomado-Ciencia-de-Datos-2024/blob/main/Notas/Lecci%C3%B3n_1.ipynb\" target=\"_parent\"><img src=\"https://colab.research.google.com/assets/colab-badge.svg\" alt=\"Open In Colab\"/></a>"
      ]
    },
    {
      "cell_type": "markdown",
      "source": [
        "# Leccion 1\n",
        "# Instrucciones básicas\n",
        "Intrucciones nuevas\n",
        "+ Para una división al estilo de C++, se toma la parte entera\n",
        "~~~\n",
        "7//3\n",
        "~~~\n",
        "+ Puedes asignar valores a varias valriables en una sola linea\n",
        "~~~\n",
        "x,y,z = 1,2,3\n",
        "~~~\n",
        "+ Puedes hacer saltos en una cadena de 2 en 2 por ejemplo\n",
        "~~~\n",
        "nombre = \"Eduardo Mendieta\"\n",
        "nombre[::2]\n",
        "~~~\n",
        "+ Puedes multiplicar una cadena n veces. Aparece la misma cadena n veces\n",
        "~~~\n",
        "nombre * n\n",
        "~~~\n",
        "+ Cambiar toda la cadena a mayusculas y minusculas\n",
        "~~~\n",
        "nombre.upper()\n",
        "nombre.lower()\n",
        "~~~\n",
        "+ Remplazar\n",
        "~~~\n",
        "nombre.replace(\"Mendieta\",\"Mendiebaby\")\n",
        "~~~\n"
      ],
      "metadata": {
        "id": "iczidkvqomRD"
      }
    },
    {
      "cell_type": "markdown",
      "source": [
        "# Estructuras de datos\n",
        "## Tuplas\n",
        "### Intrucciones que no sabía\n",
        "+ Concatenar tuplas\n",
        "~~~\n",
        "tup 1 + tup2\n",
        "~~~\n",
        "## Conjuntos\n",
        "### Intrucciones que no sabía\n",
        "+ puedes declarar un conjunto con solo llaves\n",
        "~~~\n",
        "set1 = {x,y,z}\n",
        "~~~\n",
        "## Listas\n",
        "### Intrucciones que no sabía\n",
        "+ extend concatena listas\n",
        "~~~\n",
        "lista1.extend(lista2)\n",
        "~~~\n",
        "+ del elimina un elemento de la lista\n",
        "~~~\n",
        "del(lista[3])\n",
        "~~~\n",
        "+ agrega un valor a la posición que necesites\n",
        "~~~\n",
        "list.insert(3,'f')\n",
        "~~~\n",
        "+ pop elimina un dato y lo muestra en pantalla\n",
        "~~~\n",
        "list.pop(3)\n",
        "~~~\n",
        "+ split separa una cadena en una lista, por defaul es el espacio pero puedes poner lo que quieras\n",
        "~~~\n",
        "text.split()\n",
        "~~~\n",
        "\n",
        "## Diccionario\n",
        "### Intrucciones que no sabía\n",
        "+ Update es equivalente al append en listas\n",
        "~~~\n",
        "dict.update()\n",
        "~~~\n",
        "+ pop hace lo mismo que en listas, introduce una key\n",
        "~~~\n",
        "dict.pop(key)\n",
        "~~~\n",
        "+ clear limpia el directorio\n",
        "~~~\n",
        "dict.clear()\n",
        "~~~\n",
        "+ Agregar valores dentro de un key en el diccionario\n",
        "~~~\n",
        "dict['luis'] = dict[luis].append(10)\n",
        "~~~\n",
        "+ Se pueden crear diccionarios dentro de diccionarios"
      ],
      "metadata": {
        "id": "AeuUDkjPruUP"
      }
    },
    {
      "cell_type": "markdown",
      "source": [
        "# Leccion 2"
      ],
      "metadata": {
        "id": "AMJvzwu15j8I"
      }
    },
    {
      "cell_type": "markdown",
      "source": [
        "## Condiciones\n",
        "Cosas que no sabía\n",
        "+ Para el if no es necesario poner parentésis. Pero"
      ],
      "metadata": {
        "id": "Dw6CPrKBCKoZ"
      }
    },
    {
      "cell_type": "markdown",
      "source": [
        "## Ciclos"
      ],
      "metadata": {
        "id": "Z7ShAyPvCYOq"
      }
    },
    {
      "cell_type": "markdown",
      "source": [
        "### For\n",
        "+ enumerate() te da los indices del valor\n",
        "~~~\n",
        "for i, element in enumerate(x):\n",
        "  print(f'{i} - {element}')\n",
        "~~~\n",
        "+ otra forma de imprimir\n",
        "~~~\n",
        "'Hola mi nombre es'.format(nombre)\n",
        "~~~\n",
        "+ imprimir un diccionarios con for\n",
        "~~~\n",
        "for k, v in dict.items():\n",
        "  print(k,v)\n",
        "~~~\n",
        "+ creo que esto se llama lambda\n",
        "~~~\n",
        "y =  [2 * a for a in range (7) a % 2 == 0]\n",
        "~~~\n",
        "+ break, detiene el código\n",
        "+ Uso del continue, se salta un error y se pasa a la siguiente\n",
        "~~~\n",
        "for x in range(10):\n",
        "  if(x == 3)\n",
        "    continue\n",
        "  print(x)\n",
        "~~~\n",
        "+ uso del pass, es como dejar una linea vacía en los condicionales\n",
        "~~~\n",
        "for x in range(10):\n",
        "  if(x == 3)\n",
        "    pass\n",
        "  else:\n",
        "    print(x)\n",
        "~~~"
      ],
      "metadata": {
        "id": "slAkE1wS5o6h"
      }
    },
    {
      "cell_type": "markdown",
      "source": [
        "### While\n",
        "Cosas que no sabía\n",
        "~~~\n",
        "x = 0\n",
        "while (x < 10):\n",
        "  print(x)\n",
        "  x += 1\n",
        "~~~"
      ],
      "metadata": {
        "id": "0JzX6PJlCGqO"
      }
    },
    {
      "cell_type": "markdown",
      "source": [
        "## Funciones\n",
        "Cosas que antes no sabía.\n",
        "+ Puedes agregar valores fijos\n",
        "~~~\n",
        "def mult_1(a, b = 5):\n",
        "  return a * b\n",
        "~~~\n",
        "+ Cuando no sabes la cantidad de elementos\n",
        "~~~\n",
        "  def names(*n):\n",
        "    for name in n:\n",
        "      print(n)\n",
        "~~~"
      ],
      "metadata": {
        "id": "yHCa8EhcDRtu"
      }
    },
    {
      "cell_type": "markdown",
      "source": [
        "## Funciones Lambda\n",
        "Son funciones que necesitas realizar rápido\n",
        "~~~\n",
        "suma = lambda x, y, z: x + y +z\n",
        "~~~\n",
        "usando la función map y list\n",
        "~~~\n",
        "numeros = list(map(lambda x: x**2, numeros))\n",
        "~~~\n",
        "Uso de la función filter. Se escoge números dada una condición.\n",
        "~~~\n",
        "numeros_3 = list(filter(lambda x: x%2 == 1, numeros))\n",
        "~~~"
      ],
      "metadata": {
        "id": "EL9XfhqjGOxG"
      }
    },
    {
      "cell_type": "code",
      "source": [
        "suma = lambda x, y, z: x + y +z\n",
        "suma(2,3,4)"
      ],
      "metadata": {
        "colab": {
          "base_uri": "https://localhost:8080/"
        },
        "id": "Bx-jnsRps88D",
        "outputId": "4a9bbf5e-6579-4d14-afd8-6d47bfdded99"
      },
      "execution_count": null,
      "outputs": [
        {
          "output_type": "execute_result",
          "data": {
            "text/plain": [
              "9"
            ]
          },
          "metadata": {},
          "execution_count": 11
        }
      ]
    },
    {
      "cell_type": "code",
      "source": [
        "help(append)"
      ],
      "metadata": {
        "colab": {
          "base_uri": "https://localhost:8080/",
          "height": 141
        },
        "id": "DQb6qxRNv0Uu",
        "outputId": "bbc93529-9dd8-407a-b2cc-63ce9ac1e58f"
      },
      "execution_count": 2,
      "outputs": [
        {
          "output_type": "error",
          "ename": "NameError",
          "evalue": "name 'append' is not defined",
          "traceback": [
            "\u001b[0;31m---------------------------------------------------------------------------\u001b[0m",
            "\u001b[0;31mNameError\u001b[0m                                 Traceback (most recent call last)",
            "\u001b[0;32m<ipython-input-2-0b77908b9346>\u001b[0m in \u001b[0;36m<cell line: 1>\u001b[0;34m()\u001b[0m\n\u001b[0;32m----> 1\u001b[0;31m \u001b[0mhelp\u001b[0m\u001b[0;34m(\u001b[0m\u001b[0mappend\u001b[0m\u001b[0;34m)\u001b[0m\u001b[0;34m\u001b[0m\u001b[0;34m\u001b[0m\u001b[0m\n\u001b[0m",
            "\u001b[0;31mNameError\u001b[0m: name 'append' is not defined"
          ]
        }
      ]
    },
    {
      "cell_type": "code",
      "source": [
        "print(\"Hola Mundo\")"
      ],
      "metadata": {
        "id": "zSBR7T3vwb-Z",
        "colab": {
          "base_uri": "https://localhost:8080/"
        },
        "outputId": "daa672ff-a279-4e3a-bedf-9c24c2e7bdf4"
      },
      "execution_count": 3,
      "outputs": [
        {
          "output_type": "stream",
          "name": "stdout",
          "text": [
            "Hola Mundo\n"
          ]
        }
      ]
    },
    {
      "cell_type": "code",
      "source": [],
      "metadata": {
        "id": "fX-xxPe9-5M4"
      },
      "execution_count": null,
      "outputs": []
    }
  ]
}